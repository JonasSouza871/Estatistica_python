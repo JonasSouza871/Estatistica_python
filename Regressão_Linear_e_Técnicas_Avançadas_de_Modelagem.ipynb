{
  "nbformat": 4,
  "nbformat_minor": 0,
  "metadata": {
    "colab": {
      "provenance": [],
      "authorship_tag": "ABX9TyM+wlqHDi9k05GG36MXTjwB",
      "include_colab_link": true
    },
    "kernelspec": {
      "name": "python3",
      "display_name": "Python 3"
    },
    "language_info": {
      "name": "python"
    }
  },
  "cells": [
    {
      "cell_type": "markdown",
      "metadata": {
        "id": "view-in-github",
        "colab_type": "text"
      },
      "source": [
        "<a href=\"https://colab.research.google.com/github/JonasSouza871/Estatistica_python/blob/main/Regress%C3%A3o_Linear_e_T%C3%A9cnicas_Avan%C3%A7adas_de_Modelagem.ipynb\" target=\"_parent\"><img src=\"https://colab.research.google.com/assets/colab-badge.svg\" alt=\"Open In Colab\"/></a>"
      ]
    },
    {
      "cell_type": "markdown",
      "source": [
        "# 1. Análises preliminares\n",
        "\n",
        "--------"
      ],
      "metadata": {
        "id": "0FR5DejCSjP8"
      }
    },
    {
      "cell_type": "markdown",
      "source": [
        "## 1.1.Conhecendo o dataset\n",
        "\n",
        "----------"
      ],
      "metadata": {
        "id": "Y3H9EwpsYDqm"
      }
    },
    {
      "cell_type": "code",
      "source": [
        "import pandas as pd\n",
        "import numpy as np\n",
        "import matplotlib.pyplot as plt\n",
        "import seaborn as sns\n",
        "import statsmodels.api as sm\n",
        "from sklearn.linear_model import LinearRegression\n",
        "from sklearn.model_selection import train_test_split\n",
        "from sklearn.metrics import r2_score"
      ],
      "metadata": {
        "id": "TW4wZruGYSSa"
      },
      "execution_count": 1,
      "outputs": []
    },
    {
      "cell_type": "code",
      "execution_count": 2,
      "metadata": {
        "colab": {
          "base_uri": "https://localhost:8080/",
          "height": 206
        },
        "id": "TDriZ3VoSc9G",
        "outputId": "72bdafd1-4d78-468d-ca94-17c93663754b"
      },
      "outputs": [
        {
          "output_type": "execute_result",
          "data": {
            "text/plain": [
              "     Valor  Area  Dist_Praia  Dist_Farmacia\n",
              "0  4600000   280    0.240925       0.793637\n",
              "1   900000   208    0.904136       0.134494\n",
              "2  2550000   170    0.059525       0.423318\n",
              "3   550000   100    2.883181       0.525064\n",
              "4  2200000   164    0.239758       0.192374"
            ],
            "text/html": [
              "\n",
              "  <div id=\"df-8af9a37e-9734-46c0-8e03-256729ddd1b2\" class=\"colab-df-container\">\n",
              "    <div>\n",
              "<style scoped>\n",
              "    .dataframe tbody tr th:only-of-type {\n",
              "        vertical-align: middle;\n",
              "    }\n",
              "\n",
              "    .dataframe tbody tr th {\n",
              "        vertical-align: top;\n",
              "    }\n",
              "\n",
              "    .dataframe thead th {\n",
              "        text-align: right;\n",
              "    }\n",
              "</style>\n",
              "<table border=\"1\" class=\"dataframe\">\n",
              "  <thead>\n",
              "    <tr style=\"text-align: right;\">\n",
              "      <th></th>\n",
              "      <th>Valor</th>\n",
              "      <th>Area</th>\n",
              "      <th>Dist_Praia</th>\n",
              "      <th>Dist_Farmacia</th>\n",
              "    </tr>\n",
              "  </thead>\n",
              "  <tbody>\n",
              "    <tr>\n",
              "      <th>0</th>\n",
              "      <td>4600000</td>\n",
              "      <td>280</td>\n",
              "      <td>0.240925</td>\n",
              "      <td>0.793637</td>\n",
              "    </tr>\n",
              "    <tr>\n",
              "      <th>1</th>\n",
              "      <td>900000</td>\n",
              "      <td>208</td>\n",
              "      <td>0.904136</td>\n",
              "      <td>0.134494</td>\n",
              "    </tr>\n",
              "    <tr>\n",
              "      <th>2</th>\n",
              "      <td>2550000</td>\n",
              "      <td>170</td>\n",
              "      <td>0.059525</td>\n",
              "      <td>0.423318</td>\n",
              "    </tr>\n",
              "    <tr>\n",
              "      <th>3</th>\n",
              "      <td>550000</td>\n",
              "      <td>100</td>\n",
              "      <td>2.883181</td>\n",
              "      <td>0.525064</td>\n",
              "    </tr>\n",
              "    <tr>\n",
              "      <th>4</th>\n",
              "      <td>2200000</td>\n",
              "      <td>164</td>\n",
              "      <td>0.239758</td>\n",
              "      <td>0.192374</td>\n",
              "    </tr>\n",
              "  </tbody>\n",
              "</table>\n",
              "</div>\n",
              "    <div class=\"colab-df-buttons\">\n",
              "\n",
              "  <div class=\"colab-df-container\">\n",
              "    <button class=\"colab-df-convert\" onclick=\"convertToInteractive('df-8af9a37e-9734-46c0-8e03-256729ddd1b2')\"\n",
              "            title=\"Convert this dataframe to an interactive table.\"\n",
              "            style=\"display:none;\">\n",
              "\n",
              "  <svg xmlns=\"http://www.w3.org/2000/svg\" height=\"24px\" viewBox=\"0 -960 960 960\">\n",
              "    <path d=\"M120-120v-720h720v720H120Zm60-500h600v-160H180v160Zm220 220h160v-160H400v160Zm0 220h160v-160H400v160ZM180-400h160v-160H180v160Zm440 0h160v-160H620v160ZM180-180h160v-160H180v160Zm440 0h160v-160H620v160Z\"/>\n",
              "  </svg>\n",
              "    </button>\n",
              "\n",
              "  <style>\n",
              "    .colab-df-container {\n",
              "      display:flex;\n",
              "      gap: 12px;\n",
              "    }\n",
              "\n",
              "    .colab-df-convert {\n",
              "      background-color: #E8F0FE;\n",
              "      border: none;\n",
              "      border-radius: 50%;\n",
              "      cursor: pointer;\n",
              "      display: none;\n",
              "      fill: #1967D2;\n",
              "      height: 32px;\n",
              "      padding: 0 0 0 0;\n",
              "      width: 32px;\n",
              "    }\n",
              "\n",
              "    .colab-df-convert:hover {\n",
              "      background-color: #E2EBFA;\n",
              "      box-shadow: 0px 1px 2px rgba(60, 64, 67, 0.3), 0px 1px 3px 1px rgba(60, 64, 67, 0.15);\n",
              "      fill: #174EA6;\n",
              "    }\n",
              "\n",
              "    .colab-df-buttons div {\n",
              "      margin-bottom: 4px;\n",
              "    }\n",
              "\n",
              "    [theme=dark] .colab-df-convert {\n",
              "      background-color: #3B4455;\n",
              "      fill: #D2E3FC;\n",
              "    }\n",
              "\n",
              "    [theme=dark] .colab-df-convert:hover {\n",
              "      background-color: #434B5C;\n",
              "      box-shadow: 0px 1px 3px 1px rgba(0, 0, 0, 0.15);\n",
              "      filter: drop-shadow(0px 1px 2px rgba(0, 0, 0, 0.3));\n",
              "      fill: #FFFFFF;\n",
              "    }\n",
              "  </style>\n",
              "\n",
              "    <script>\n",
              "      const buttonEl =\n",
              "        document.querySelector('#df-8af9a37e-9734-46c0-8e03-256729ddd1b2 button.colab-df-convert');\n",
              "      buttonEl.style.display =\n",
              "        google.colab.kernel.accessAllowed ? 'block' : 'none';\n",
              "\n",
              "      async function convertToInteractive(key) {\n",
              "        const element = document.querySelector('#df-8af9a37e-9734-46c0-8e03-256729ddd1b2');\n",
              "        const dataTable =\n",
              "          await google.colab.kernel.invokeFunction('convertToInteractive',\n",
              "                                                    [key], {});\n",
              "        if (!dataTable) return;\n",
              "\n",
              "        const docLinkHtml = 'Like what you see? Visit the ' +\n",
              "          '<a target=\"_blank\" href=https://colab.research.google.com/notebooks/data_table.ipynb>data table notebook</a>'\n",
              "          + ' to learn more about interactive tables.';\n",
              "        element.innerHTML = '';\n",
              "        dataTable['output_type'] = 'display_data';\n",
              "        await google.colab.output.renderOutput(dataTable, element);\n",
              "        const docLink = document.createElement('div');\n",
              "        docLink.innerHTML = docLinkHtml;\n",
              "        element.appendChild(docLink);\n",
              "      }\n",
              "    </script>\n",
              "  </div>\n",
              "\n",
              "\n",
              "    <div id=\"df-783ae0c1-79ba-494b-83ad-e6aad60dc1e0\">\n",
              "      <button class=\"colab-df-quickchart\" onclick=\"quickchart('df-783ae0c1-79ba-494b-83ad-e6aad60dc1e0')\"\n",
              "                title=\"Suggest charts\"\n",
              "                style=\"display:none;\">\n",
              "\n",
              "<svg xmlns=\"http://www.w3.org/2000/svg\" height=\"24px\"viewBox=\"0 0 24 24\"\n",
              "     width=\"24px\">\n",
              "    <g>\n",
              "        <path d=\"M19 3H5c-1.1 0-2 .9-2 2v14c0 1.1.9 2 2 2h14c1.1 0 2-.9 2-2V5c0-1.1-.9-2-2-2zM9 17H7v-7h2v7zm4 0h-2V7h2v10zm4 0h-2v-4h2v4z\"/>\n",
              "    </g>\n",
              "</svg>\n",
              "      </button>\n",
              "\n",
              "<style>\n",
              "  .colab-df-quickchart {\n",
              "      --bg-color: #E8F0FE;\n",
              "      --fill-color: #1967D2;\n",
              "      --hover-bg-color: #E2EBFA;\n",
              "      --hover-fill-color: #174EA6;\n",
              "      --disabled-fill-color: #AAA;\n",
              "      --disabled-bg-color: #DDD;\n",
              "  }\n",
              "\n",
              "  [theme=dark] .colab-df-quickchart {\n",
              "      --bg-color: #3B4455;\n",
              "      --fill-color: #D2E3FC;\n",
              "      --hover-bg-color: #434B5C;\n",
              "      --hover-fill-color: #FFFFFF;\n",
              "      --disabled-bg-color: #3B4455;\n",
              "      --disabled-fill-color: #666;\n",
              "  }\n",
              "\n",
              "  .colab-df-quickchart {\n",
              "    background-color: var(--bg-color);\n",
              "    border: none;\n",
              "    border-radius: 50%;\n",
              "    cursor: pointer;\n",
              "    display: none;\n",
              "    fill: var(--fill-color);\n",
              "    height: 32px;\n",
              "    padding: 0;\n",
              "    width: 32px;\n",
              "  }\n",
              "\n",
              "  .colab-df-quickchart:hover {\n",
              "    background-color: var(--hover-bg-color);\n",
              "    box-shadow: 0 1px 2px rgba(60, 64, 67, 0.3), 0 1px 3px 1px rgba(60, 64, 67, 0.15);\n",
              "    fill: var(--button-hover-fill-color);\n",
              "  }\n",
              "\n",
              "  .colab-df-quickchart-complete:disabled,\n",
              "  .colab-df-quickchart-complete:disabled:hover {\n",
              "    background-color: var(--disabled-bg-color);\n",
              "    fill: var(--disabled-fill-color);\n",
              "    box-shadow: none;\n",
              "  }\n",
              "\n",
              "  .colab-df-spinner {\n",
              "    border: 2px solid var(--fill-color);\n",
              "    border-color: transparent;\n",
              "    border-bottom-color: var(--fill-color);\n",
              "    animation:\n",
              "      spin 1s steps(1) infinite;\n",
              "  }\n",
              "\n",
              "  @keyframes spin {\n",
              "    0% {\n",
              "      border-color: transparent;\n",
              "      border-bottom-color: var(--fill-color);\n",
              "      border-left-color: var(--fill-color);\n",
              "    }\n",
              "    20% {\n",
              "      border-color: transparent;\n",
              "      border-left-color: var(--fill-color);\n",
              "      border-top-color: var(--fill-color);\n",
              "    }\n",
              "    30% {\n",
              "      border-color: transparent;\n",
              "      border-left-color: var(--fill-color);\n",
              "      border-top-color: var(--fill-color);\n",
              "      border-right-color: var(--fill-color);\n",
              "    }\n",
              "    40% {\n",
              "      border-color: transparent;\n",
              "      border-right-color: var(--fill-color);\n",
              "      border-top-color: var(--fill-color);\n",
              "    }\n",
              "    60% {\n",
              "      border-color: transparent;\n",
              "      border-right-color: var(--fill-color);\n",
              "    }\n",
              "    80% {\n",
              "      border-color: transparent;\n",
              "      border-right-color: var(--fill-color);\n",
              "      border-bottom-color: var(--fill-color);\n",
              "    }\n",
              "    90% {\n",
              "      border-color: transparent;\n",
              "      border-bottom-color: var(--fill-color);\n",
              "    }\n",
              "  }\n",
              "</style>\n",
              "\n",
              "      <script>\n",
              "        async function quickchart(key) {\n",
              "          const quickchartButtonEl =\n",
              "            document.querySelector('#' + key + ' button');\n",
              "          quickchartButtonEl.disabled = true;  // To prevent multiple clicks.\n",
              "          quickchartButtonEl.classList.add('colab-df-spinner');\n",
              "          try {\n",
              "            const charts = await google.colab.kernel.invokeFunction(\n",
              "                'suggestCharts', [key], {});\n",
              "          } catch (error) {\n",
              "            console.error('Error during call to suggestCharts:', error);\n",
              "          }\n",
              "          quickchartButtonEl.classList.remove('colab-df-spinner');\n",
              "          quickchartButtonEl.classList.add('colab-df-quickchart-complete');\n",
              "        }\n",
              "        (() => {\n",
              "          let quickchartButtonEl =\n",
              "            document.querySelector('#df-783ae0c1-79ba-494b-83ad-e6aad60dc1e0 button');\n",
              "          quickchartButtonEl.style.display =\n",
              "            google.colab.kernel.accessAllowed ? 'block' : 'none';\n",
              "        })();\n",
              "      </script>\n",
              "    </div>\n",
              "\n",
              "    </div>\n",
              "  </div>\n"
            ],
            "application/vnd.google.colaboratory.intrinsic+json": {
              "type": "dataframe",
              "variable_name": "dados",
              "summary": "{\n  \"name\": \"dados\",\n  \"rows\": 5000,\n  \"fields\": [\n    {\n      \"column\": \"Valor\",\n      \"properties\": {\n        \"dtype\": \"number\",\n        \"std\": 1883268,\n        \"min\": 75000,\n        \"max\": 25000000,\n        \"num_unique_values\": 953,\n        \"samples\": [\n          416700,\n          611000,\n          749993\n        ],\n        \"semantic_type\": \"\",\n        \"description\": \"\"\n      }\n    },\n    {\n      \"column\": \"Area\",\n      \"properties\": {\n        \"dtype\": \"number\",\n        \"std\": 90,\n        \"min\": 16,\n        \"max\": 2000,\n        \"num_unique_values\": 373,\n        \"samples\": [\n          271,\n          58,\n          68\n        ],\n        \"semantic_type\": \"\",\n        \"description\": \"\"\n      }\n    },\n    {\n      \"column\": \"Dist_Praia\",\n      \"properties\": {\n        \"dtype\": \"number\",\n        \"std\": 3.1709334324867244,\n        \"min\": 0.0,\n        \"max\": 17.96294163,\n        \"num_unique_values\": 3939,\n        \"samples\": [\n          6.512606561,\n          0.424775074,\n          7.754492232\n        ],\n        \"semantic_type\": \"\",\n        \"description\": \"\"\n      }\n    },\n    {\n      \"column\": \"Dist_Farmacia\",\n      \"properties\": {\n        \"dtype\": \"number\",\n        \"std\": 0.29135525501120335,\n        \"min\": 0.000331,\n        \"max\": 0.999987,\n        \"num_unique_values\": 4985,\n        \"samples\": [\n          0.158166,\n          0.935756,\n          0.289517\n        ],\n        \"semantic_type\": \"\",\n        \"description\": \"\"\n      }\n    }\n  ]\n}"
            }
          },
          "metadata": {},
          "execution_count": 2
        }
      ],
      "source": [
        "dados = pd.read_csv(\"dataset.csv\", sep=\";\")\n",
        "dados.head()"
      ]
    },
    {
      "cell_type": "markdown",
      "source": [
        "- Valor de oferta do imovel\n",
        "- Area (metro quadrado)\n",
        "- Distância Praia (km)\n",
        "- Distância farmácia (km)"
      ],
      "metadata": {
        "id": "52HQZRwJYouF"
      }
    },
    {
      "cell_type": "code",
      "source": [
        "dados.shape #O dataset possui 5000 imoveis cadastrados."
      ],
      "metadata": {
        "colab": {
          "base_uri": "https://localhost:8080/"
        },
        "id": "hlzaZscQY0fM",
        "outputId": "8af3ce25-fc4d-4982-e246-51949af4cbac"
      },
      "execution_count": 3,
      "outputs": [
        {
          "output_type": "execute_result",
          "data": {
            "text/plain": [
              "(5000, 4)"
            ]
          },
          "metadata": {},
          "execution_count": 3
        }
      ]
    },
    {
      "cell_type": "markdown",
      "source": [
        "- O projeto deverá ser feito para que um modelo consiga prever o valor de um imóvel apartir das variáveis."
      ],
      "metadata": {
        "id": "fNssu9y7Y-id"
      }
    },
    {
      "cell_type": "markdown",
      "source": [
        "## 1.2. Análise preliminares\n",
        "\n",
        "---------------"
      ],
      "metadata": {
        "id": "Pmq1aKAlZcRc"
      }
    },
    {
      "cell_type": "code",
      "source": [
        "dados.describe() #informações dos dados"
      ],
      "metadata": {
        "colab": {
          "base_uri": "https://localhost:8080/",
          "height": 300
        },
        "id": "i1j8DLMIZGRF",
        "outputId": "67e5055f-b557-4667-ab6b-b7060b775883"
      },
      "execution_count": 4,
      "outputs": [
        {
          "output_type": "execute_result",
          "data": {
            "text/plain": [
              "              Valor         Area   Dist_Praia  Dist_Farmacia\n",
              "count  5.000000e+03  5000.000000  5000.000000    5000.000000\n",
              "mean   1.402926e+06   121.944800     3.021920       0.497160\n",
              "std    1.883269e+06    90.536969     3.170933       0.291355\n",
              "min    7.500000e+04    16.000000     0.000000       0.000331\n",
              "25%    4.600000e+05    70.000000     0.438417       0.238640\n",
              "50%    8.200000e+05    93.000000     1.476958       0.503260\n",
              "75%    1.590000e+06   146.000000     5.605379       0.747737\n",
              "max    2.500000e+07  2000.000000    17.962942       0.999987"
            ],
            "text/html": [
              "\n",
              "  <div id=\"df-5bd664ea-ecdd-4963-a425-ef35b466d554\" class=\"colab-df-container\">\n",
              "    <div>\n",
              "<style scoped>\n",
              "    .dataframe tbody tr th:only-of-type {\n",
              "        vertical-align: middle;\n",
              "    }\n",
              "\n",
              "    .dataframe tbody tr th {\n",
              "        vertical-align: top;\n",
              "    }\n",
              "\n",
              "    .dataframe thead th {\n",
              "        text-align: right;\n",
              "    }\n",
              "</style>\n",
              "<table border=\"1\" class=\"dataframe\">\n",
              "  <thead>\n",
              "    <tr style=\"text-align: right;\">\n",
              "      <th></th>\n",
              "      <th>Valor</th>\n",
              "      <th>Area</th>\n",
              "      <th>Dist_Praia</th>\n",
              "      <th>Dist_Farmacia</th>\n",
              "    </tr>\n",
              "  </thead>\n",
              "  <tbody>\n",
              "    <tr>\n",
              "      <th>count</th>\n",
              "      <td>5.000000e+03</td>\n",
              "      <td>5000.000000</td>\n",
              "      <td>5000.000000</td>\n",
              "      <td>5000.000000</td>\n",
              "    </tr>\n",
              "    <tr>\n",
              "      <th>mean</th>\n",
              "      <td>1.402926e+06</td>\n",
              "      <td>121.944800</td>\n",
              "      <td>3.021920</td>\n",
              "      <td>0.497160</td>\n",
              "    </tr>\n",
              "    <tr>\n",
              "      <th>std</th>\n",
              "      <td>1.883269e+06</td>\n",
              "      <td>90.536969</td>\n",
              "      <td>3.170933</td>\n",
              "      <td>0.291355</td>\n",
              "    </tr>\n",
              "    <tr>\n",
              "      <th>min</th>\n",
              "      <td>7.500000e+04</td>\n",
              "      <td>16.000000</td>\n",
              "      <td>0.000000</td>\n",
              "      <td>0.000331</td>\n",
              "    </tr>\n",
              "    <tr>\n",
              "      <th>25%</th>\n",
              "      <td>4.600000e+05</td>\n",
              "      <td>70.000000</td>\n",
              "      <td>0.438417</td>\n",
              "      <td>0.238640</td>\n",
              "    </tr>\n",
              "    <tr>\n",
              "      <th>50%</th>\n",
              "      <td>8.200000e+05</td>\n",
              "      <td>93.000000</td>\n",
              "      <td>1.476958</td>\n",
              "      <td>0.503260</td>\n",
              "    </tr>\n",
              "    <tr>\n",
              "      <th>75%</th>\n",
              "      <td>1.590000e+06</td>\n",
              "      <td>146.000000</td>\n",
              "      <td>5.605379</td>\n",
              "      <td>0.747737</td>\n",
              "    </tr>\n",
              "    <tr>\n",
              "      <th>max</th>\n",
              "      <td>2.500000e+07</td>\n",
              "      <td>2000.000000</td>\n",
              "      <td>17.962942</td>\n",
              "      <td>0.999987</td>\n",
              "    </tr>\n",
              "  </tbody>\n",
              "</table>\n",
              "</div>\n",
              "    <div class=\"colab-df-buttons\">\n",
              "\n",
              "  <div class=\"colab-df-container\">\n",
              "    <button class=\"colab-df-convert\" onclick=\"convertToInteractive('df-5bd664ea-ecdd-4963-a425-ef35b466d554')\"\n",
              "            title=\"Convert this dataframe to an interactive table.\"\n",
              "            style=\"display:none;\">\n",
              "\n",
              "  <svg xmlns=\"http://www.w3.org/2000/svg\" height=\"24px\" viewBox=\"0 -960 960 960\">\n",
              "    <path d=\"M120-120v-720h720v720H120Zm60-500h600v-160H180v160Zm220 220h160v-160H400v160Zm0 220h160v-160H400v160ZM180-400h160v-160H180v160Zm440 0h160v-160H620v160ZM180-180h160v-160H180v160Zm440 0h160v-160H620v160Z\"/>\n",
              "  </svg>\n",
              "    </button>\n",
              "\n",
              "  <style>\n",
              "    .colab-df-container {\n",
              "      display:flex;\n",
              "      gap: 12px;\n",
              "    }\n",
              "\n",
              "    .colab-df-convert {\n",
              "      background-color: #E8F0FE;\n",
              "      border: none;\n",
              "      border-radius: 50%;\n",
              "      cursor: pointer;\n",
              "      display: none;\n",
              "      fill: #1967D2;\n",
              "      height: 32px;\n",
              "      padding: 0 0 0 0;\n",
              "      width: 32px;\n",
              "    }\n",
              "\n",
              "    .colab-df-convert:hover {\n",
              "      background-color: #E2EBFA;\n",
              "      box-shadow: 0px 1px 2px rgba(60, 64, 67, 0.3), 0px 1px 3px 1px rgba(60, 64, 67, 0.15);\n",
              "      fill: #174EA6;\n",
              "    }\n",
              "\n",
              "    .colab-df-buttons div {\n",
              "      margin-bottom: 4px;\n",
              "    }\n",
              "\n",
              "    [theme=dark] .colab-df-convert {\n",
              "      background-color: #3B4455;\n",
              "      fill: #D2E3FC;\n",
              "    }\n",
              "\n",
              "    [theme=dark] .colab-df-convert:hover {\n",
              "      background-color: #434B5C;\n",
              "      box-shadow: 0px 1px 3px 1px rgba(0, 0, 0, 0.15);\n",
              "      filter: drop-shadow(0px 1px 2px rgba(0, 0, 0, 0.3));\n",
              "      fill: #FFFFFF;\n",
              "    }\n",
              "  </style>\n",
              "\n",
              "    <script>\n",
              "      const buttonEl =\n",
              "        document.querySelector('#df-5bd664ea-ecdd-4963-a425-ef35b466d554 button.colab-df-convert');\n",
              "      buttonEl.style.display =\n",
              "        google.colab.kernel.accessAllowed ? 'block' : 'none';\n",
              "\n",
              "      async function convertToInteractive(key) {\n",
              "        const element = document.querySelector('#df-5bd664ea-ecdd-4963-a425-ef35b466d554');\n",
              "        const dataTable =\n",
              "          await google.colab.kernel.invokeFunction('convertToInteractive',\n",
              "                                                    [key], {});\n",
              "        if (!dataTable) return;\n",
              "\n",
              "        const docLinkHtml = 'Like what you see? Visit the ' +\n",
              "          '<a target=\"_blank\" href=https://colab.research.google.com/notebooks/data_table.ipynb>data table notebook</a>'\n",
              "          + ' to learn more about interactive tables.';\n",
              "        element.innerHTML = '';\n",
              "        dataTable['output_type'] = 'display_data';\n",
              "        await google.colab.output.renderOutput(dataTable, element);\n",
              "        const docLink = document.createElement('div');\n",
              "        docLink.innerHTML = docLinkHtml;\n",
              "        element.appendChild(docLink);\n",
              "      }\n",
              "    </script>\n",
              "  </div>\n",
              "\n",
              "\n",
              "    <div id=\"df-6cd194b5-9c36-4b26-9917-cd2aa57918c9\">\n",
              "      <button class=\"colab-df-quickchart\" onclick=\"quickchart('df-6cd194b5-9c36-4b26-9917-cd2aa57918c9')\"\n",
              "                title=\"Suggest charts\"\n",
              "                style=\"display:none;\">\n",
              "\n",
              "<svg xmlns=\"http://www.w3.org/2000/svg\" height=\"24px\"viewBox=\"0 0 24 24\"\n",
              "     width=\"24px\">\n",
              "    <g>\n",
              "        <path d=\"M19 3H5c-1.1 0-2 .9-2 2v14c0 1.1.9 2 2 2h14c1.1 0 2-.9 2-2V5c0-1.1-.9-2-2-2zM9 17H7v-7h2v7zm4 0h-2V7h2v10zm4 0h-2v-4h2v4z\"/>\n",
              "    </g>\n",
              "</svg>\n",
              "      </button>\n",
              "\n",
              "<style>\n",
              "  .colab-df-quickchart {\n",
              "      --bg-color: #E8F0FE;\n",
              "      --fill-color: #1967D2;\n",
              "      --hover-bg-color: #E2EBFA;\n",
              "      --hover-fill-color: #174EA6;\n",
              "      --disabled-fill-color: #AAA;\n",
              "      --disabled-bg-color: #DDD;\n",
              "  }\n",
              "\n",
              "  [theme=dark] .colab-df-quickchart {\n",
              "      --bg-color: #3B4455;\n",
              "      --fill-color: #D2E3FC;\n",
              "      --hover-bg-color: #434B5C;\n",
              "      --hover-fill-color: #FFFFFF;\n",
              "      --disabled-bg-color: #3B4455;\n",
              "      --disabled-fill-color: #666;\n",
              "  }\n",
              "\n",
              "  .colab-df-quickchart {\n",
              "    background-color: var(--bg-color);\n",
              "    border: none;\n",
              "    border-radius: 50%;\n",
              "    cursor: pointer;\n",
              "    display: none;\n",
              "    fill: var(--fill-color);\n",
              "    height: 32px;\n",
              "    padding: 0;\n",
              "    width: 32px;\n",
              "  }\n",
              "\n",
              "  .colab-df-quickchart:hover {\n",
              "    background-color: var(--hover-bg-color);\n",
              "    box-shadow: 0 1px 2px rgba(60, 64, 67, 0.3), 0 1px 3px 1px rgba(60, 64, 67, 0.15);\n",
              "    fill: var(--button-hover-fill-color);\n",
              "  }\n",
              "\n",
              "  .colab-df-quickchart-complete:disabled,\n",
              "  .colab-df-quickchart-complete:disabled:hover {\n",
              "    background-color: var(--disabled-bg-color);\n",
              "    fill: var(--disabled-fill-color);\n",
              "    box-shadow: none;\n",
              "  }\n",
              "\n",
              "  .colab-df-spinner {\n",
              "    border: 2px solid var(--fill-color);\n",
              "    border-color: transparent;\n",
              "    border-bottom-color: var(--fill-color);\n",
              "    animation:\n",
              "      spin 1s steps(1) infinite;\n",
              "  }\n",
              "\n",
              "  @keyframes spin {\n",
              "    0% {\n",
              "      border-color: transparent;\n",
              "      border-bottom-color: var(--fill-color);\n",
              "      border-left-color: var(--fill-color);\n",
              "    }\n",
              "    20% {\n",
              "      border-color: transparent;\n",
              "      border-left-color: var(--fill-color);\n",
              "      border-top-color: var(--fill-color);\n",
              "    }\n",
              "    30% {\n",
              "      border-color: transparent;\n",
              "      border-left-color: var(--fill-color);\n",
              "      border-top-color: var(--fill-color);\n",
              "      border-right-color: var(--fill-color);\n",
              "    }\n",
              "    40% {\n",
              "      border-color: transparent;\n",
              "      border-right-color: var(--fill-color);\n",
              "      border-top-color: var(--fill-color);\n",
              "    }\n",
              "    60% {\n",
              "      border-color: transparent;\n",
              "      border-right-color: var(--fill-color);\n",
              "    }\n",
              "    80% {\n",
              "      border-color: transparent;\n",
              "      border-right-color: var(--fill-color);\n",
              "      border-bottom-color: var(--fill-color);\n",
              "    }\n",
              "    90% {\n",
              "      border-color: transparent;\n",
              "      border-bottom-color: var(--fill-color);\n",
              "    }\n",
              "  }\n",
              "</style>\n",
              "\n",
              "      <script>\n",
              "        async function quickchart(key) {\n",
              "          const quickchartButtonEl =\n",
              "            document.querySelector('#' + key + ' button');\n",
              "          quickchartButtonEl.disabled = true;  // To prevent multiple clicks.\n",
              "          quickchartButtonEl.classList.add('colab-df-spinner');\n",
              "          try {\n",
              "            const charts = await google.colab.kernel.invokeFunction(\n",
              "                'suggestCharts', [key], {});\n",
              "          } catch (error) {\n",
              "            console.error('Error during call to suggestCharts:', error);\n",
              "          }\n",
              "          quickchartButtonEl.classList.remove('colab-df-spinner');\n",
              "          quickchartButtonEl.classList.add('colab-df-quickchart-complete');\n",
              "        }\n",
              "        (() => {\n",
              "          let quickchartButtonEl =\n",
              "            document.querySelector('#df-6cd194b5-9c36-4b26-9917-cd2aa57918c9 button');\n",
              "          quickchartButtonEl.style.display =\n",
              "            google.colab.kernel.accessAllowed ? 'block' : 'none';\n",
              "        })();\n",
              "      </script>\n",
              "    </div>\n",
              "\n",
              "    </div>\n",
              "  </div>\n"
            ],
            "application/vnd.google.colaboratory.intrinsic+json": {
              "type": "dataframe",
              "summary": "{\n  \"name\": \"dados\",\n  \"rows\": 8,\n  \"fields\": [\n    {\n      \"column\": \"Valor\",\n      \"properties\": {\n        \"dtype\": \"number\",\n        \"std\": 8552110.57810453,\n        \"min\": 5000.0,\n        \"max\": 25000000.0,\n        \"num_unique_values\": 8,\n        \"samples\": [\n          1402926.3932,\n          820000.0,\n          5000.0\n        ],\n        \"semantic_type\": \"\",\n        \"description\": \"\"\n      }\n    },\n    {\n      \"column\": \"Area\",\n      \"properties\": {\n        \"dtype\": \"number\",\n        \"std\": 1771.0563655580322,\n        \"min\": 16.0,\n        \"max\": 5000.0,\n        \"num_unique_values\": 8,\n        \"samples\": [\n          121.9448,\n          93.0,\n          5000.0\n        ],\n        \"semantic_type\": \"\",\n        \"description\": \"\"\n      }\n    },\n    {\n      \"column\": \"Dist_Praia\",\n      \"properties\": {\n        \"dtype\": \"number\",\n        \"std\": 1766.176440652377,\n        \"min\": 0.0,\n        \"max\": 5000.0,\n        \"num_unique_values\": 8,\n        \"samples\": [\n          3.0219200813748,\n          1.476957662,\n          5000.0\n        ],\n        \"semantic_type\": \"\",\n        \"description\": \"\"\n      }\n    },\n    {\n      \"column\": \"Dist_Farmacia\",\n      \"properties\": {\n        \"dtype\": \"number\",\n        \"std\": 1767.601392166733,\n        \"min\": 0.000331,\n        \"max\": 5000.0,\n        \"num_unique_values\": 8,\n        \"samples\": [\n          0.4971598438,\n          0.50326,\n          5000.0\n        ],\n        \"semantic_type\": \"\",\n        \"description\": \"\"\n      }\n    }\n  ]\n}"
            }
          },
          "metadata": {},
          "execution_count": 4
        }
      ]
    },
    {
      "cell_type": "code",
      "source": [
        "dados.corr()"
      ],
      "metadata": {
        "colab": {
          "base_uri": "https://localhost:8080/",
          "height": 175
        },
        "id": "syliKDNNaGo8",
        "outputId": "4a7000d3-ecb3-4ba4-b031-3a02137e1ab4"
      },
      "execution_count": 5,
      "outputs": [
        {
          "output_type": "execute_result",
          "data": {
            "text/plain": [
              "                  Valor      Area  Dist_Praia  Dist_Farmacia\n",
              "Valor          1.000000  0.710974   -0.366542      -0.024366\n",
              "Area           0.710974  1.000000   -0.283371      -0.030990\n",
              "Dist_Praia    -0.366542 -0.283371    1.000000       0.025645\n",
              "Dist_Farmacia -0.024366 -0.030990    0.025645       1.000000"
            ],
            "text/html": [
              "\n",
              "  <div id=\"df-97bc67eb-96a6-4ef7-b795-3b3525a3ef43\" class=\"colab-df-container\">\n",
              "    <div>\n",
              "<style scoped>\n",
              "    .dataframe tbody tr th:only-of-type {\n",
              "        vertical-align: middle;\n",
              "    }\n",
              "\n",
              "    .dataframe tbody tr th {\n",
              "        vertical-align: top;\n",
              "    }\n",
              "\n",
              "    .dataframe thead th {\n",
              "        text-align: right;\n",
              "    }\n",
              "</style>\n",
              "<table border=\"1\" class=\"dataframe\">\n",
              "  <thead>\n",
              "    <tr style=\"text-align: right;\">\n",
              "      <th></th>\n",
              "      <th>Valor</th>\n",
              "      <th>Area</th>\n",
              "      <th>Dist_Praia</th>\n",
              "      <th>Dist_Farmacia</th>\n",
              "    </tr>\n",
              "  </thead>\n",
              "  <tbody>\n",
              "    <tr>\n",
              "      <th>Valor</th>\n",
              "      <td>1.000000</td>\n",
              "      <td>0.710974</td>\n",
              "      <td>-0.366542</td>\n",
              "      <td>-0.024366</td>\n",
              "    </tr>\n",
              "    <tr>\n",
              "      <th>Area</th>\n",
              "      <td>0.710974</td>\n",
              "      <td>1.000000</td>\n",
              "      <td>-0.283371</td>\n",
              "      <td>-0.030990</td>\n",
              "    </tr>\n",
              "    <tr>\n",
              "      <th>Dist_Praia</th>\n",
              "      <td>-0.366542</td>\n",
              "      <td>-0.283371</td>\n",
              "      <td>1.000000</td>\n",
              "      <td>0.025645</td>\n",
              "    </tr>\n",
              "    <tr>\n",
              "      <th>Dist_Farmacia</th>\n",
              "      <td>-0.024366</td>\n",
              "      <td>-0.030990</td>\n",
              "      <td>0.025645</td>\n",
              "      <td>1.000000</td>\n",
              "    </tr>\n",
              "  </tbody>\n",
              "</table>\n",
              "</div>\n",
              "    <div class=\"colab-df-buttons\">\n",
              "\n",
              "  <div class=\"colab-df-container\">\n",
              "    <button class=\"colab-df-convert\" onclick=\"convertToInteractive('df-97bc67eb-96a6-4ef7-b795-3b3525a3ef43')\"\n",
              "            title=\"Convert this dataframe to an interactive table.\"\n",
              "            style=\"display:none;\">\n",
              "\n",
              "  <svg xmlns=\"http://www.w3.org/2000/svg\" height=\"24px\" viewBox=\"0 -960 960 960\">\n",
              "    <path d=\"M120-120v-720h720v720H120Zm60-500h600v-160H180v160Zm220 220h160v-160H400v160Zm0 220h160v-160H400v160ZM180-400h160v-160H180v160Zm440 0h160v-160H620v160ZM180-180h160v-160H180v160Zm440 0h160v-160H620v160Z\"/>\n",
              "  </svg>\n",
              "    </button>\n",
              "\n",
              "  <style>\n",
              "    .colab-df-container {\n",
              "      display:flex;\n",
              "      gap: 12px;\n",
              "    }\n",
              "\n",
              "    .colab-df-convert {\n",
              "      background-color: #E8F0FE;\n",
              "      border: none;\n",
              "      border-radius: 50%;\n",
              "      cursor: pointer;\n",
              "      display: none;\n",
              "      fill: #1967D2;\n",
              "      height: 32px;\n",
              "      padding: 0 0 0 0;\n",
              "      width: 32px;\n",
              "    }\n",
              "\n",
              "    .colab-df-convert:hover {\n",
              "      background-color: #E2EBFA;\n",
              "      box-shadow: 0px 1px 2px rgba(60, 64, 67, 0.3), 0px 1px 3px 1px rgba(60, 64, 67, 0.15);\n",
              "      fill: #174EA6;\n",
              "    }\n",
              "\n",
              "    .colab-df-buttons div {\n",
              "      margin-bottom: 4px;\n",
              "    }\n",
              "\n",
              "    [theme=dark] .colab-df-convert {\n",
              "      background-color: #3B4455;\n",
              "      fill: #D2E3FC;\n",
              "    }\n",
              "\n",
              "    [theme=dark] .colab-df-convert:hover {\n",
              "      background-color: #434B5C;\n",
              "      box-shadow: 0px 1px 3px 1px rgba(0, 0, 0, 0.15);\n",
              "      filter: drop-shadow(0px 1px 2px rgba(0, 0, 0, 0.3));\n",
              "      fill: #FFFFFF;\n",
              "    }\n",
              "  </style>\n",
              "\n",
              "    <script>\n",
              "      const buttonEl =\n",
              "        document.querySelector('#df-97bc67eb-96a6-4ef7-b795-3b3525a3ef43 button.colab-df-convert');\n",
              "      buttonEl.style.display =\n",
              "        google.colab.kernel.accessAllowed ? 'block' : 'none';\n",
              "\n",
              "      async function convertToInteractive(key) {\n",
              "        const element = document.querySelector('#df-97bc67eb-96a6-4ef7-b795-3b3525a3ef43');\n",
              "        const dataTable =\n",
              "          await google.colab.kernel.invokeFunction('convertToInteractive',\n",
              "                                                    [key], {});\n",
              "        if (!dataTable) return;\n",
              "\n",
              "        const docLinkHtml = 'Like what you see? Visit the ' +\n",
              "          '<a target=\"_blank\" href=https://colab.research.google.com/notebooks/data_table.ipynb>data table notebook</a>'\n",
              "          + ' to learn more about interactive tables.';\n",
              "        element.innerHTML = '';\n",
              "        dataTable['output_type'] = 'display_data';\n",
              "        await google.colab.output.renderOutput(dataTable, element);\n",
              "        const docLink = document.createElement('div');\n",
              "        docLink.innerHTML = docLinkHtml;\n",
              "        element.appendChild(docLink);\n",
              "      }\n",
              "    </script>\n",
              "  </div>\n",
              "\n",
              "\n",
              "    <div id=\"df-e183c86b-d05d-4c5e-8cca-704e2508ba4c\">\n",
              "      <button class=\"colab-df-quickchart\" onclick=\"quickchart('df-e183c86b-d05d-4c5e-8cca-704e2508ba4c')\"\n",
              "                title=\"Suggest charts\"\n",
              "                style=\"display:none;\">\n",
              "\n",
              "<svg xmlns=\"http://www.w3.org/2000/svg\" height=\"24px\"viewBox=\"0 0 24 24\"\n",
              "     width=\"24px\">\n",
              "    <g>\n",
              "        <path d=\"M19 3H5c-1.1 0-2 .9-2 2v14c0 1.1.9 2 2 2h14c1.1 0 2-.9 2-2V5c0-1.1-.9-2-2-2zM9 17H7v-7h2v7zm4 0h-2V7h2v10zm4 0h-2v-4h2v4z\"/>\n",
              "    </g>\n",
              "</svg>\n",
              "      </button>\n",
              "\n",
              "<style>\n",
              "  .colab-df-quickchart {\n",
              "      --bg-color: #E8F0FE;\n",
              "      --fill-color: #1967D2;\n",
              "      --hover-bg-color: #E2EBFA;\n",
              "      --hover-fill-color: #174EA6;\n",
              "      --disabled-fill-color: #AAA;\n",
              "      --disabled-bg-color: #DDD;\n",
              "  }\n",
              "\n",
              "  [theme=dark] .colab-df-quickchart {\n",
              "      --bg-color: #3B4455;\n",
              "      --fill-color: #D2E3FC;\n",
              "      --hover-bg-color: #434B5C;\n",
              "      --hover-fill-color: #FFFFFF;\n",
              "      --disabled-bg-color: #3B4455;\n",
              "      --disabled-fill-color: #666;\n",
              "  }\n",
              "\n",
              "  .colab-df-quickchart {\n",
              "    background-color: var(--bg-color);\n",
              "    border: none;\n",
              "    border-radius: 50%;\n",
              "    cursor: pointer;\n",
              "    display: none;\n",
              "    fill: var(--fill-color);\n",
              "    height: 32px;\n",
              "    padding: 0;\n",
              "    width: 32px;\n",
              "  }\n",
              "\n",
              "  .colab-df-quickchart:hover {\n",
              "    background-color: var(--hover-bg-color);\n",
              "    box-shadow: 0 1px 2px rgba(60, 64, 67, 0.3), 0 1px 3px 1px rgba(60, 64, 67, 0.15);\n",
              "    fill: var(--button-hover-fill-color);\n",
              "  }\n",
              "\n",
              "  .colab-df-quickchart-complete:disabled,\n",
              "  .colab-df-quickchart-complete:disabled:hover {\n",
              "    background-color: var(--disabled-bg-color);\n",
              "    fill: var(--disabled-fill-color);\n",
              "    box-shadow: none;\n",
              "  }\n",
              "\n",
              "  .colab-df-spinner {\n",
              "    border: 2px solid var(--fill-color);\n",
              "    border-color: transparent;\n",
              "    border-bottom-color: var(--fill-color);\n",
              "    animation:\n",
              "      spin 1s steps(1) infinite;\n",
              "  }\n",
              "\n",
              "  @keyframes spin {\n",
              "    0% {\n",
              "      border-color: transparent;\n",
              "      border-bottom-color: var(--fill-color);\n",
              "      border-left-color: var(--fill-color);\n",
              "    }\n",
              "    20% {\n",
              "      border-color: transparent;\n",
              "      border-left-color: var(--fill-color);\n",
              "      border-top-color: var(--fill-color);\n",
              "    }\n",
              "    30% {\n",
              "      border-color: transparent;\n",
              "      border-left-color: var(--fill-color);\n",
              "      border-top-color: var(--fill-color);\n",
              "      border-right-color: var(--fill-color);\n",
              "    }\n",
              "    40% {\n",
              "      border-color: transparent;\n",
              "      border-right-color: var(--fill-color);\n",
              "      border-top-color: var(--fill-color);\n",
              "    }\n",
              "    60% {\n",
              "      border-color: transparent;\n",
              "      border-right-color: var(--fill-color);\n",
              "    }\n",
              "    80% {\n",
              "      border-color: transparent;\n",
              "      border-right-color: var(--fill-color);\n",
              "      border-bottom-color: var(--fill-color);\n",
              "    }\n",
              "    90% {\n",
              "      border-color: transparent;\n",
              "      border-bottom-color: var(--fill-color);\n",
              "    }\n",
              "  }\n",
              "</style>\n",
              "\n",
              "      <script>\n",
              "        async function quickchart(key) {\n",
              "          const quickchartButtonEl =\n",
              "            document.querySelector('#' + key + ' button');\n",
              "          quickchartButtonEl.disabled = true;  // To prevent multiple clicks.\n",
              "          quickchartButtonEl.classList.add('colab-df-spinner');\n",
              "          try {\n",
              "            const charts = await google.colab.kernel.invokeFunction(\n",
              "                'suggestCharts', [key], {});\n",
              "          } catch (error) {\n",
              "            console.error('Error during call to suggestCharts:', error);\n",
              "          }\n",
              "          quickchartButtonEl.classList.remove('colab-df-spinner');\n",
              "          quickchartButtonEl.classList.add('colab-df-quickchart-complete');\n",
              "        }\n",
              "        (() => {\n",
              "          let quickchartButtonEl =\n",
              "            document.querySelector('#df-e183c86b-d05d-4c5e-8cca-704e2508ba4c button');\n",
              "          quickchartButtonEl.style.display =\n",
              "            google.colab.kernel.accessAllowed ? 'block' : 'none';\n",
              "        })();\n",
              "      </script>\n",
              "    </div>\n",
              "\n",
              "    </div>\n",
              "  </div>\n"
            ],
            "application/vnd.google.colaboratory.intrinsic+json": {
              "type": "dataframe",
              "summary": "{\n  \"name\": \"dados\",\n  \"rows\": 4,\n  \"fields\": [\n    {\n      \"column\": \"Valor\",\n      \"properties\": {\n        \"dtype\": \"number\",\n        \"std\": 0.6337159982321638,\n        \"min\": -0.3665421273432859,\n        \"max\": 1.0,\n        \"num_unique_values\": 4,\n        \"samples\": [\n          0.7109743651901483,\n          -0.024366333384064763,\n          1.0\n        ],\n        \"semantic_type\": \"\",\n        \"description\": \"\"\n      }\n    },\n    {\n      \"column\": \"Area\",\n      \"properties\": {\n        \"dtype\": \"number\",\n        \"std\": 0.6052856198125,\n        \"min\": -0.2833709357357083,\n        \"max\": 1.0,\n        \"num_unique_values\": 4,\n        \"samples\": [\n          1.0,\n          -0.03099039091982539,\n          0.7109743651901483\n        ],\n        \"semantic_type\": \"\",\n        \"description\": \"\"\n      }\n    },\n    {\n      \"column\": \"Dist_Praia\",\n      \"properties\": {\n        \"dtype\": \"number\",\n        \"std\": 0.6271672340510963,\n        \"min\": -0.3665421273432859,\n        \"max\": 1.0,\n        \"num_unique_values\": 4,\n        \"samples\": [\n          -0.2833709357357083,\n          0.02564532110069863,\n          -0.3665421273432859\n        ],\n        \"semantic_type\": \"\",\n        \"description\": \"\"\n      }\n    },\n    {\n      \"column\": \"Dist_Farmacia\",\n      \"properties\": {\n        \"dtype\": \"number\",\n        \"std\": 0.5055844191816783,\n        \"min\": -0.03099039091982539,\n        \"max\": 1.0,\n        \"num_unique_values\": 4,\n        \"samples\": [\n          -0.03099039091982539,\n          1.0,\n          -0.024366333384064763\n        ],\n        \"semantic_type\": \"\",\n        \"description\": \"\"\n      }\n    }\n  ]\n}"
            }
          },
          "metadata": {},
          "execution_count": 5
        }
      ]
    },
    {
      "cell_type": "markdown",
      "source": [
        "- Vemos grande relação entre os dados de area e valor do imóvel. Outra que podemos levar como relativo é a distância da praia, visto que apresenta 0,36 negativo, ou seja quanto maior a distancia da praia menor o valor do imovel."
      ],
      "metadata": {
        "id": "vuT2lJz6bpem"
      }
    },
    {
      "cell_type": "markdown",
      "source": [
        "# 2. Análises gráficas\n",
        "\n",
        "-----------"
      ],
      "metadata": {
        "id": "o_IrgDYPcneb"
      }
    },
    {
      "cell_type": "markdown",
      "source": [
        "## 2.1. Comportamento da variável dependente\n",
        "\n",
        "------"
      ],
      "metadata": {
        "id": "YblyexSzcrsg"
      }
    },
    {
      "cell_type": "code",
      "source": [
        "sns.distplot(dados[\"Valor\"])"
      ],
      "metadata": {
        "colab": {
          "base_uri": "https://localhost:8080/",
          "height": 673
        },
        "id": "P4LKJUo5cqOw",
        "outputId": "02f2ddea-cb55-4c9a-ddf0-04b1e6a9c44e"
      },
      "execution_count": 6,
      "outputs": [
        {
          "output_type": "stream",
          "name": "stderr",
          "text": [
            "/tmp/ipython-input-1217481302.py:1: UserWarning: \n",
            "\n",
            "`distplot` is a deprecated function and will be removed in seaborn v0.14.0.\n",
            "\n",
            "Please adapt your code to use either `displot` (a figure-level function with\n",
            "similar flexibility) or `histplot` (an axes-level function for histograms).\n",
            "\n",
            "For a guide to updating your code to use the new functions, please see\n",
            "https://gist.github.com/mwaskom/de44147ed2974457ad6372750bbe5751\n",
            "\n",
            "  sns.distplot(dados[\"Valor\"])\n"
          ]
        },
        {
          "output_type": "execute_result",
          "data": {
            "text/plain": [
              "<Axes: xlabel='Valor', ylabel='Density'>"
            ]
          },
          "metadata": {},
          "execution_count": 6
        },
        {
          "output_type": "display_data",
          "data": {
            "text/plain": [
              "<Figure size 640x480 with 1 Axes>"
            ],
            "image/png": "[encoded data removed]"
          },
          "metadata": {}
        }
      ]
    },
    {
      "cell_type": "code",
      "source": [
        "ax = sns.boxplot(dados[\"Valor\"],orient = 'h')\n",
        "ax.set_title(\"Boxplot do Valor\")\n",
        "ax.set_xlabel(\"Valor\")"
      ],
      "metadata": {
        "colab": {
          "base_uri": "https://localhost:8080/",
          "height": 489
        },
        "id": "zrhto2JyePO_",
        "outputId": "9ebe1211-4570-49c8-d83e-e619b4d34f81"
      },
      "execution_count": 7,
      "outputs": [
        {
          "output_type": "execute_result",
          "data": {
            "text/plain": [
              "Text(0.5, 0, 'Valor')"
            ]
          },
          "metadata": {},
          "execution_count": 7
        },
        {
          "output_type": "display_data",
          "data": {
            "text/plain": [
              "<Figure size 640x480 with 1 Axes>"
            ],
            "image/png": "[encoded data removed]"
          },
          "metadata": {}
        }
      ]
    },
    {
      "cell_type": "markdown",
      "source": [
        "- Vemos inúmeros outliers, o que é normal já que se trata de preços de imóveis ."
      ],
      "metadata": {
        "id": "4gErIBtSeegS"
      }
    },
    {
      "cell_type": "markdown",
      "source": [
        "- vemos que a mediana e a grande quantidade de dados ficam com valor menores que 5 milhoes."
      ],
      "metadata": {
        "id": "gq_HgOKrenS-"
      }
    },
    {
      "cell_type": "markdown",
      "source": [
        "## 2.2. Distribuiçao de frequência dos dados\n",
        "\n",
        "-----"
      ],
      "metadata": {
        "id": "5caqi8FwgOgy"
      }
    },
    {
      "cell_type": "markdown",
      "source": [
        "- Vendo como se trata a distribuição:"
      ],
      "metadata": {
        "id": "DgBlQLdlgfvj"
      }
    },
    {
      "cell_type": "code",
      "source": [
        "ax = sns.distplot(dados['Valor'])\n",
        "ax.set_title(\"Distribuição do Valor\")\n",
        "ax.set_xlabel(\"Valor\")"
      ],
      "metadata": {
        "colab": {
          "base_uri": "https://localhost:8080/",
          "height": 680
        },
        "id": "QJlZrU2Me3JI",
        "outputId": "bfe1d206-b8c8-4028-d7d8-22a9aa92ed3f"
      },
      "execution_count": 8,
      "outputs": [
        {
          "output_type": "stream",
          "name": "stderr",
          "text": [
            "/tmp/ipython-input-2633088522.py:1: UserWarning: \n",
            "\n",
            "`distplot` is a deprecated function and will be removed in seaborn v0.14.0.\n",
            "\n",
            "Please adapt your code to use either `displot` (a figure-level function with\n",
            "similar flexibility) or `histplot` (an axes-level function for histograms).\n",
            "\n",
            "For a guide to updating your code to use the new functions, please see\n",
            "https://gist.github.com/mwaskom/de44147ed2974457ad6372750bbe5751\n",
            "\n",
            "  ax = sns.distplot(dados['Valor'])\n"
          ]
        },
        {
          "output_type": "execute_result",
          "data": {
            "text/plain": [
              "Text(0.5, 0, 'Valor')"
            ]
          },
          "metadata": {},
          "execution_count": 8
        },
        {
          "output_type": "display_data",
          "data": {
            "text/plain": [
              "<Figure size 640x480 with 1 Axes>"
            ],
            "image/png": "[encoded data removed]"
          },
          "metadata": {}
        }
      ]
    },
    {
      "cell_type": "markdown",
      "source": [
        "- Aparenta ser uma distribuição assimétrica a direita. Onde a maioria dos imóveis tem valor menor."
      ],
      "metadata": {
        "id": "w7FmPB0KgpK0"
      }
    },
    {
      "cell_type": "markdown",
      "source": [
        "- Logo a mediana se fica mais a direita, mais perto do primeiro quantil."
      ],
      "metadata": {
        "id": "dsztPbj0gzvE"
      }
    },
    {
      "cell_type": "markdown",
      "source": [
        "- A ideia é tentar fazer alguma modificação nos dados para ficar algo mais próximo de uma distribuição normal simétrica onde a mediana fique ao centro. Isso porque na configuração atual pode inserir erros no modelo de regressão."
      ],
      "metadata": {
        "id": "xOyep05phLgw"
      }
    },
    {
      "cell_type": "markdown",
      "source": [
        "## 2.3. Dispersão entre as variáveis\n",
        "\n",
        "------------"
      ],
      "metadata": {
        "id": "MADkTynuinEe"
      }
    },
    {
      "cell_type": "code",
      "source": [
        "ax = sns.pairplot(dados, y_vars='Valor', x_vars=['Area', 'Dist_Praia', 'Dist_Farmacia'])"
      ],
      "metadata": {
        "colab": {
          "base_uri": "https://localhost:8080/",
          "height": 268
        },
        "id": "UTclp8GOiujy",
        "outputId": "1eaf3856-9abe-478a-c375-c1d71add01d5"
      },
      "execution_count": 9,
      "outputs": [
        {
          "output_type": "display_data",
          "data": {
            "text/plain": [
              "<Figure size 750x250 with 3 Axes>"
            ],
            "image/png": "[encoded data removed]"
          },
          "metadata": {}
        }
      ]
    },
    {
      "cell_type": "markdown",
      "source": [
        "- No primeior caso vemos quase que uma curva exponencial comparando o preço da area com o valor."
      ],
      "metadata": {
        "id": "_tUleGNDjomX"
      }
    },
    {
      "cell_type": "markdown",
      "source": [
        "- No segundo caso, vemos que é quanto menor a distancia para a praia maior é o preço. Porém não conseguimos traçar nenhuma reta nesse caso."
      ],
      "metadata": {
        "id": "dCebq6ZAj0t6"
      }
    },
    {
      "cell_type": "markdown",
      "source": [
        "- No terceiro caso, não é possível ver uma relação clara."
      ],
      "metadata": {
        "id": "zskSyVmkj94T"
      }
    },
    {
      "cell_type": "markdown",
      "source": [
        "- ### **Visualizar a dispersão nos gráficos**"
      ],
      "metadata": {
        "id": "FZeqV68-kct_"
      }
    },
    {
      "cell_type": "code",
      "source": [
        "ax = sns.pairplot(dados, y_vars='Valor', x_vars=['Area', 'Dist_Praia', 'Dist_Farmacia'],kind = 'reg')"
      ],
      "metadata": {
        "colab": {
          "base_uri": "https://localhost:8080/",
          "height": 268
        },
        "id": "gExIEKzFjz4t",
        "outputId": "51ec334b-0a81-4c89-ea0a-e7d6b3be76d7"
      },
      "execution_count": 10,
      "outputs": [
        {
          "output_type": "display_data",
          "data": {
            "text/plain": [
              "<Figure size 750x250 with 3 Axes>"
            ],
            "image/png": "[encoded data removed]"
          },
          "metadata": {}
        }
      ]
    },
    {
      "cell_type": "markdown",
      "source": [
        "- vemos que todas estão longes de ser uma regressão linear padrão. A que mais assemelham é a área x valor."
      ],
      "metadata": {
        "id": "bigJHjW1ksWX"
      }
    },
    {
      "cell_type": "markdown",
      "source": [
        "# 3. Transformação de variáveis.\n",
        "\n",
        "----"
      ],
      "metadata": {
        "id": "O0uVNJrRnIkN"
      }
    },
    {
      "cell_type": "markdown",
      "source": [
        "## 3.1. Transformação de dados"
      ],
      "metadata": {
        "id": "qD0SrdinqzWT"
      }
    },
    {
      "cell_type": "markdown",
      "source": [
        "- transformando os dados para que a distribuição se pareça mais como uma normal"
      ],
      "metadata": {
        "id": "VcoVbCOxnL15"
      }
    },
    {
      "cell_type": "markdown",
      "source": [
        "- Transformar os dados para escala logaritmica."
      ],
      "metadata": {
        "id": "i2MY4QGbpiG0"
      }
    },
    {
      "cell_type": "code",
      "source": [
        "import numpy as np"
      ],
      "metadata": {
        "id": "EzUl7Jr3k2SX"
      },
      "execution_count": 11,
      "outputs": []
    },
    {
      "cell_type": "markdown",
      "source": [
        "- Temos que ter cuidado no detalhe que alguns dados de distancia estao zerados, e log de 0 é infinito.\n",
        "\n",
        "- Para resolver isso, iremos adicionar 1 nos dados de distancia"
      ],
      "metadata": {
        "id": "OpPg6geJpg4e"
      }
    },
    {
      "cell_type": "code",
      "source": [
        "np.log(0)"
      ],
      "metadata": {
        "colab": {
          "base_uri": "https://localhost:8080/"
        },
        "id": "tsPPuvippvVm",
        "outputId": "c400e95b-5610-4755-afa0-7b3568db59b5"
      },
      "execution_count": 12,
      "outputs": [
        {
          "output_type": "stream",
          "name": "stderr",
          "text": [
            "/tmp/ipython-input-2933082444.py:1: RuntimeWarning: divide by zero encountered in log\n",
            "  np.log(0)\n"
          ]
        },
        {
          "output_type": "execute_result",
          "data": {
            "text/plain": [
              "np.float64(-inf)"
            ]
          },
          "metadata": {},
          "execution_count": 12
        }
      ]
    },
    {
      "cell_type": "code",
      "source": [
        "np.log(1)"
      ],
      "metadata": {
        "colab": {
          "base_uri": "https://localhost:8080/"
        },
        "id": "WbFYlBKVpx68",
        "outputId": "bb85299c-44a4-4185-c9d2-4a39103acd00"
      },
      "execution_count": 13,
      "outputs": [
        {
          "output_type": "execute_result",
          "data": {
            "text/plain": [
              "np.float64(0.0)"
            ]
          },
          "metadata": {},
          "execution_count": 13
        }
      ]
    },
    {
      "cell_type": "code",
      "source": [
        "dados['log_Valor']  = np.log(dados['Valor'])\n",
        "dados['log_Area']  = np.log(dados['Area'])\n",
        "dados['log_Dist_Praia'] = np.log(dados['Dist_Praia'] + 1)\n",
        "dados['log_Dist_Farmacia'] = np.log(dados['Dist_Farmacia']+ 1)"
      ],
      "metadata": {
        "id": "-s1mnbwFo2IV"
      },
      "execution_count": 14,
      "outputs": []
    },
    {
      "cell_type": "code",
      "source": [
        "dados.head()"
      ],
      "metadata": {
        "colab": {
          "base_uri": "https://localhost:8080/",
          "height": 206
        },
        "id": "kvOveG0Qp3IH",
        "outputId": "69e3f4e5-6334-403e-cf06-f40b18c0bfa0"
      },
      "execution_count": 15,
      "outputs": [
        {
          "output_type": "execute_result",
          "data": {
            "text/plain": [
              "     Valor  Area  Dist_Praia  Dist_Farmacia  log_Valor  log_Area  \\\n",
              "0  4600000   280    0.240925       0.793637  15.341567  5.634790   \n",
              "1   900000   208    0.904136       0.134494  13.710150  5.337538   \n",
              "2  2550000   170    0.059525       0.423318  14.751604  5.135798   \n",
              "3   550000   100    2.883181       0.525064  13.217674  4.605170   \n",
              "4  2200000   164    0.239758       0.192374  14.603968  5.099866   \n",
              "\n",
              "   log_Dist_Praia  log_Dist_Farmacia  \n",
              "0        0.215857           0.584245  \n",
              "1        0.644028           0.126187  \n",
              "2        0.057821           0.352991  \n",
              "3        1.356655           0.422036  \n",
              "4        0.214916           0.175946  "
            ],
            "text/html": [
              "\n",
              "  <div id=\"df-4c95add5-b403-4df5-9b9f-dda8640a3d70\" class=\"colab-df-container\">\n",
              "    <div>\n",
              "<style scoped>\n",
              "    .dataframe tbody tr th:only-of-type {\n",
              "        vertical-align: middle;\n",
              "    }\n",
              "\n",
              "    .dataframe tbody tr th {\n",
              "        vertical-align: top;\n",
              "    }\n",
              "\n",
              "    .dataframe thead th {\n",
              "        text-align: right;\n",
              "    }\n",
              "</style>\n",
              "<table border=\"1\" class=\"dataframe\">\n",
              "  <thead>\n",
              "    <tr style=\"text-align: right;\">\n",
              "      <th></th>\n",
              "      <th>Valor</th>\n",
              "      <th>Area</th>\n",
              "      <th>Dist_Praia</th>\n",
              "      <th>Dist_Farmacia</th>\n",
              "      <th>log_Valor</th>\n",
              "      <th>log_Area</th>\n",
              "      <th>log_Dist_Praia</th>\n",
              "      <th>log_Dist_Farmacia</th>\n",
              "    </tr>\n",
              "  </thead>\n",
              "  <tbody>\n",
              "    <tr>\n",
              "      <th>0</th>\n",
              "      <td>4600000</td>\n",
              "      <td>280</td>\n",
              "      <td>0.240925</td>\n",
              "      <td>0.793637</td>\n",
              "      <td>15.341567</td>\n",
              "      <td>5.634790</td>\n",
              "      <td>0.215857</td>\n",
              "      <td>0.584245</td>\n",
              "    </tr>\n",
              "    <tr>\n",
              "      <th>1</th>\n",
              "      <td>900000</td>\n",
              "      <td>208</td>\n",
              "      <td>0.904136</td>\n",
              "      <td>0.134494</td>\n",
              "      <td>13.710150</td>\n",
              "      <td>5.337538</td>\n",
              "      <td>0.644028</td>\n",
              "      <td>0.126187</td>\n",
              "    </tr>\n",
              "    <tr>\n",
              "      <th>2</th>\n",
              "      <td>2550000</td>\n",
              "      <td>170</td>\n",
              "      <td>0.059525</td>\n",
              "      <td>0.423318</td>\n",
              "      <td>14.751604</td>\n",
              "      <td>5.135798</td>\n",
              "      <td>0.057821</td>\n",
              "      <td>0.352991</td>\n",
              "    </tr>\n",
              "    <tr>\n",
              "      <th>3</th>\n",
              "      <td>550000</td>\n",
              "      <td>100</td>\n",
              "      <td>2.883181</td>\n",
              "      <td>0.525064</td>\n",
              "      <td>13.217674</td>\n",
              "      <td>4.605170</td>\n",
              "      <td>1.356655</td>\n",
              "      <td>0.422036</td>\n",
              "    </tr>\n",
              "    <tr>\n",
              "      <th>4</th>\n",
              "      <td>2200000</td>\n",
              "      <td>164</td>\n",
              "      <td>0.239758</td>\n",
              "      <td>0.192374</td>\n",
              "      <td>14.603968</td>\n",
              "      <td>5.099866</td>\n",
              "      <td>0.214916</td>\n",
              "      <td>0.175946</td>\n",
              "    </tr>\n",
              "  </tbody>\n",
              "</table>\n",
              "</div>\n",
              "    <div class=\"colab-df-buttons\">\n",
              "\n",
              "  <div class=\"colab-df-container\">\n",
              "    <button class=\"colab-df-convert\" onclick=\"convertToInteractive('df-4c95add5-b403-4df5-9b9f-dda8640a3d70')\"\n",
              "            title=\"Convert this dataframe to an interactive table.\"\n",
              "            style=\"display:none;\">\n",
              "\n",
              "  <svg xmlns=\"http://www.w3.org/2000/svg\" height=\"24px\" viewBox=\"0 -960 960 960\">\n",
              "    <path d=\"M120-120v-720h720v720H120Zm60-500h600v-160H180v160Zm220 220h160v-160H400v160Zm0 220h160v-160H400v160ZM180-400h160v-160H180v160Zm440 0h160v-160H620v160ZM180-180h160v-160H180v160Zm440 0h160v-160H620v160Z\"/>\n",
              "  </svg>\n",
              "    </button>\n",
              "\n",
              "  <style>\n",
              "    .colab-df-container {\n",
              "      display:flex;\n",
              "      gap: 12px;\n",
              "    }\n",
              "\n",
              "    .colab-df-convert {\n",
              "      background-color: #E8F0FE;\n",
              "      border: none;\n",
              "      border-radius: 50%;\n",
              "      cursor: pointer;\n",
              "      display: none;\n",
              "      fill: #1967D2;\n",
              "      height: 32px;\n",
              "      padding: 0 0 0 0;\n",
              "      width: 32px;\n",
              "    }\n",
              "\n",
              "    .colab-df-convert:hover {\n",
              "      background-color: #E2EBFA;\n",
              "      box-shadow: 0px 1px 2px rgba(60, 64, 67, 0.3), 0px 1px 3px 1px rgba(60, 64, 67, 0.15);\n",
              "      fill: #174EA6;\n",
              "    }\n",
              "\n",
              "    .colab-df-buttons div {\n",
              "      margin-bottom: 4px;\n",
              "    }\n",
              "\n",
              "    [theme=dark] .colab-df-convert {\n",
              "      background-color: #3B4455;\n",
              "      fill: #D2E3FC;\n",
              "    }\n",
              "\n",
              "    [theme=dark] .colab-df-convert:hover {\n",
              "      background-color: #434B5C;\n",
              "      box-shadow: 0px 1px 3px 1px rgba(0, 0, 0, 0.15);\n",
              "      filter: drop-shadow(0px 1px 2px rgba(0, 0, 0, 0.3));\n",
              "      fill: #FFFFFF;\n",
              "    }\n",
              "  </style>\n",
              "\n",
              "    <script>\n",
              "      const buttonEl =\n",
              "        document.querySelector('#df-4c95add5-b403-4df5-9b9f-dda8640a3d70 button.colab-df-convert');\n",
              "      buttonEl.style.display =\n",
              "        google.colab.kernel.accessAllowed ? 'block' : 'none';\n",
              "\n",
              "      async function convertToInteractive(key) {\n",
              "        const element = document.querySelector('#df-4c95add5-b403-4df5-9b9f-dda8640a3d70');\n",
              "        const dataTable =\n",
              "          await google.colab.kernel.invokeFunction('convertToInteractive',\n",
              "                                                    [key], {});\n",
              "        if (!dataTable) return;\n",
              "\n",
              "        const docLinkHtml = 'Like what you see? Visit the ' +\n",
              "          '<a target=\"_blank\" href=https://colab.research.google.com/notebooks/data_table.ipynb>data table notebook</a>'\n",
              "          + ' to learn more about interactive tables.';\n",
              "        element.innerHTML = '';\n",
              "        dataTable['output_type'] = 'display_data';\n",
              "        await google.colab.output.renderOutput(dataTable, element);\n",
              "        const docLink = document.createElement('div');\n",
              "        docLink.innerHTML = docLinkHtml;\n",
              "        element.appendChild(docLink);\n",
              "      }\n",
              "    </script>\n",
              "  </div>\n",
              "\n",
              "\n",
              "    <div id=\"df-92269989-7096-4ca9-8705-07d369bc7dc8\">\n",
              "      <button class=\"colab-df-quickchart\" onclick=\"quickchart('df-92269989-7096-4ca9-8705-07d369bc7dc8')\"\n",
              "                title=\"Suggest charts\"\n",
              "                style=\"display:none;\">\n",
              "\n",
              "<svg xmlns=\"http://www.w3.org/2000/svg\" height=\"24px\"viewBox=\"0 0 24 24\"\n",
              "     width=\"24px\">\n",
              "    <g>\n",
              "        <path d=\"M19 3H5c-1.1 0-2 .9-2 2v14c0 1.1.9 2 2 2h14c1.1 0 2-.9 2-2V5c0-1.1-.9-2-2-2zM9 17H7v-7h2v7zm4 0h-2V7h2v10zm4 0h-2v-4h2v4z\"/>\n",
              "    </g>\n",
              "</svg>\n",
              "      </button>\n",
              "\n",
              "<style>\n",
              "  .colab-df-quickchart {\n",
              "      --bg-color: #E8F0FE;\n",
              "      --fill-color: #1967D2;\n",
              "      --hover-bg-color: #E2EBFA;\n",
              "      --hover-fill-color: #174EA6;\n",
              "      --disabled-fill-color: #AAA;\n",
              "      --disabled-bg-color: #DDD;\n",
              "  }\n",
              "\n",
              "  [theme=dark] .colab-df-quickchart {\n",
              "      --bg-color: #3B4455;\n",
              "      --fill-color: #D2E3FC;\n",
              "      --hover-bg-color: #434B5C;\n",
              "      --hover-fill-color: #FFFFFF;\n",
              "      --disabled-bg-color: #3B4455;\n",
              "      --disabled-fill-color: #666;\n",
              "  }\n",
              "\n",
              "  .colab-df-quickchart {\n",
              "    background-color: var(--bg-color);\n",
              "    border: none;\n",
              "    border-radius: 50%;\n",
              "    cursor: pointer;\n",
              "    display: none;\n",
              "    fill: var(--fill-color);\n",
              "    height: 32px;\n",
              "    padding: 0;\n",
              "    width: 32px;\n",
              "  }\n",
              "\n",
              "  .colab-df-quickchart:hover {\n",
              "    background-color: var(--hover-bg-color);\n",
              "    box-shadow: 0 1px 2px rgba(60, 64, 67, 0.3), 0 1px 3px 1px rgba(60, 64, 67, 0.15);\n",
              "    fill: var(--button-hover-fill-color);\n",
              "  }\n",
              "\n",
              "  .colab-df-quickchart-complete:disabled,\n",
              "  .colab-df-quickchart-complete:disabled:hover {\n",
              "    background-color: var(--disabled-bg-color);\n",
              "    fill: var(--disabled-fill-color);\n",
              "    box-shadow: none;\n",
              "  }\n",
              "\n",
              "  .colab-df-spinner {\n",
              "    border: 2px solid var(--fill-color);\n",
              "    border-color: transparent;\n",
              "    border-bottom-color: var(--fill-color);\n",
              "    animation:\n",
              "      spin 1s steps(1) infinite;\n",
              "  }\n",
              "\n",
              "  @keyframes spin {\n",
              "    0% {\n",
              "      border-color: transparent;\n",
              "      border-bottom-color: var(--fill-color);\n",
              "      border-left-color: var(--fill-color);\n",
              "    }\n",
              "    20% {\n",
              "      border-color: transparent;\n",
              "      border-left-color: var(--fill-color);\n",
              "      border-top-color: var(--fill-color);\n",
              "    }\n",
              "    30% {\n",
              "      border-color: transparent;\n",
              "      border-left-color: var(--fill-color);\n",
              "      border-top-color: var(--fill-color);\n",
              "      border-right-color: var(--fill-color);\n",
              "    }\n",
              "    40% {\n",
              "      border-color: transparent;\n",
              "      border-right-color: var(--fill-color);\n",
              "      border-top-color: var(--fill-color);\n",
              "    }\n",
              "    60% {\n",
              "      border-color: transparent;\n",
              "      border-right-color: var(--fill-color);\n",
              "    }\n",
              "    80% {\n",
              "      border-color: transparent;\n",
              "      border-right-color: var(--fill-color);\n",
              "      border-bottom-color: var(--fill-color);\n",
              "    }\n",
              "    90% {\n",
              "      border-color: transparent;\n",
              "      border-bottom-color: var(--fill-color);\n",
              "    }\n",
              "  }\n",
              "</style>\n",
              "\n",
              "      <script>\n",
              "        async function quickchart(key) {\n",
              "          const quickchartButtonEl =\n",
              "            document.querySelector('#' + key + ' button');\n",
              "          quickchartButtonEl.disabled = true;  // To prevent multiple clicks.\n",
              "          quickchartButtonEl.classList.add('colab-df-spinner');\n",
              "          try {\n",
              "            const charts = await google.colab.kernel.invokeFunction(\n",
              "                'suggestCharts', [key], {});\n",
              "          } catch (error) {\n",
              "            console.error('Error during call to suggestCharts:', error);\n",
              "          }\n",
              "          quickchartButtonEl.classList.remove('colab-df-spinner');\n",
              "          quickchartButtonEl.classList.add('colab-df-quickchart-complete');\n",
              "        }\n",
              "        (() => {\n",
              "          let quickchartButtonEl =\n",
              "            document.querySelector('#df-92269989-7096-4ca9-8705-07d369bc7dc8 button');\n",
              "          quickchartButtonEl.style.display =\n",
              "            google.colab.kernel.accessAllowed ? 'block' : 'none';\n",
              "        })();\n",
              "      </script>\n",
              "    </div>\n",
              "\n",
              "    </div>\n",
              "  </div>\n"
            ],
            "application/vnd.google.colaboratory.intrinsic+json": {
              "type": "dataframe",
              "variable_name": "dados",
              "summary": "{\n  \"name\": \"dados\",\n  \"rows\": 5000,\n  \"fields\": [\n    {\n      \"column\": \"Valor\",\n      \"properties\": {\n        \"dtype\": \"number\",\n        \"std\": 1883268,\n        \"min\": 75000,\n        \"max\": 25000000,\n        \"num_unique_values\": 953,\n        \"samples\": [\n          416700,\n          611000,\n          749993\n        ],\n        \"semantic_type\": \"\",\n        \"description\": \"\"\n      }\n    },\n    {\n      \"column\": \"Area\",\n      \"properties\": {\n        \"dtype\": \"number\",\n        \"std\": 90,\n        \"min\": 16,\n        \"max\": 2000,\n        \"num_unique_values\": 373,\n        \"samples\": [\n          271,\n          58,\n          68\n        ],\n        \"semantic_type\": \"\",\n        \"description\": \"\"\n      }\n    },\n    {\n      \"column\": \"Dist_Praia\",\n      \"properties\": {\n        \"dtype\": \"number\",\n        \"std\": 3.1709334324867244,\n        \"min\": 0.0,\n        \"max\": 17.96294163,\n        \"num_unique_values\": 3939,\n        \"samples\": [\n          6.512606561,\n          0.424775074,\n          7.754492232\n        ],\n        \"semantic_type\": \"\",\n        \"description\": \"\"\n      }\n    },\n    {\n      \"column\": \"Dist_Farmacia\",\n      \"properties\": {\n        \"dtype\": \"number\",\n        \"std\": 0.29135525501120335,\n        \"min\": 0.000331,\n        \"max\": 0.999987,\n        \"num_unique_values\": 4985,\n        \"samples\": [\n          0.158166,\n          0.935756,\n          0.289517\n        ],\n        \"semantic_type\": \"\",\n        \"description\": \"\"\n      }\n    },\n    {\n      \"column\": \"log_Valor\",\n      \"properties\": {\n        \"dtype\": \"number\",\n        \"std\": 0.9036135065670893,\n        \"min\": 11.225243392518447,\n        \"max\": 17.034386382832476,\n        \"num_unique_values\": 953,\n        \"samples\": [\n          12.940121817410544,\n          13.322852238153732,\n          13.527819152135605\n        ],\n        \"semantic_type\": \"\",\n        \"description\": \"\"\n      }\n    },\n    {\n      \"column\": \"log_Area\",\n      \"properties\": {\n        \"dtype\": \"number\",\n        \"std\": 0.5686786474195226,\n        \"min\": 2.772588722239781,\n        \"max\": 7.600902459542082,\n        \"num_unique_values\": 373,\n        \"samples\": [\n          5.602118820879701,\n          4.060443010546419,\n          4.219507705176107\n        ],\n        \"semantic_type\": \"\",\n        \"description\": \"\"\n      }\n    },\n    {\n      \"column\": \"log_Dist_Praia\",\n      \"properties\": {\n        \"dtype\": \"number\",\n        \"std\": 0.7818237239809422,\n        \"min\": 0.0,\n        \"max\": 2.942486634054077,\n        \"num_unique_values\": 3939,\n        \"samples\": [\n          2.0165824842532394,\n          0.35401395845510947,\n          2.1695669665687456\n        ],\n        \"semantic_type\": \"\",\n        \"description\": \"\"\n      }\n    },\n    {\n      \"column\": \"log_Dist_Farmacia\",\n      \"properties\": {\n        \"dtype\": \"number\",\n        \"std\": 0.20012049613187563,\n        \"min\": 0.00033094523158531144,\n        \"max\": 0.6931406805388202,\n        \"num_unique_values\": 4985,\n        \"samples\": [\n          0.14683771948157795,\n          0.6604979478537009,\n          0.25426772965678246\n        ],\n        \"semantic_type\": \"\",\n        \"description\": \"\"\n      }\n    }\n  ]\n}"
            }
          },
          "metadata": {},
          "execution_count": 15
        }
      ]
    },
    {
      "cell_type": "code",
      "source": [
        "sns.distplot(dados['log_Valor'])"
      ],
      "metadata": {
        "colab": {
          "base_uri": "https://localhost:8080/",
          "height": 658
        },
        "id": "zMxF54ORp7tH",
        "outputId": "d582baca-c7fd-4e90-b03a-710c2651b03e"
      },
      "execution_count": 16,
      "outputs": [
        {
          "output_type": "stream",
          "name": "stderr",
          "text": [
            "/tmp/ipython-input-3759443666.py:1: UserWarning: \n",
            "\n",
            "`distplot` is a deprecated function and will be removed in seaborn v0.14.0.\n",
            "\n",
            "Please adapt your code to use either `displot` (a figure-level function with\n",
            "similar flexibility) or `histplot` (an axes-level function for histograms).\n",
            "\n",
            "For a guide to updating your code to use the new functions, please see\n",
            "https://gist.github.com/mwaskom/de44147ed2974457ad6372750bbe5751\n",
            "\n",
            "  sns.distplot(dados['log_Valor'])\n"
          ]
        },
        {
          "output_type": "execute_result",
          "data": {
            "text/plain": [
              "<Axes: xlabel='log_Valor', ylabel='Density'>"
            ]
          },
          "metadata": {},
          "execution_count": 16
        },
        {
          "output_type": "display_data",
          "data": {
            "text/plain": [
              "<Figure size 640x480 with 1 Axes>"
            ],
            "image/png": "[encoded data removed]"
          },
          "metadata": {}
        }
      ]
    },
    {
      "cell_type": "markdown",
      "source": [
        " - Vemos que melhorou muito a distibuição do valor, que agora está se assemelhando muiot com uma normal. Vamos verificar as outras variáveis:"
      ],
      "metadata": {
        "id": "lCqb4fWnp_ou"
      }
    },
    {
      "cell_type": "code",
      "source": [
        "ax = sns.pairplot(dados, y_vars='log_Valor', x_vars=['log_Area', 'log_Dist_Praia', 'log_Dist_Farmacia'],kind = 'reg')"
      ],
      "metadata": {
        "colab": {
          "base_uri": "https://localhost:8080/",
          "height": 268
        },
        "id": "y66OId05qHgN",
        "outputId": "8e104bec-48db-4f62-c124-2eb512080266"
      },
      "execution_count": 17,
      "outputs": [
        {
          "output_type": "display_data",
          "data": {
            "text/plain": [
              "<Figure size 750x250 with 3 Axes>"
            ],
            "image/png": "[encoded data removed]"
          },
          "metadata": {}
        }
      ]
    },
    {
      "cell_type": "markdown",
      "source": [
        "- vemos agora que na relação entre Area e valor, temos algo muito melhor para analisar e trabalhar."
      ],
      "metadata": {
        "id": "NPuldIvbqQge"
      }
    },
    {
      "cell_type": "markdown",
      "source": [
        "- vemos tambem um bom comportamento no preço e distancia da praia. Só teremos problema com a variavel de distancia farmacia, visto que não tem uma relação clara."
      ],
      "metadata": {
        "id": "SN2f7Z_VtC_F"
      }
    },
    {
      "cell_type": "markdown",
      "source": [
        "# 4. Regressão Linear com StatsModels\n",
        "\n",
        "---------------"
      ],
      "metadata": {
        "id": "n6nR9LHk9clO"
      }
    },
    {
      "cell_type": "markdown",
      "source": [
        "## 4.1. Criando os datasets de treino e teste\n",
        "\n",
        "------------"
      ],
      "metadata": {
        "id": "nTxGkwCt9g0u"
      }
    },
    {
      "cell_type": "code",
      "source": [
        "from sklearn.model_selection import train_test_split #importando função para treino"
      ],
      "metadata": {
        "id": "9qixkrwO9oUt"
      },
      "execution_count": 18,
      "outputs": []
    },
    {
      "cell_type": "code",
      "source": [
        "y = dados['log_Valor'] #variavel dependente"
      ],
      "metadata": {
        "id": "AiBYiBAw96bG"
      },
      "execution_count": 19,
      "outputs": []
    },
    {
      "cell_type": "code",
      "source": [
        "x = dados[['log_Area', 'log_Dist_Praia', 'log_Dist_Farmacia']] #Variaveis explicativas"
      ],
      "metadata": {
        "id": "LXBqG3Jz-Aq-"
      },
      "execution_count": 20,
      "outputs": []
    },
    {
      "cell_type": "code",
      "source": [
        "x_treino,x_teste, y_treino, y_teste = train_test_split(x,y,test_size = 0.2,random_state= 42) # 20% dos dados sendo de teste"
      ],
      "metadata": {
        "id": "E9jU3a-v-Sqf"
      },
      "execution_count": 21,
      "outputs": []
    },
    {
      "cell_type": "markdown",
      "source": [
        "- 80% dos dados para treino e 20% dos dados para teste"
      ],
      "metadata": {
        "id": "ca2J5bBQ-bAU"
      }
    },
    {
      "cell_type": "code",
      "source": [
        "x_treino.head()"
      ],
      "metadata": {
        "colab": {
          "base_uri": "https://localhost:8080/",
          "height": 206
        },
        "id": "MWuSQfpA-Q_M",
        "outputId": "0b6a7008-4c19-4a61-ddbb-4cbeae77a682"
      },
      "execution_count": 22,
      "outputs": [
        {
          "output_type": "execute_result",
          "data": {
            "text/plain": [
              "      log_Area  log_Dist_Praia  log_Dist_Farmacia\n",
              "4227  4.330733        1.291784           0.575343\n",
              "4676  4.356709        1.036766           0.648573\n",
              "800   4.007333        2.247106           0.516836\n",
              "3671  4.330733        0.949385           0.045290\n",
              "4193  5.393628        2.207127           0.304156"
            ],
            "text/html": [
              "\n",
              "  <div id=\"df-56852dac-296c-410f-a228-58ac6174b4ea\" class=\"colab-df-container\">\n",
              "    <div>\n",
              "<style scoped>\n",
              "    .dataframe tbody tr th:only-of-type {\n",
              "        vertical-align: middle;\n",
              "    }\n",
              "\n",
              "    .dataframe tbody tr th {\n",
              "        vertical-align: top;\n",
              "    }\n",
              "\n",
              "    .dataframe thead th {\n",
              "        text-align: right;\n",
              "    }\n",
              "</style>\n",
              "<table border=\"1\" class=\"dataframe\">\n",
              "  <thead>\n",
              "    <tr style=\"text-align: right;\">\n",
              "      <th></th>\n",
              "      <th>log_Area</th>\n",
              "      <th>log_Dist_Praia</th>\n",
              "      <th>log_Dist_Farmacia</th>\n",
              "    </tr>\n",
              "  </thead>\n",
              "  <tbody>\n",
              "    <tr>\n",
              "      <th>4227</th>\n",
              "      <td>4.330733</td>\n",
              "      <td>1.291784</td>\n",
              "      <td>0.575343</td>\n",
              "    </tr>\n",
              "    <tr>\n",
              "      <th>4676</th>\n",
              "      <td>4.356709</td>\n",
              "      <td>1.036766</td>\n",
              "      <td>0.648573</td>\n",
              "    </tr>\n",
              "    <tr>\n",
              "      <th>800</th>\n",
              "      <td>4.007333</td>\n",
              "      <td>2.247106</td>\n",
              "      <td>0.516836</td>\n",
              "    </tr>\n",
              "    <tr>\n",
              "      <th>3671</th>\n",
              "      <td>4.330733</td>\n",
              "      <td>0.949385</td>\n",
              "      <td>0.045290</td>\n",
              "    </tr>\n",
              "    <tr>\n",
              "      <th>4193</th>\n",
              "      <td>5.393628</td>\n",
              "      <td>2.207127</td>\n",
              "      <td>0.304156</td>\n",
              "    </tr>\n",
              "  </tbody>\n",
              "</table>\n",
              "</div>\n",
              "    <div class=\"colab-df-buttons\">\n",
              "\n",
              "  <div class=\"colab-df-container\">\n",
              "    <button class=\"colab-df-convert\" onclick=\"convertToInteractive('df-56852dac-296c-410f-a228-58ac6174b4ea')\"\n",
              "            title=\"Convert this dataframe to an interactive table.\"\n",
              "            style=\"display:none;\">\n",
              "\n",
              "  <svg xmlns=\"http://www.w3.org/2000/svg\" height=\"24px\" viewBox=\"0 -960 960 960\">\n",
              "    <path d=\"M120-120v-720h720v720H120Zm60-500h600v-160H180v160Zm220 220h160v-160H400v160Zm0 220h160v-160H400v160ZM180-400h160v-160H180v160Zm440 0h160v-160H620v160ZM180-180h160v-160H180v160Zm440 0h160v-160H620v160Z\"/>\n",
              "  </svg>\n",
              "    </button>\n",
              "\n",
              "  <style>\n",
              "    .colab-df-container {\n",
              "      display:flex;\n",
              "      gap: 12px;\n",
              "    }\n",
              "\n",
              "    .colab-df-convert {\n",
              "      background-color: #E8F0FE;\n",
              "      border: none;\n",
              "      border-radius: 50%;\n",
              "      cursor: pointer;\n",
              "      display: none;\n",
              "      fill: #1967D2;\n",
              "      height: 32px;\n",
              "      padding: 0 0 0 0;\n",
              "      width: 32px;\n",
              "    }\n",
              "\n",
              "    .colab-df-convert:hover {\n",
              "      background-color: #E2EBFA;\n",
              "      box-shadow: 0px 1px 2px rgba(60, 64, 67, 0.3), 0px 1px 3px 1px rgba(60, 64, 67, 0.15);\n",
              "      fill: #174EA6;\n",
              "    }\n",
              "\n",
              "    .colab-df-buttons div {\n",
              "      margin-bottom: 4px;\n",
              "    }\n",
              "\n",
              "    [theme=dark] .colab-df-convert {\n",
              "      background-color: #3B4455;\n",
              "      fill: #D2E3FC;\n",
              "    }\n",
              "\n",
              "    [theme=dark] .colab-df-convert:hover {\n",
              "      background-color: #434B5C;\n",
              "      box-shadow: 0px 1px 3px 1px rgba(0, 0, 0, 0.15);\n",
              "      filter: drop-shadow(0px 1px 2px rgba(0, 0, 0, 0.3));\n",
              "      fill: #FFFFFF;\n",
              "    }\n",
              "  </style>\n",
              "\n",
              "    <script>\n",
              "      const buttonEl =\n",
              "        document.querySelector('#df-56852dac-296c-410f-a228-58ac6174b4ea button.colab-df-convert');\n",
              "      buttonEl.style.display =\n",
              "        google.colab.kernel.accessAllowed ? 'block' : 'none';\n",
              "\n",
              "      async function convertToInteractive(key) {\n",
              "        const element = document.querySelector('#df-56852dac-296c-410f-a228-58ac6174b4ea');\n",
              "        const dataTable =\n",
              "          await google.colab.kernel.invokeFunction('convertToInteractive',\n",
              "                                                    [key], {});\n",
              "        if (!dataTable) return;\n",
              "\n",
              "        const docLinkHtml = 'Like what you see? Visit the ' +\n",
              "          '<a target=\"_blank\" href=https://colab.research.google.com/notebooks/data_table.ipynb>data table notebook</a>'\n",
              "          + ' to learn more about interactive tables.';\n",
              "        element.innerHTML = '';\n",
              "        dataTable['output_type'] = 'display_data';\n",
              "        await google.colab.output.renderOutput(dataTable, element);\n",
              "        const docLink = document.createElement('div');\n",
              "        docLink.innerHTML = docLinkHtml;\n",
              "        element.appendChild(docLink);\n",
              "      }\n",
              "    </script>\n",
              "  </div>\n",
              "\n",
              "\n",
              "    <div id=\"df-e39c73f5-6444-4499-af58-5502c6bb2c04\">\n",
              "      <button class=\"colab-df-quickchart\" onclick=\"quickchart('df-e39c73f5-6444-4499-af58-5502c6bb2c04')\"\n",
              "                title=\"Suggest charts\"\n",
              "                style=\"display:none;\">\n",
              "\n",
              "<svg xmlns=\"http://www.w3.org/2000/svg\" height=\"24px\"viewBox=\"0 0 24 24\"\n",
              "     width=\"24px\">\n",
              "    <g>\n",
              "        <path d=\"M19 3H5c-1.1 0-2 .9-2 2v14c0 1.1.9 2 2 2h14c1.1 0 2-.9 2-2V5c0-1.1-.9-2-2-2zM9 17H7v-7h2v7zm4 0h-2V7h2v10zm4 0h-2v-4h2v4z\"/>\n",
              "    </g>\n",
              "</svg>\n",
              "      </button>\n",
              "\n",
              "<style>\n",
              "  .colab-df-quickchart {\n",
              "      --bg-color: #E8F0FE;\n",
              "      --fill-color: #1967D2;\n",
              "      --hover-bg-color: #E2EBFA;\n",
              "      --hover-fill-color: #174EA6;\n",
              "      --disabled-fill-color: #AAA;\n",
              "      --disabled-bg-color: #DDD;\n",
              "  }\n",
              "\n",
              "  [theme=dark] .colab-df-quickchart {\n",
              "      --bg-color: #3B4455;\n",
              "      --fill-color: #D2E3FC;\n",
              "      --hover-bg-color: #434B5C;\n",
              "      --hover-fill-color: #FFFFFF;\n",
              "      --disabled-bg-color: #3B4455;\n",
              "      --disabled-fill-color: #666;\n",
              "  }\n",
              "\n",
              "  .colab-df-quickchart {\n",
              "    background-color: var(--bg-color);\n",
              "    border: none;\n",
              "    border-radius: 50%;\n",
              "    cursor: pointer;\n",
              "    display: none;\n",
              "    fill: var(--fill-color);\n",
              "    height: 32px;\n",
              "    padding: 0;\n",
              "    width: 32px;\n",
              "  }\n",
              "\n",
              "  .colab-df-quickchart:hover {\n",
              "    background-color: var(--hover-bg-color);\n",
              "    box-shadow: 0 1px 2px rgba(60, 64, 67, 0.3), 0 1px 3px 1px rgba(60, 64, 67, 0.15);\n",
              "    fill: var(--button-hover-fill-color);\n",
              "  }\n",
              "\n",
              "  .colab-df-quickchart-complete:disabled,\n",
              "  .colab-df-quickchart-complete:disabled:hover {\n",
              "    background-color: var(--disabled-bg-color);\n",
              "    fill: var(--disabled-fill-color);\n",
              "    box-shadow: none;\n",
              "  }\n",
              "\n",
              "  .colab-df-spinner {\n",
              "    border: 2px solid var(--fill-color);\n",
              "    border-color: transparent;\n",
              "    border-bottom-color: var(--fill-color);\n",
              "    animation:\n",
              "      spin 1s steps(1) infinite;\n",
              "  }\n",
              "\n",
              "  @keyframes spin {\n",
              "    0% {\n",
              "      border-color: transparent;\n",
              "      border-bottom-color: var(--fill-color);\n",
              "      border-left-color: var(--fill-color);\n",
              "    }\n",
              "    20% {\n",
              "      border-color: transparent;\n",
              "      border-left-color: var(--fill-color);\n",
              "      border-top-color: var(--fill-color);\n",
              "    }\n",
              "    30% {\n",
              "      border-color: transparent;\n",
              "      border-left-color: var(--fill-color);\n",
              "      border-top-color: var(--fill-color);\n",
              "      border-right-color: var(--fill-color);\n",
              "    }\n",
              "    40% {\n",
              "      border-color: transparent;\n",
              "      border-right-color: var(--fill-color);\n",
              "      border-top-color: var(--fill-color);\n",
              "    }\n",
              "    60% {\n",
              "      border-color: transparent;\n",
              "      border-right-color: var(--fill-color);\n",
              "    }\n",
              "    80% {\n",
              "      border-color: transparent;\n",
              "      border-right-color: var(--fill-color);\n",
              "      border-bottom-color: var(--fill-color);\n",
              "    }\n",
              "    90% {\n",
              "      border-color: transparent;\n",
              "      border-bottom-color: var(--fill-color);\n",
              "    }\n",
              "  }\n",
              "</style>\n",
              "\n",
              "      <script>\n",
              "        async function quickchart(key) {\n",
              "          const quickchartButtonEl =\n",
              "            document.querySelector('#' + key + ' button');\n",
              "          quickchartButtonEl.disabled = true;  // To prevent multiple clicks.\n",
              "          quickchartButtonEl.classList.add('colab-df-spinner');\n",
              "          try {\n",
              "            const charts = await google.colab.kernel.invokeFunction(\n",
              "                'suggestCharts', [key], {});\n",
              "          } catch (error) {\n",
              "            console.error('Error during call to suggestCharts:', error);\n",
              "          }\n",
              "          quickchartButtonEl.classList.remove('colab-df-spinner');\n",
              "          quickchartButtonEl.classList.add('colab-df-quickchart-complete');\n",
              "        }\n",
              "        (() => {\n",
              "          let quickchartButtonEl =\n",
              "            document.querySelector('#df-e39c73f5-6444-4499-af58-5502c6bb2c04 button');\n",
              "          quickchartButtonEl.style.display =\n",
              "            google.colab.kernel.accessAllowed ? 'block' : 'none';\n",
              "        })();\n",
              "      </script>\n",
              "    </div>\n",
              "\n",
              "    </div>\n",
              "  </div>\n"
            ],
            "application/vnd.google.colaboratory.intrinsic+json": {
              "type": "dataframe",
              "variable_name": "x_treino",
              "summary": "{\n  \"name\": \"x_treino\",\n  \"rows\": 4000,\n  \"fields\": [\n    {\n      \"column\": \"log_Area\",\n      \"properties\": {\n        \"dtype\": \"number\",\n        \"std\": 0.5701407408111983,\n        \"min\": 2.772588722239781,\n        \"max\": 7.600902459542082,\n        \"num_unique_values\": 359,\n        \"samples\": [\n          5.37989735354046,\n          5.857933154483459,\n          6.620073206530356\n        ],\n        \"semantic_type\": \"\",\n        \"description\": \"\"\n      }\n    },\n    {\n      \"column\": \"log_Dist_Praia\",\n      \"properties\": {\n        \"dtype\": \"number\",\n        \"std\": 0.7832249626216231,\n        \"min\": 0.0,\n        \"max\": 2.942486634054077,\n        \"num_unique_values\": 3254,\n        \"samples\": [\n          0.4067135837713243,\n          1.8442755729794054,\n          0.13508762082301773\n        ],\n        \"semantic_type\": \"\",\n        \"description\": \"\"\n      }\n    },\n    {\n      \"column\": \"log_Dist_Farmacia\",\n      \"properties\": {\n        \"dtype\": \"number\",\n        \"std\": 0.20028609282946028,\n        \"min\": 0.0007407255950477818,\n        \"max\": 0.6931406805388202,\n        \"num_unique_values\": 3989,\n        \"samples\": [\n          0.53002395086252,\n          0.15574398127667846,\n          0.16637169804421348\n        ],\n        \"semantic_type\": \"\",\n        \"description\": \"\"\n      }\n    }\n  ]\n}"
            }
          },
          "metadata": {},
          "execution_count": 22
        }
      ]
    },
    {
      "cell_type": "code",
      "source": [
        "y_treino.head()"
      ],
      "metadata": {
        "colab": {
          "base_uri": "https://localhost:8080/",
          "height": 241
        },
        "id": "NuTu8mK8-rwl",
        "outputId": "fec2a860-2d5c-4f0c-b8e1-9eabbcb1d371"
      },
      "execution_count": 23,
      "outputs": [
        {
          "output_type": "execute_result",
          "data": {
            "text/plain": [
              "4227    14.077875\n",
              "4676    13.480038\n",
              "800     12.206073\n",
              "3671    13.444447\n",
              "4193    14.151983\n",
              "Name: log_Valor, dtype: float64"
            ],
            "text/html": [
              "<div>\n",
              "<style scoped>\n",
              "    .dataframe tbody tr th:only-of-type {\n",
              "        vertical-align: middle;\n",
              "    }\n",
              "\n",
              "    .dataframe tbody tr th {\n",
              "        vertical-align: top;\n",
              "    }\n",
              "\n",
              "    .dataframe thead th {\n",
              "        text-align: right;\n",
              "    }\n",
              "</style>\n",
              "<table border=\"1\" class=\"dataframe\">\n",
              "  <thead>\n",
              "    <tr style=\"text-align: right;\">\n",
              "      <th></th>\n",
              "      <th>log_Valor</th>\n",
              "    </tr>\n",
              "  </thead>\n",
              "  <tbody>\n",
              "    <tr>\n",
              "      <th>4227</th>\n",
              "      <td>14.077875</td>\n",
              "    </tr>\n",
              "    <tr>\n",
              "      <th>4676</th>\n",
              "      <td>13.480038</td>\n",
              "    </tr>\n",
              "    <tr>\n",
              "      <th>800</th>\n",
              "      <td>12.206073</td>\n",
              "    </tr>\n",
              "    <tr>\n",
              "      <th>3671</th>\n",
              "      <td>13.444447</td>\n",
              "    </tr>\n",
              "    <tr>\n",
              "      <th>4193</th>\n",
              "      <td>14.151983</td>\n",
              "    </tr>\n",
              "  </tbody>\n",
              "</table>\n",
              "</div><br><label><b>dtype:</b> float64</label>"
            ]
          },
          "metadata": {},
          "execution_count": 23
        }
      ]
    },
    {
      "cell_type": "markdown",
      "source": [
        "## 4.3. Trabalhando com o statsmodels\n",
        "\n",
        "----------------"
      ],
      "metadata": {
        "id": "Uh-k5cM1_Tud"
      }
    },
    {
      "cell_type": "markdown",
      "source": [
        "- Como estamos usando log, teremos que usar um modelo de regressão diferente. O log linear:"
      ],
      "metadata": {
        "id": "RBhmipxV_XVT"
      }
    },
    {
      "cell_type": "markdown",
      "source": [
        "![image.png](data:image/png;base64,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)"
      ],
      "metadata": {
        "id": "51UTHm-fAbls"
      }
    },
    {
      "cell_type": "code",
      "source": [
        "import statsmodels.api as sm"
      ],
      "metadata": {
        "id": "owZbxMetAcVh"
      },
      "execution_count": 24,
      "outputs": []
    },
    {
      "cell_type": "markdown",
      "source": [
        "- Para estimar o modelo:"
      ],
      "metadata": {
        "id": "bi0VbPinA0oy"
      }
    },
    {
      "cell_type": "code",
      "source": [
        "x_treino_constante = sm.add_constant(x_treino)\n",
        "x_treino_constante"
      ],
      "metadata": {
        "colab": {
          "base_uri": "https://localhost:8080/",
          "height": 424
        },
        "id": "U6va_T80A2ls",
        "outputId": "9d57a82f-6ff5-49b3-fd01-d086253d1908"
      },
      "execution_count": 25,
      "outputs": [
        {
          "output_type": "execute_result",
          "data": {
            "text/plain": [
              "      const  log_Area  log_Dist_Praia  log_Dist_Farmacia\n",
              "4227    1.0  4.330733        1.291784           0.575343\n",
              "4676    1.0  4.356709        1.036766           0.648573\n",
              "800     1.0  4.007333        2.247106           0.516836\n",
              "3671    1.0  4.330733        0.949385           0.045290\n",
              "4193    1.0  5.393628        2.207127           0.304156\n",
              "...     ...       ...             ...                ...\n",
              "4426    1.0  5.393628        0.235646           0.611830\n",
              "466     1.0  5.298317        0.123698           0.254268\n",
              "3092    1.0  4.553877        0.582539           0.455215\n",
              "3772    1.0  3.891820        2.158521           0.684618\n",
              "860     1.0  4.718499        2.018031           0.145345\n",
              "\n",
              "[4000 rows x 4 columns]"
            ],
            "text/html": [
              "\n",
              "  <div id=\"df-383caede-2f51-4718-9278-371b114a05d1\" class=\"colab-df-container\">\n",
              "    <div>\n",
              "<style scoped>\n",
              "    .dataframe tbody tr th:only-of-type {\n",
              "        vertical-align: middle;\n",
              "    }\n",
              "\n",
              "    .dataframe tbody tr th {\n",
              "        vertical-align: top;\n",
              "    }\n",
              "\n",
              "    .dataframe thead th {\n",
              "        text-align: right;\n",
              "    }\n",
              "</style>\n",
              "<table border=\"1\" class=\"dataframe\">\n",
              "  <thead>\n",
              "    <tr style=\"text-align: right;\">\n",
              "      <th></th>\n",
              "      <th>const</th>\n",
              "      <th>log_Area</th>\n",
              "      <th>log_Dist_Praia</th>\n",
              "      <th>log_Dist_Farmacia</th>\n",
              "    </tr>\n",
              "  </thead>\n",
              "  <tbody>\n",
              "    <tr>\n",
              "      <th>4227</th>\n",
              "      <td>1.0</td>\n",
              "      <td>4.330733</td>\n",
              "      <td>1.291784</td>\n",
              "      <td>0.575343</td>\n",
              "    </tr>\n",
              "    <tr>\n",
              "      <th>4676</th>\n",
              "      <td>1.0</td>\n",
              "      <td>4.356709</td>\n",
              "      <td>1.036766</td>\n",
              "      <td>0.648573</td>\n",
              "    </tr>\n",
              "    <tr>\n",
              "      <th>800</th>\n",
              "      <td>1.0</td>\n",
              "      <td>4.007333</td>\n",
              "      <td>2.247106</td>\n",
              "      <td>0.516836</td>\n",
              "    </tr>\n",
              "    <tr>\n",
              "      <th>3671</th>\n",
              "      <td>1.0</td>\n",
              "      <td>4.330733</td>\n",
              "      <td>0.949385</td>\n",
              "      <td>0.045290</td>\n",
              "    </tr>\n",
              "    <tr>\n",
              "      <th>4193</th>\n",
              "      <td>1.0</td>\n",
              "      <td>5.393628</td>\n",
              "      <td>2.207127</td>\n",
              "      <td>0.304156</td>\n",
              "    </tr>\n",
              "    <tr>\n",
              "      <th>...</th>\n",
              "      <td>...</td>\n",
              "      <td>...</td>\n",
              "      <td>...</td>\n",
              "      <td>...</td>\n",
              "    </tr>\n",
              "    <tr>\n",
              "      <th>4426</th>\n",
              "      <td>1.0</td>\n",
              "      <td>5.393628</td>\n",
              "      <td>0.235646</td>\n",
              "      <td>0.611830</td>\n",
              "    </tr>\n",
              "    <tr>\n",
              "      <th>466</th>\n",
              "      <td>1.0</td>\n",
              "      <td>5.298317</td>\n",
              "      <td>0.123698</td>\n",
              "      <td>0.254268</td>\n",
              "    </tr>\n",
              "    <tr>\n",
              "      <th>3092</th>\n",
              "      <td>1.0</td>\n",
              "      <td>4.553877</td>\n",
              "      <td>0.582539</td>\n",
              "      <td>0.455215</td>\n",
              "    </tr>\n",
              "    <tr>\n",
              "      <th>3772</th>\n",
              "      <td>1.0</td>\n",
              "      <td>3.891820</td>\n",
              "      <td>2.158521</td>\n",
              "      <td>0.684618</td>\n",
              "    </tr>\n",
              "    <tr>\n",
              "      <th>860</th>\n",
              "      <td>1.0</td>\n",
              "      <td>4.718499</td>\n",
              "      <td>2.018031</td>\n",
              "      <td>0.145345</td>\n",
              "    </tr>\n",
              "  </tbody>\n",
              "</table>\n",
              "<p>4000 rows × 4 columns</p>\n",
              "</div>\n",
              "    <div class=\"colab-df-buttons\">\n",
              "\n",
              "  <div class=\"colab-df-container\">\n",
              "    <button class=\"colab-df-convert\" onclick=\"convertToInteractive('df-383caede-2f51-4718-9278-371b114a05d1')\"\n",
              "            title=\"Convert this dataframe to an interactive table.\"\n",
              "            style=\"display:none;\">\n",
              "\n",
              "  <svg xmlns=\"http://www.w3.org/2000/svg\" height=\"24px\" viewBox=\"0 -960 960 960\">\n",
              "    <path d=\"M120-120v-720h720v720H120Zm60-500h600v-160H180v160Zm220 220h160v-160H400v160Zm0 220h160v-160H400v160ZM180-400h160v-160H180v160Zm440 0h160v-160H620v160ZM180-180h160v-160H180v160Zm440 0h160v-160H620v160Z\"/>\n",
              "  </svg>\n",
              "    </button>\n",
              "\n",
              "  <style>\n",
              "    .colab-df-container {\n",
              "      display:flex;\n",
              "      gap: 12px;\n",
              "    }\n",
              "\n",
              "    .colab-df-convert {\n",
              "      background-color: #E8F0FE;\n",
              "      border: none;\n",
              "      border-radius: 50%;\n",
              "      cursor: pointer;\n",
              "      display: none;\n",
              "      fill: #1967D2;\n",
              "      height: 32px;\n",
              "      padding: 0 0 0 0;\n",
              "      width: 32px;\n",
              "    }\n",
              "\n",
              "    .colab-df-convert:hover {\n",
              "      background-color: #E2EBFA;\n",
              "      box-shadow: 0px 1px 2px rgba(60, 64, 67, 0.3), 0px 1px 3px 1px rgba(60, 64, 67, 0.15);\n",
              "      fill: #174EA6;\n",
              "    }\n",
              "\n",
              "    .colab-df-buttons div {\n",
              "      margin-bottom: 4px;\n",
              "    }\n",
              "\n",
              "    [theme=dark] .colab-df-convert {\n",
              "      background-color: #3B4455;\n",
              "      fill: #D2E3FC;\n",
              "    }\n",
              "\n",
              "    [theme=dark] .colab-df-convert:hover {\n",
              "      background-color: #434B5C;\n",
              "      box-shadow: 0px 1px 3px 1px rgba(0, 0, 0, 0.15);\n",
              "      filter: drop-shadow(0px 1px 2px rgba(0, 0, 0, 0.3));\n",
              "      fill: #FFFFFF;\n",
              "    }\n",
              "  </style>\n",
              "\n",
              "    <script>\n",
              "      const buttonEl =\n",
              "        document.querySelector('#df-383caede-2f51-4718-9278-371b114a05d1 button.colab-df-convert');\n",
              "      buttonEl.style.display =\n",
              "        google.colab.kernel.accessAllowed ? 'block' : 'none';\n",
              "\n",
              "      async function convertToInteractive(key) {\n",
              "        const element = document.querySelector('#df-383caede-2f51-4718-9278-371b114a05d1');\n",
              "        const dataTable =\n",
              "          await google.colab.kernel.invokeFunction('convertToInteractive',\n",
              "                                                    [key], {});\n",
              "        if (!dataTable) return;\n",
              "\n",
              "        const docLinkHtml = 'Like what you see? Visit the ' +\n",
              "          '<a target=\"_blank\" href=https://colab.research.google.com/notebooks/data_table.ipynb>data table notebook</a>'\n",
              "          + ' to learn more about interactive tables.';\n",
              "        element.innerHTML = '';\n",
              "        dataTable['output_type'] = 'display_data';\n",
              "        await google.colab.output.renderOutput(dataTable, element);\n",
              "        const docLink = document.createElement('div');\n",
              "        docLink.innerHTML = docLinkHtml;\n",
              "        element.appendChild(docLink);\n",
              "      }\n",
              "    </script>\n",
              "  </div>\n",
              "\n",
              "\n",
              "    <div id=\"df-09a5915d-04f7-440c-af3b-017572ac0fc6\">\n",
              "      <button class=\"colab-df-quickchart\" onclick=\"quickchart('df-09a5915d-04f7-440c-af3b-017572ac0fc6')\"\n",
              "                title=\"Suggest charts\"\n",
              "                style=\"display:none;\">\n",
              "\n",
              "<svg xmlns=\"http://www.w3.org/2000/svg\" height=\"24px\"viewBox=\"0 0 24 24\"\n",
              "     width=\"24px\">\n",
              "    <g>\n",
              "        <path d=\"M19 3H5c-1.1 0-2 .9-2 2v14c0 1.1.9 2 2 2h14c1.1 0 2-.9 2-2V5c0-1.1-.9-2-2-2zM9 17H7v-7h2v7zm4 0h-2V7h2v10zm4 0h-2v-4h2v4z\"/>\n",
              "    </g>\n",
              "</svg>\n",
              "      </button>\n",
              "\n",
              "<style>\n",
              "  .colab-df-quickchart {\n",
              "      --bg-color: #E8F0FE;\n",
              "      --fill-color: #1967D2;\n",
              "      --hover-bg-color: #E2EBFA;\n",
              "      --hover-fill-color: #174EA6;\n",
              "      --disabled-fill-color: #AAA;\n",
              "      --disabled-bg-color: #DDD;\n",
              "  }\n",
              "\n",
              "  [theme=dark] .colab-df-quickchart {\n",
              "      --bg-color: #3B4455;\n",
              "      --fill-color: #D2E3FC;\n",
              "      --hover-bg-color: #434B5C;\n",
              "      --hover-fill-color: #FFFFFF;\n",
              "      --disabled-bg-color: #3B4455;\n",
              "      --disabled-fill-color: #666;\n",
              "  }\n",
              "\n",
              "  .colab-df-quickchart {\n",
              "    background-color: var(--bg-color);\n",
              "    border: none;\n",
              "    border-radius: 50%;\n",
              "    cursor: pointer;\n",
              "    display: none;\n",
              "    fill: var(--fill-color);\n",
              "    height: 32px;\n",
              "    padding: 0;\n",
              "    width: 32px;\n",
              "  }\n",
              "\n",
              "  .colab-df-quickchart:hover {\n",
              "    background-color: var(--hover-bg-color);\n",
              "    box-shadow: 0 1px 2px rgba(60, 64, 67, 0.3), 0 1px 3px 1px rgba(60, 64, 67, 0.15);\n",
              "    fill: var(--button-hover-fill-color);\n",
              "  }\n",
              "\n",
              "  .colab-df-quickchart-complete:disabled,\n",
              "  .colab-df-quickchart-complete:disabled:hover {\n",
              "    background-color: var(--disabled-bg-color);\n",
              "    fill: var(--disabled-fill-color);\n",
              "    box-shadow: none;\n",
              "  }\n",
              "\n",
              "  .colab-df-spinner {\n",
              "    border: 2px solid var(--fill-color);\n",
              "    border-color: transparent;\n",
              "    border-bottom-color: var(--fill-color);\n",
              "    animation:\n",
              "      spin 1s steps(1) infinite;\n",
              "  }\n",
              "\n",
              "  @keyframes spin {\n",
              "    0% {\n",
              "      border-color: transparent;\n",
              "      border-bottom-color: var(--fill-color);\n",
              "      border-left-color: var(--fill-color);\n",
              "    }\n",
              "    20% {\n",
              "      border-color: transparent;\n",
              "      border-left-color: var(--fill-color);\n",
              "      border-top-color: var(--fill-color);\n",
              "    }\n",
              "    30% {\n",
              "      border-color: transparent;\n",
              "      border-left-color: var(--fill-color);\n",
              "      border-top-color: var(--fill-color);\n",
              "      border-right-color: var(--fill-color);\n",
              "    }\n",
              "    40% {\n",
              "      border-color: transparent;\n",
              "      border-right-color: var(--fill-color);\n",
              "      border-top-color: var(--fill-color);\n",
              "    }\n",
              "    60% {\n",
              "      border-color: transparent;\n",
              "      border-right-color: var(--fill-color);\n",
              "    }\n",
              "    80% {\n",
              "      border-color: transparent;\n",
              "      border-right-color: var(--fill-color);\n",
              "      border-bottom-color: var(--fill-color);\n",
              "    }\n",
              "    90% {\n",
              "      border-color: transparent;\n",
              "      border-bottom-color: var(--fill-color);\n",
              "    }\n",
              "  }\n",
              "</style>\n",
              "\n",
              "      <script>\n",
              "        async function quickchart(key) {\n",
              "          const quickchartButtonEl =\n",
              "            document.querySelector('#' + key + ' button');\n",
              "          quickchartButtonEl.disabled = true;  // To prevent multiple clicks.\n",
              "          quickchartButtonEl.classList.add('colab-df-spinner');\n",
              "          try {\n",
              "            const charts = await google.colab.kernel.invokeFunction(\n",
              "                'suggestCharts', [key], {});\n",
              "          } catch (error) {\n",
              "            console.error('Error during call to suggestCharts:', error);\n",
              "          }\n",
              "          quickchartButtonEl.classList.remove('colab-df-spinner');\n",
              "          quickchartButtonEl.classList.add('colab-df-quickchart-complete');\n",
              "        }\n",
              "        (() => {\n",
              "          let quickchartButtonEl =\n",
              "            document.querySelector('#df-09a5915d-04f7-440c-af3b-017572ac0fc6 button');\n",
              "          quickchartButtonEl.style.display =\n",
              "            google.colab.kernel.accessAllowed ? 'block' : 'none';\n",
              "        })();\n",
              "      </script>\n",
              "    </div>\n",
              "\n",
              "  <div id=\"id_5818b12d-02b2-4d34-ad79-4385d7a1876b\">\n",
              "    <style>\n",
              "      .colab-df-generate {\n",
              "        background-color: #E8F0FE;\n",
              "        border: none;\n",
              "        border-radius: 50%;\n",
              "        cursor: pointer;\n",
              "        display: none;\n",
              "        fill: #1967D2;\n",
              "        height: 32px;\n",
              "        padding: 0 0 0 0;\n",
              "        width: 32px;\n",
              "      }\n",
              "\n",
              "      .colab-df-generate:hover {\n",
              "        background-color: #E2EBFA;\n",
              "        box-shadow: 0px 1px 2px rgba(60, 64, 67, 0.3), 0px 1px 3px 1px rgba(60, 64, 67, 0.15);\n",
              "        fill: #174EA6;\n",
              "      }\n",
              "\n",
              "      [theme=dark] .colab-df-generate {\n",
              "        background-color: #3B4455;\n",
              "        fill: #D2E3FC;\n",
              "      }\n",
              "\n",
              "      [theme=dark] .colab-df-generate:hover {\n",
              "        background-color: #434B5C;\n",
              "        box-shadow: 0px 1px 3px 1px rgba(0, 0, 0, 0.15);\n",
              "        filter: drop-shadow(0px 1px 2px rgba(0, 0, 0, 0.3));\n",
              "        fill: #FFFFFF;\n",
              "      }\n",
              "    </style>\n",
              "    <button class=\"colab-df-generate\" onclick=\"generateWithVariable('x_treino_constante')\"\n",
              "            title=\"Generate code using this dataframe.\"\n",
              "            style=\"display:none;\">\n",
              "\n",
              "  <svg xmlns=\"http://www.w3.org/2000/svg\" height=\"24px\"viewBox=\"0 0 24 24\"\n",
              "       width=\"24px\">\n",
              "    <path d=\"M7,19H8.4L18.45,9,17,7.55,7,17.6ZM5,21V16.75L18.45,3.32a2,2,0,0,1,2.83,0l1.4,1.43a1.91,1.91,0,0,1,.58,1.4,1.91,1.91,0,0,1-.58,1.4L9.25,21ZM18.45,9,17,7.55Zm-12,3A5.31,5.31,0,0,0,4.9,8.1,5.31,5.31,0,0,0,1,6.5,5.31,5.31,0,0,0,4.9,4.9,5.31,5.31,0,0,0,6.5,1,5.31,5.31,0,0,0,8.1,4.9,5.31,5.31,0,0,0,12,6.5,5.46,5.46,0,0,0,6.5,12Z\"/>\n",
              "  </svg>\n",
              "    </button>\n",
              "    <script>\n",
              "      (() => {\n",
              "      const buttonEl =\n",
              "        document.querySelector('#id_5818b12d-02b2-4d34-ad79-4385d7a1876b button.colab-df-generate');\n",
              "      buttonEl.style.display =\n",
              "        google.colab.kernel.accessAllowed ? 'block' : 'none';\n",
              "\n",
              "      buttonEl.onclick = () => {\n",
              "        google.colab.notebook.generateWithVariable('x_treino_constante');\n",
              "      }\n",
              "      })();\n",
              "    </script>\n",
              "  </div>\n",
              "\n",
              "    </div>\n",
              "  </div>\n"
            ],
            "application/vnd.google.colaboratory.intrinsic+json": {
              "type": "dataframe",
              "variable_name": "x_treino_constante",
              "summary": "{\n  \"name\": \"x_treino_constante\",\n  \"rows\": 4000,\n  \"fields\": [\n    {\n      \"column\": \"const\",\n      \"properties\": {\n        \"dtype\": \"number\",\n        \"std\": 0.0,\n        \"min\": 1.0,\n        \"max\": 1.0,\n        \"num_unique_values\": 1,\n        \"samples\": [\n          1.0\n        ],\n        \"semantic_type\": \"\",\n        \"description\": \"\"\n      }\n    },\n    {\n      \"column\": \"log_Area\",\n      \"properties\": {\n        \"dtype\": \"number\",\n        \"std\": 0.5701407408111983,\n        \"min\": 2.772588722239781,\n        \"max\": 7.600902459542082,\n        \"num_unique_values\": 359,\n        \"samples\": [\n          5.37989735354046\n        ],\n        \"semantic_type\": \"\",\n        \"description\": \"\"\n      }\n    },\n    {\n      \"column\": \"log_Dist_Praia\",\n      \"properties\": {\n        \"dtype\": \"number\",\n        \"std\": 0.7832249626216231,\n        \"min\": 0.0,\n        \"max\": 2.942486634054077,\n        \"num_unique_values\": 3254,\n        \"samples\": [\n          0.4067135837713243\n        ],\n        \"semantic_type\": \"\",\n        \"description\": \"\"\n      }\n    },\n    {\n      \"column\": \"log_Dist_Farmacia\",\n      \"properties\": {\n        \"dtype\": \"number\",\n        \"std\": 0.20028609282946028,\n        \"min\": 0.0007407255950477818,\n        \"max\": 0.6931406805388202,\n        \"num_unique_values\": 3989,\n        \"samples\": [\n          0.53002395086252\n        ],\n        \"semantic_type\": \"\",\n        \"description\": \"\"\n      }\n    }\n  ]\n}"
            }
          },
          "metadata": {},
          "execution_count": 25
        }
      ]
    },
    {
      "cell_type": "code",
      "source": [
        "modelo_regressao = sm.OLS(y_treino, x_treino_constante).fit()"
      ],
      "metadata": {
        "id": "q2gx8HwFA33O"
      },
      "execution_count": 26,
      "outputs": []
    },
    {
      "cell_type": "code",
      "source": [
        "modelo_regressao.summary()"
      ],
      "metadata": {
        "colab": {
          "base_uri": "https://localhost:8080/",
          "height": 494
        },
        "id": "RFwdEnqJA3sw",
        "outputId": "3944fa59-a12a-4a00-be92-aa9a05ffa752"
      },
      "execution_count": 27,
      "outputs": [
        {
          "output_type": "execute_result",
          "data": {
            "text/plain": [
              "<class 'statsmodels.iolib.summary.Summary'>\n",
              "\"\"\"\n",
              "                            OLS Regression Results                            \n",
              "==============================================================================\n",
              "Dep. Variable:              log_Valor   R-squared:                       0.803\n",
              "Model:                            OLS   Adj. R-squared:                  0.803\n",
              "Method:                 Least Squares   F-statistic:                     5430.\n",
              "Date:                Sun, 17 Aug 2025   Prob (F-statistic):               0.00\n",
              "Time:                        13:43:34   Log-Likelihood:                -2014.2\n",
              "No. Observations:                4000   AIC:                             4036.\n",
              "Df Residuals:                    3996   BIC:                             4062.\n",
              "Df Model:                           3                                         \n",
              "Covariance Type:            nonrobust                                         \n",
              "=====================================================================================\n",
              "                        coef    std err          t      P>|t|      [0.025      0.975]\n",
              "-------------------------------------------------------------------------------------\n",
              "const                 9.3916      0.060    155.624      0.000       9.273       9.510\n",
              "log_Area              1.0448      0.012     88.576      0.000       1.022       1.068\n",
              "log_Dist_Praia       -0.4888      0.009    -56.967      0.000      -0.506      -0.472\n",
              "log_Dist_Farmacia     0.0071      0.032      0.225      0.822      -0.055       0.069\n",
              "==============================================================================\n",
              "Omnibus:                       66.944   Durbin-Watson:                   2.039\n",
              "Prob(Omnibus):                  0.000   Jarque-Bera (JB):              116.042\n",
              "Skew:                           0.120   Prob(JB):                     6.34e-26\n",
              "Kurtosis:                       3.799   Cond. No.                         48.0\n",
              "==============================================================================\n",
              "\n",
              "Notes:\n",
              "[1] Standard Errors assume that the covariance matrix of the errors is correctly specified.\n",
              "\"\"\""
            ],
            "text/html": [
              "<table class=\"simpletable\">\n",
              "<caption>OLS Regression Results</caption>\n",
              "<tr>\n",
              "  <th>Dep. Variable:</th>        <td>log_Valor</td>    <th>  R-squared:         </th> <td>   0.803</td>\n",
              "</tr>\n",
              "<tr>\n",
              "  <th>Model:</th>                   <td>OLS</td>       <th>  Adj. R-squared:    </th> <td>   0.803</td>\n",
              "</tr>\n",
              "<tr>\n",
              "  <th>Method:</th>             <td>Least Squares</td>  <th>  F-statistic:       </th> <td>   5430.</td>\n",
              "</tr>\n",
              "<tr>\n",
              "  <th>Date:</th>             <td>Sun, 17 Aug 2025</td> <th>  Prob (F-statistic):</th>  <td>  0.00</td> \n",
              "</tr>\n",
              "<tr>\n",
              "  <th>Time:</th>                 <td>13:43:34</td>     <th>  Log-Likelihood:    </th> <td> -2014.2</td>\n",
              "</tr>\n",
              "<tr>\n",
              "  <th>No. Observations:</th>      <td>  4000</td>      <th>  AIC:               </th> <td>   4036.</td>\n",
              "</tr>\n",
              "<tr>\n",
              "  <th>Df Residuals:</th>          <td>  3996</td>      <th>  BIC:               </th> <td>   4062.</td>\n",
              "</tr>\n",
              "<tr>\n",
              "  <th>Df Model:</th>              <td>     3</td>      <th>                     </th>     <td> </td>   \n",
              "</tr>\n",
              "<tr>\n",
              "  <th>Covariance Type:</th>      <td>nonrobust</td>    <th>                     </th>     <td> </td>   \n",
              "</tr>\n",
              "</table>\n",
              "<table class=\"simpletable\">\n",
              "<tr>\n",
              "          <td></td>             <th>coef</th>     <th>std err</th>      <th>t</th>      <th>P>|t|</th>  <th>[0.025</th>    <th>0.975]</th>  \n",
              "</tr>\n",
              "<tr>\n",
              "  <th>const</th>             <td>    9.3916</td> <td>    0.060</td> <td>  155.624</td> <td> 0.000</td> <td>    9.273</td> <td>    9.510</td>\n",
              "</tr>\n",
              "<tr>\n",
              "  <th>log_Area</th>          <td>    1.0448</td> <td>    0.012</td> <td>   88.576</td> <td> 0.000</td> <td>    1.022</td> <td>    1.068</td>\n",
              "</tr>\n",
              "<tr>\n",
              "  <th>log_Dist_Praia</th>    <td>   -0.4888</td> <td>    0.009</td> <td>  -56.967</td> <td> 0.000</td> <td>   -0.506</td> <td>   -0.472</td>\n",
              "</tr>\n",
              "<tr>\n",
              "  <th>log_Dist_Farmacia</th> <td>    0.0071</td> <td>    0.032</td> <td>    0.225</td> <td> 0.822</td> <td>   -0.055</td> <td>    0.069</td>\n",
              "</tr>\n",
              "</table>\n",
              "<table class=\"simpletable\">\n",
              "<tr>\n",
              "  <th>Omnibus:</th>       <td>66.944</td> <th>  Durbin-Watson:     </th> <td>   2.039</td>\n",
              "</tr>\n",
              "<tr>\n",
              "  <th>Prob(Omnibus):</th> <td> 0.000</td> <th>  Jarque-Bera (JB):  </th> <td> 116.042</td>\n",
              "</tr>\n",
              "<tr>\n",
              "  <th>Skew:</th>          <td> 0.120</td> <th>  Prob(JB):          </th> <td>6.34e-26</td>\n",
              "</tr>\n",
              "<tr>\n",
              "  <th>Kurtosis:</th>      <td> 3.799</td> <th>  Cond. No.          </th> <td>    48.0</td>\n",
              "</tr>\n",
              "</table><br/><br/>Notes:<br/>[1] Standard Errors assume that the covariance matrix of the errors is correctly specified."
            ],
            "text/latex": "\\begin{center}\n\\begin{tabular}{lclc}\n\\toprule\n\\textbf{Dep. Variable:}      &    log\\_Valor    & \\textbf{  R-squared:         } &     0.803   \\\\\n\\textbf{Model:}              &       OLS        & \\textbf{  Adj. R-squared:    } &     0.803   \\\\\n\\textbf{Method:}             &  Least Squares   & \\textbf{  F-statistic:       } &     5430.   \\\\\n\\textbf{Date:}               & Sun, 17 Aug 2025 & \\textbf{  Prob (F-statistic):} &     0.00    \\\\\n\\textbf{Time:}               &     13:43:34     & \\textbf{  Log-Likelihood:    } &   -2014.2   \\\\\n\\textbf{No. Observations:}   &        4000      & \\textbf{  AIC:               } &     4036.   \\\\\n\\textbf{Df Residuals:}       &        3996      & \\textbf{  BIC:               } &     4062.   \\\\\n\\textbf{Df Model:}           &           3      & \\textbf{                     } &             \\\\\n\\textbf{Covariance Type:}    &    nonrobust     & \\textbf{                     } &             \\\\\n\\bottomrule\n\\end{tabular}\n\\begin{tabular}{lcccccc}\n                             & \\textbf{coef} & \\textbf{std err} & \\textbf{t} & \\textbf{P$> |$t$|$} & \\textbf{[0.025} & \\textbf{0.975]}  \\\\\n\\midrule\n\\textbf{const}               &       9.3916  &        0.060     &   155.624  &         0.000        &        9.273    &        9.510     \\\\\n\\textbf{log\\_Area}           &       1.0448  &        0.012     &    88.576  &         0.000        &        1.022    &        1.068     \\\\\n\\textbf{log\\_Dist\\_Praia}    &      -0.4888  &        0.009     &   -56.967  &         0.000        &       -0.506    &       -0.472     \\\\\n\\textbf{log\\_Dist\\_Farmacia} &       0.0071  &        0.032     &     0.225  &         0.822        &       -0.055    &        0.069     \\\\\n\\bottomrule\n\\end{tabular}\n\\begin{tabular}{lclc}\n\\textbf{Omnibus:}       & 66.944 & \\textbf{  Durbin-Watson:     } &    2.039  \\\\\n\\textbf{Prob(Omnibus):} &  0.000 & \\textbf{  Jarque-Bera (JB):  } &  116.042  \\\\\n\\textbf{Skew:}          &  0.120 & \\textbf{  Prob(JB):          } & 6.34e-26  \\\\\n\\textbf{Kurtosis:}      &  3.799 & \\textbf{  Cond. No.          } &     48.0  \\\\\n\\bottomrule\n\\end{tabular}\n%\\caption{OLS Regression Results}\n\\end{center}\n\nNotes: \\newline\n [1] Standard Errors assume that the covariance matrix of the errors is correctly specified."
          },
          "metadata": {},
          "execution_count": 27
        }
      ]
    },
    {
      "cell_type": "markdown",
      "source": [
        "- Vemos uma valor de r2 em 0.803, indicando bomr resultado"
      ],
      "metadata": {
        "id": "O9IwkY3TBesx"
      }
    },
    {
      "cell_type": "markdown",
      "source": [
        "- Vemos nos valores de p_valor, o unico p_valor alto o suficiente para retirar como relevante é o da distancia da farmacia, que é 0,822 => 0.05, logo true para rejeitar a hipotese H0."
      ],
      "metadata": {
        "id": "J-KoUIeQB6OF"
      }
    },
    {
      "cell_type": "markdown",
      "source": [
        "- Linha com 0.822 → coeficiente não significativo → essa variável pode não estar ajudando a explicar o modelo. LOGO A DISTÂNCIA A FARMACIA NÃO EXPLICA OS VALORES DO IMÓVEL."
      ],
      "metadata": {
        "id": "AuBNht0VCsbF"
      }
    },
    {
      "cell_type": "markdown",
      "source": [
        "## 4.4. Modificando o modelo e avaliando o ajuste\n",
        "\n",
        "----------"
      ],
      "metadata": {
        "id": "UkKWeqkLFPlf"
      }
    },
    {
      "cell_type": "markdown",
      "source": [
        "- refazer treino e teste"
      ],
      "metadata": {
        "id": "rn7OjBxCFVmx"
      }
    },
    {
      "cell_type": "code",
      "source": [
        "X = dados[['log_Area', 'log_Dist_Praia']] #deixando somente o que é relevante para melhorar o modelo\n",
        "x"
      ],
      "metadata": {
        "colab": {
          "base_uri": "https://localhost:8080/",
          "height": 424
        },
        "id": "ioV9kOXSBeaQ",
        "outputId": "455e20ba-2615-42ab-9043-8ec81c12626d"
      },
      "execution_count": 28,
      "outputs": [
        {
          "output_type": "execute_result",
          "data": {
            "text/plain": [
              "      log_Area  log_Dist_Praia  log_Dist_Farmacia\n",
              "0     5.634790        0.215857           0.584245\n",
              "1     5.337538        0.644028           0.126187\n",
              "2     5.135798        0.057821           0.352991\n",
              "3     4.605170        1.356655           0.422036\n",
              "4     5.099866        0.214916           0.175946\n",
              "...        ...             ...                ...\n",
              "4995  4.248495        0.391608           0.561266\n",
              "4996  4.852030        2.261189           0.314935\n",
              "4997  4.248495        0.225651           0.351647\n",
              "4998  4.007333        2.297093           0.519367\n",
              "4999  4.543295        0.573487           0.027533\n",
              "\n",
              "[5000 rows x 3 columns]"
            ],
            "text/html": [
              "\n",
              "  <div id=\"df-d91a5ea1-5678-47d5-8c3e-ee3791e4bddf\" class=\"colab-df-container\">\n",
              "    <div>\n",
              "<style scoped>\n",
              "    .dataframe tbody tr th:only-of-type {\n",
              "        vertical-align: middle;\n",
              "    }\n",
              "\n",
              "    .dataframe tbody tr th {\n",
              "        vertical-align: top;\n",
              "    }\n",
              "\n",
              "    .dataframe thead th {\n",
              "        text-align: right;\n",
              "    }\n",
              "</style>\n",
              "<table border=\"1\" class=\"dataframe\">\n",
              "  <thead>\n",
              "    <tr style=\"text-align: right;\">\n",
              "      <th></th>\n",
              "      <th>log_Area</th>\n",
              "      <th>log_Dist_Praia</th>\n",
              "      <th>log_Dist_Farmacia</th>\n",
              "    </tr>\n",
              "  </thead>\n",
              "  <tbody>\n",
              "    <tr>\n",
              "      <th>0</th>\n",
              "      <td>5.634790</td>\n",
              "      <td>0.215857</td>\n",
              "      <td>0.584245</td>\n",
              "    </tr>\n",
              "    <tr>\n",
              "      <th>1</th>\n",
              "      <td>5.337538</td>\n",
              "      <td>0.644028</td>\n",
              "      <td>0.126187</td>\n",
              "    </tr>\n",
              "    <tr>\n",
              "      <th>2</th>\n",
              "      <td>5.135798</td>\n",
              "      <td>0.057821</td>\n",
              "      <td>0.352991</td>\n",
              "    </tr>\n",
              "    <tr>\n",
              "      <th>3</th>\n",
              "      <td>4.605170</td>\n",
              "      <td>1.356655</td>\n",
              "      <td>0.422036</td>\n",
              "    </tr>\n",
              "    <tr>\n",
              "      <th>4</th>\n",
              "      <td>5.099866</td>\n",
              "      <td>0.214916</td>\n",
              "      <td>0.175946</td>\n",
              "    </tr>\n",
              "    <tr>\n",
              "      <th>...</th>\n",
              "      <td>...</td>\n",
              "      <td>...</td>\n",
              "      <td>...</td>\n",
              "    </tr>\n",
              "    <tr>\n",
              "      <th>4995</th>\n",
              "      <td>4.248495</td>\n",
              "      <td>0.391608</td>\n",
              "      <td>0.561266</td>\n",
              "    </tr>\n",
              "    <tr>\n",
              "      <th>4996</th>\n",
              "      <td>4.852030</td>\n",
              "      <td>2.261189</td>\n",
              "      <td>0.314935</td>\n",
              "    </tr>\n",
              "    <tr>\n",
              "      <th>4997</th>\n",
              "      <td>4.248495</td>\n",
              "      <td>0.225651</td>\n",
              "      <td>0.351647</td>\n",
              "    </tr>\n",
              "    <tr>\n",
              "      <th>4998</th>\n",
              "      <td>4.007333</td>\n",
              "      <td>2.297093</td>\n",
              "      <td>0.519367</td>\n",
              "    </tr>\n",
              "    <tr>\n",
              "      <th>4999</th>\n",
              "      <td>4.543295</td>\n",
              "      <td>0.573487</td>\n",
              "      <td>0.027533</td>\n",
              "    </tr>\n",
              "  </tbody>\n",
              "</table>\n",
              "<p>5000 rows × 3 columns</p>\n",
              "</div>\n",
              "    <div class=\"colab-df-buttons\">\n",
              "\n",
              "  <div class=\"colab-df-container\">\n",
              "    <button class=\"colab-df-convert\" onclick=\"convertToInteractive('df-d91a5ea1-5678-47d5-8c3e-ee3791e4bddf')\"\n",
              "            title=\"Convert this dataframe to an interactive table.\"\n",
              "            style=\"display:none;\">\n",
              "\n",
              "  <svg xmlns=\"http://www.w3.org/2000/svg\" height=\"24px\" viewBox=\"0 -960 960 960\">\n",
              "    <path d=\"M120-120v-720h720v720H120Zm60-500h600v-160H180v160Zm220 220h160v-160H400v160Zm0 220h160v-160H400v160ZM180-400h160v-160H180v160Zm440 0h160v-160H620v160ZM180-180h160v-160H180v160Zm440 0h160v-160H620v160Z\"/>\n",
              "  </svg>\n",
              "    </button>\n",
              "\n",
              "  <style>\n",
              "    .colab-df-container {\n",
              "      display:flex;\n",
              "      gap: 12px;\n",
              "    }\n",
              "\n",
              "    .colab-df-convert {\n",
              "      background-color: #E8F0FE;\n",
              "      border: none;\n",
              "      border-radius: 50%;\n",
              "      cursor: pointer;\n",
              "      display: none;\n",
              "      fill: #1967D2;\n",
              "      height: 32px;\n",
              "      padding: 0 0 0 0;\n",
              "      width: 32px;\n",
              "    }\n",
              "\n",
              "    .colab-df-convert:hover {\n",
              "      background-color: #E2EBFA;\n",
              "      box-shadow: 0px 1px 2px rgba(60, 64, 67, 0.3), 0px 1px 3px 1px rgba(60, 64, 67, 0.15);\n",
              "      fill: #174EA6;\n",
              "    }\n",
              "\n",
              "    .colab-df-buttons div {\n",
              "      margin-bottom: 4px;\n",
              "    }\n",
              "\n",
              "    [theme=dark] .colab-df-convert {\n",
              "      background-color: #3B4455;\n",
              "      fill: #D2E3FC;\n",
              "    }\n",
              "\n",
              "    [theme=dark] .colab-df-convert:hover {\n",
              "      background-color: #434B5C;\n",
              "      box-shadow: 0px 1px 3px 1px rgba(0, 0, 0, 0.15);\n",
              "      filter: drop-shadow(0px 1px 2px rgba(0, 0, 0, 0.3));\n",
              "      fill: #FFFFFF;\n",
              "    }\n",
              "  </style>\n",
              "\n",
              "    <script>\n",
              "      const buttonEl =\n",
              "        document.querySelector('#df-d91a5ea1-5678-47d5-8c3e-ee3791e4bddf button.colab-df-convert');\n",
              "      buttonEl.style.display =\n",
              "        google.colab.kernel.accessAllowed ? 'block' : 'none';\n",
              "\n",
              "      async function convertToInteractive(key) {\n",
              "        const element = document.querySelector('#df-d91a5ea1-5678-47d5-8c3e-ee3791e4bddf');\n",
              "        const dataTable =\n",
              "          await google.colab.kernel.invokeFunction('convertToInteractive',\n",
              "                                                    [key], {});\n",
              "        if (!dataTable) return;\n",
              "\n",
              "        const docLinkHtml = 'Like what you see? Visit the ' +\n",
              "          '<a target=\"_blank\" href=https://colab.research.google.com/notebooks/data_table.ipynb>data table notebook</a>'\n",
              "          + ' to learn more about interactive tables.';\n",
              "        element.innerHTML = '';\n",
              "        dataTable['output_type'] = 'display_data';\n",
              "        await google.colab.output.renderOutput(dataTable, element);\n",
              "        const docLink = document.createElement('div');\n",
              "        docLink.innerHTML = docLinkHtml;\n",
              "        element.appendChild(docLink);\n",
              "      }\n",
              "    </script>\n",
              "  </div>\n",
              "\n",
              "\n",
              "    <div id=\"df-4740a535-402e-412e-8495-428c5eb70ed7\">\n",
              "      <button class=\"colab-df-quickchart\" onclick=\"quickchart('df-4740a535-402e-412e-8495-428c5eb70ed7')\"\n",
              "                title=\"Suggest charts\"\n",
              "                style=\"display:none;\">\n",
              "\n",
              "<svg xmlns=\"http://www.w3.org/2000/svg\" height=\"24px\"viewBox=\"0 0 24 24\"\n",
              "     width=\"24px\">\n",
              "    <g>\n",
              "        <path d=\"M19 3H5c-1.1 0-2 .9-2 2v14c0 1.1.9 2 2 2h14c1.1 0 2-.9 2-2V5c0-1.1-.9-2-2-2zM9 17H7v-7h2v7zm4 0h-2V7h2v10zm4 0h-2v-4h2v4z\"/>\n",
              "    </g>\n",
              "</svg>\n",
              "      </button>\n",
              "\n",
              "<style>\n",
              "  .colab-df-quickchart {\n",
              "      --bg-color: #E8F0FE;\n",
              "      --fill-color: #1967D2;\n",
              "      --hover-bg-color: #E2EBFA;\n",
              "      --hover-fill-color: #174EA6;\n",
              "      --disabled-fill-color: #AAA;\n",
              "      --disabled-bg-color: #DDD;\n",
              "  }\n",
              "\n",
              "  [theme=dark] .colab-df-quickchart {\n",
              "      --bg-color: #3B4455;\n",
              "      --fill-color: #D2E3FC;\n",
              "      --hover-bg-color: #434B5C;\n",
              "      --hover-fill-color: #FFFFFF;\n",
              "      --disabled-bg-color: #3B4455;\n",
              "      --disabled-fill-color: #666;\n",
              "  }\n",
              "\n",
              "  .colab-df-quickchart {\n",
              "    background-color: var(--bg-color);\n",
              "    border: none;\n",
              "    border-radius: 50%;\n",
              "    cursor: pointer;\n",
              "    display: none;\n",
              "    fill: var(--fill-color);\n",
              "    height: 32px;\n",
              "    padding: 0;\n",
              "    width: 32px;\n",
              "  }\n",
              "\n",
              "  .colab-df-quickchart:hover {\n",
              "    background-color: var(--hover-bg-color);\n",
              "    box-shadow: 0 1px 2px rgba(60, 64, 67, 0.3), 0 1px 3px 1px rgba(60, 64, 67, 0.15);\n",
              "    fill: var(--button-hover-fill-color);\n",
              "  }\n",
              "\n",
              "  .colab-df-quickchart-complete:disabled,\n",
              "  .colab-df-quickchart-complete:disabled:hover {\n",
              "    background-color: var(--disabled-bg-color);\n",
              "    fill: var(--disabled-fill-color);\n",
              "    box-shadow: none;\n",
              "  }\n",
              "\n",
              "  .colab-df-spinner {\n",
              "    border: 2px solid var(--fill-color);\n",
              "    border-color: transparent;\n",
              "    border-bottom-color: var(--fill-color);\n",
              "    animation:\n",
              "      spin 1s steps(1) infinite;\n",
              "  }\n",
              "\n",
              "  @keyframes spin {\n",
              "    0% {\n",
              "      border-color: transparent;\n",
              "      border-bottom-color: var(--fill-color);\n",
              "      border-left-color: var(--fill-color);\n",
              "    }\n",
              "    20% {\n",
              "      border-color: transparent;\n",
              "      border-left-color: var(--fill-color);\n",
              "      border-top-color: var(--fill-color);\n",
              "    }\n",
              "    30% {\n",
              "      border-color: transparent;\n",
              "      border-left-color: var(--fill-color);\n",
              "      border-top-color: var(--fill-color);\n",
              "      border-right-color: var(--fill-color);\n",
              "    }\n",
              "    40% {\n",
              "      border-color: transparent;\n",
              "      border-right-color: var(--fill-color);\n",
              "      border-top-color: var(--fill-color);\n",
              "    }\n",
              "    60% {\n",
              "      border-color: transparent;\n",
              "      border-right-color: var(--fill-color);\n",
              "    }\n",
              "    80% {\n",
              "      border-color: transparent;\n",
              "      border-right-color: var(--fill-color);\n",
              "      border-bottom-color: var(--fill-color);\n",
              "    }\n",
              "    90% {\n",
              "      border-color: transparent;\n",
              "      border-bottom-color: var(--fill-color);\n",
              "    }\n",
              "  }\n",
              "</style>\n",
              "\n",
              "      <script>\n",
              "        async function quickchart(key) {\n",
              "          const quickchartButtonEl =\n",
              "            document.querySelector('#' + key + ' button');\n",
              "          quickchartButtonEl.disabled = true;  // To prevent multiple clicks.\n",
              "          quickchartButtonEl.classList.add('colab-df-spinner');\n",
              "          try {\n",
              "            const charts = await google.colab.kernel.invokeFunction(\n",
              "                'suggestCharts', [key], {});\n",
              "          } catch (error) {\n",
              "            console.error('Error during call to suggestCharts:', error);\n",
              "          }\n",
              "          quickchartButtonEl.classList.remove('colab-df-spinner');\n",
              "          quickchartButtonEl.classList.add('colab-df-quickchart-complete');\n",
              "        }\n",
              "        (() => {\n",
              "          let quickchartButtonEl =\n",
              "            document.querySelector('#df-4740a535-402e-412e-8495-428c5eb70ed7 button');\n",
              "          quickchartButtonEl.style.display =\n",
              "            google.colab.kernel.accessAllowed ? 'block' : 'none';\n",
              "        })();\n",
              "      </script>\n",
              "    </div>\n",
              "\n",
              "  <div id=\"id_56c3ef28-736d-47c7-b8ee-bbb72096fba3\">\n",
              "    <style>\n",
              "      .colab-df-generate {\n",
              "        background-color: #E8F0FE;\n",
              "        border: none;\n",
              "        border-radius: 50%;\n",
              "        cursor: pointer;\n",
              "        display: none;\n",
              "        fill: #1967D2;\n",
              "        height: 32px;\n",
              "        padding: 0 0 0 0;\n",
              "        width: 32px;\n",
              "      }\n",
              "\n",
              "      .colab-df-generate:hover {\n",
              "        background-color: #E2EBFA;\n",
              "        box-shadow: 0px 1px 2px rgba(60, 64, 67, 0.3), 0px 1px 3px 1px rgba(60, 64, 67, 0.15);\n",
              "        fill: #174EA6;\n",
              "      }\n",
              "\n",
              "      [theme=dark] .colab-df-generate {\n",
              "        background-color: #3B4455;\n",
              "        fill: #D2E3FC;\n",
              "      }\n",
              "\n",
              "      [theme=dark] .colab-df-generate:hover {\n",
              "        background-color: #434B5C;\n",
              "        box-shadow: 0px 1px 3px 1px rgba(0, 0, 0, 0.15);\n",
              "        filter: drop-shadow(0px 1px 2px rgba(0, 0, 0, 0.3));\n",
              "        fill: #FFFFFF;\n",
              "      }\n",
              "    </style>\n",
              "    <button class=\"colab-df-generate\" onclick=\"generateWithVariable('x')\"\n",
              "            title=\"Generate code using this dataframe.\"\n",
              "            style=\"display:none;\">\n",
              "\n",
              "  <svg xmlns=\"http://www.w3.org/2000/svg\" height=\"24px\"viewBox=\"0 0 24 24\"\n",
              "       width=\"24px\">\n",
              "    <path d=\"M7,19H8.4L18.45,9,17,7.55,7,17.6ZM5,21V16.75L18.45,3.32a2,2,0,0,1,2.83,0l1.4,1.43a1.91,1.91,0,0,1,.58,1.4,1.91,1.91,0,0,1-.58,1.4L9.25,21ZM18.45,9,17,7.55Zm-12,3A5.31,5.31,0,0,0,4.9,8.1,5.31,5.31,0,0,0,1,6.5,5.31,5.31,0,0,0,4.9,4.9,5.31,5.31,0,0,0,6.5,1,5.31,5.31,0,0,0,8.1,4.9,5.31,5.31,0,0,0,12,6.5,5.46,5.46,0,0,0,6.5,12Z\"/>\n",
              "  </svg>\n",
              "    </button>\n",
              "    <script>\n",
              "      (() => {\n",
              "      const buttonEl =\n",
              "        document.querySelector('#id_56c3ef28-736d-47c7-b8ee-bbb72096fba3 button.colab-df-generate');\n",
              "      buttonEl.style.display =\n",
              "        google.colab.kernel.accessAllowed ? 'block' : 'none';\n",
              "\n",
              "      buttonEl.onclick = () => {\n",
              "        google.colab.notebook.generateWithVariable('x');\n",
              "      }\n",
              "      })();\n",
              "    </script>\n",
              "  </div>\n",
              "\n",
              "    </div>\n",
              "  </div>\n"
            ],
            "application/vnd.google.colaboratory.intrinsic+json": {
              "type": "dataframe",
              "variable_name": "x",
              "summary": "{\n  \"name\": \"x\",\n  \"rows\": 5000,\n  \"fields\": [\n    {\n      \"column\": \"log_Area\",\n      \"properties\": {\n        \"dtype\": \"number\",\n        \"std\": 0.5686786474195226,\n        \"min\": 2.772588722239781,\n        \"max\": 7.600902459542082,\n        \"num_unique_values\": 373,\n        \"samples\": [\n          5.602118820879701,\n          4.060443010546419,\n          4.219507705176107\n        ],\n        \"semantic_type\": \"\",\n        \"description\": \"\"\n      }\n    },\n    {\n      \"column\": \"log_Dist_Praia\",\n      \"properties\": {\n        \"dtype\": \"number\",\n        \"std\": 0.7818237239809422,\n        \"min\": 0.0,\n        \"max\": 2.942486634054077,\n        \"num_unique_values\": 3939,\n        \"samples\": [\n          2.0165824842532394,\n          0.35401395845510947,\n          2.1695669665687456\n        ],\n        \"semantic_type\": \"\",\n        \"description\": \"\"\n      }\n    },\n    {\n      \"column\": \"log_Dist_Farmacia\",\n      \"properties\": {\n        \"dtype\": \"number\",\n        \"std\": 0.20012049613187563,\n        \"min\": 0.00033094523158531144,\n        \"max\": 0.6931406805388202,\n        \"num_unique_values\": 4985,\n        \"samples\": [\n          0.14683771948157795,\n          0.6604979478537009,\n          0.25426772965678246\n        ],\n        \"semantic_type\": \"\",\n        \"description\": \"\"\n      }\n    }\n  ]\n}"
            }
          },
          "metadata": {},
          "execution_count": 28
        }
      ]
    },
    {
      "cell_type": "code",
      "source": [
        "x_treino, x_teste, y_treino, y_teste = train_test_split(X, y, test_size = 0.3, random_state = 42)"
      ],
      "metadata": {
        "id": "ocOTEr9YFmks"
      },
      "execution_count": 29,
      "outputs": []
    },
    {
      "cell_type": "code",
      "source": [
        "x_treino_constante = sm.add_constant(x_treino)\n",
        "x_treino_constante"
      ],
      "metadata": {
        "colab": {
          "base_uri": "https://localhost:8080/",
          "height": 424
        },
        "id": "Q8T1euBFFxnM",
        "outputId": "07d312a3-71c0-4fd0-f07e-d93898f85e0b"
      },
      "execution_count": 30,
      "outputs": [
        {
          "output_type": "execute_result",
          "data": {
            "text/plain": [
              "      const  log_Area  log_Dist_Praia\n",
              "1840    1.0  5.267858        0.405858\n",
              "2115    1.0  4.532599        0.669865\n",
              "4437    1.0  4.867534        1.036766\n",
              "1146    1.0  4.553877        0.384800\n",
              "2486    1.0  3.951244        1.717810\n",
              "...     ...       ...             ...\n",
              "4426    1.0  5.393628        0.235646\n",
              "466     1.0  5.298317        0.123698\n",
              "3092    1.0  4.553877        0.582539\n",
              "3772    1.0  3.891820        2.158521\n",
              "860     1.0  4.718499        2.018031\n",
              "\n",
              "[3500 rows x 3 columns]"
            ],
            "text/html": [
              "\n",
              "  <div id=\"df-81e5c07a-ad51-40dd-96d3-53ff8f60525b\" class=\"colab-df-container\">\n",
              "    <div>\n",
              "<style scoped>\n",
              "    .dataframe tbody tr th:only-of-type {\n",
              "        vertical-align: middle;\n",
              "    }\n",
              "\n",
              "    .dataframe tbody tr th {\n",
              "        vertical-align: top;\n",
              "    }\n",
              "\n",
              "    .dataframe thead th {\n",
              "        text-align: right;\n",
              "    }\n",
              "</style>\n",
              "<table border=\"1\" class=\"dataframe\">\n",
              "  <thead>\n",
              "    <tr style=\"text-align: right;\">\n",
              "      <th></th>\n",
              "      <th>const</th>\n",
              "      <th>log_Area</th>\n",
              "      <th>log_Dist_Praia</th>\n",
              "    </tr>\n",
              "  </thead>\n",
              "  <tbody>\n",
              "    <tr>\n",
              "      <th>1840</th>\n",
              "      <td>1.0</td>\n",
              "      <td>5.267858</td>\n",
              "      <td>0.405858</td>\n",
              "    </tr>\n",
              "    <tr>\n",
              "      <th>2115</th>\n",
              "      <td>1.0</td>\n",
              "      <td>4.532599</td>\n",
              "      <td>0.669865</td>\n",
              "    </tr>\n",
              "    <tr>\n",
              "      <th>4437</th>\n",
              "      <td>1.0</td>\n",
              "      <td>4.867534</td>\n",
              "      <td>1.036766</td>\n",
              "    </tr>\n",
              "    <tr>\n",
              "      <th>1146</th>\n",
              "      <td>1.0</td>\n",
              "      <td>4.553877</td>\n",
              "      <td>0.384800</td>\n",
              "    </tr>\n",
              "    <tr>\n",
              "      <th>2486</th>\n",
              "      <td>1.0</td>\n",
              "      <td>3.951244</td>\n",
              "      <td>1.717810</td>\n",
              "    </tr>\n",
              "    <tr>\n",
              "      <th>...</th>\n",
              "      <td>...</td>\n",
              "      <td>...</td>\n",
              "      <td>...</td>\n",
              "    </tr>\n",
              "    <tr>\n",
              "      <th>4426</th>\n",
              "      <td>1.0</td>\n",
              "      <td>5.393628</td>\n",
              "      <td>0.235646</td>\n",
              "    </tr>\n",
              "    <tr>\n",
              "      <th>466</th>\n",
              "      <td>1.0</td>\n",
              "      <td>5.298317</td>\n",
              "      <td>0.123698</td>\n",
              "    </tr>\n",
              "    <tr>\n",
              "      <th>3092</th>\n",
              "      <td>1.0</td>\n",
              "      <td>4.553877</td>\n",
              "      <td>0.582539</td>\n",
              "    </tr>\n",
              "    <tr>\n",
              "      <th>3772</th>\n",
              "      <td>1.0</td>\n",
              "      <td>3.891820</td>\n",
              "      <td>2.158521</td>\n",
              "    </tr>\n",
              "    <tr>\n",
              "      <th>860</th>\n",
              "      <td>1.0</td>\n",
              "      <td>4.718499</td>\n",
              "      <td>2.018031</td>\n",
              "    </tr>\n",
              "  </tbody>\n",
              "</table>\n",
              "<p>3500 rows × 3 columns</p>\n",
              "</div>\n",
              "    <div class=\"colab-df-buttons\">\n",
              "\n",
              "  <div class=\"colab-df-container\">\n",
              "    <button class=\"colab-df-convert\" onclick=\"convertToInteractive('df-81e5c07a-ad51-40dd-96d3-53ff8f60525b')\"\n",
              "            title=\"Convert this dataframe to an interactive table.\"\n",
              "            style=\"display:none;\">\n",
              "\n",
              "  <svg xmlns=\"http://www.w3.org/2000/svg\" height=\"24px\" viewBox=\"0 -960 960 960\">\n",
              "    <path d=\"M120-120v-720h720v720H120Zm60-500h600v-160H180v160Zm220 220h160v-160H400v160Zm0 220h160v-160H400v160ZM180-400h160v-160H180v160Zm440 0h160v-160H620v160ZM180-180h160v-160H180v160Zm440 0h160v-160H620v160Z\"/>\n",
              "  </svg>\n",
              "    </button>\n",
              "\n",
              "  <style>\n",
              "    .colab-df-container {\n",
              "      display:flex;\n",
              "      gap: 12px;\n",
              "    }\n",
              "\n",
              "    .colab-df-convert {\n",
              "      background-color: #E8F0FE;\n",
              "      border: none;\n",
              "      border-radius: 50%;\n",
              "      cursor: pointer;\n",
              "      display: none;\n",
              "      fill: #1967D2;\n",
              "      height: 32px;\n",
              "      padding: 0 0 0 0;\n",
              "      width: 32px;\n",
              "    }\n",
              "\n",
              "    .colab-df-convert:hover {\n",
              "      background-color: #E2EBFA;\n",
              "      box-shadow: 0px 1px 2px rgba(60, 64, 67, 0.3), 0px 1px 3px 1px rgba(60, 64, 67, 0.15);\n",
              "      fill: #174EA6;\n",
              "    }\n",
              "\n",
              "    .colab-df-buttons div {\n",
              "      margin-bottom: 4px;\n",
              "    }\n",
              "\n",
              "    [theme=dark] .colab-df-convert {\n",
              "      background-color: #3B4455;\n",
              "      fill: #D2E3FC;\n",
              "    }\n",
              "\n",
              "    [theme=dark] .colab-df-convert:hover {\n",
              "      background-color: #434B5C;\n",
              "      box-shadow: 0px 1px 3px 1px rgba(0, 0, 0, 0.15);\n",
              "      filter: drop-shadow(0px 1px 2px rgba(0, 0, 0, 0.3));\n",
              "      fill: #FFFFFF;\n",
              "    }\n",
              "  </style>\n",
              "\n",
              "    <script>\n",
              "      const buttonEl =\n",
              "        document.querySelector('#df-81e5c07a-ad51-40dd-96d3-53ff8f60525b button.colab-df-convert');\n",
              "      buttonEl.style.display =\n",
              "        google.colab.kernel.accessAllowed ? 'block' : 'none';\n",
              "\n",
              "      async function convertToInteractive(key) {\n",
              "        const element = document.querySelector('#df-81e5c07a-ad51-40dd-96d3-53ff8f60525b');\n",
              "        const dataTable =\n",
              "          await google.colab.kernel.invokeFunction('convertToInteractive',\n",
              "                                                    [key], {});\n",
              "        if (!dataTable) return;\n",
              "\n",
              "        const docLinkHtml = 'Like what you see? Visit the ' +\n",
              "          '<a target=\"_blank\" href=https://colab.research.google.com/notebooks/data_table.ipynb>data table notebook</a>'\n",
              "          + ' to learn more about interactive tables.';\n",
              "        element.innerHTML = '';\n",
              "        dataTable['output_type'] = 'display_data';\n",
              "        await google.colab.output.renderOutput(dataTable, element);\n",
              "        const docLink = document.createElement('div');\n",
              "        docLink.innerHTML = docLinkHtml;\n",
              "        element.appendChild(docLink);\n",
              "      }\n",
              "    </script>\n",
              "  </div>\n",
              "\n",
              "\n",
              "    <div id=\"df-25656f82-1803-4bfe-b95e-d0146de46a75\">\n",
              "      <button class=\"colab-df-quickchart\" onclick=\"quickchart('df-25656f82-1803-4bfe-b95e-d0146de46a75')\"\n",
              "                title=\"Suggest charts\"\n",
              "                style=\"display:none;\">\n",
              "\n",
              "<svg xmlns=\"http://www.w3.org/2000/svg\" height=\"24px\"viewBox=\"0 0 24 24\"\n",
              "     width=\"24px\">\n",
              "    <g>\n",
              "        <path d=\"M19 3H5c-1.1 0-2 .9-2 2v14c0 1.1.9 2 2 2h14c1.1 0 2-.9 2-2V5c0-1.1-.9-2-2-2zM9 17H7v-7h2v7zm4 0h-2V7h2v10zm4 0h-2v-4h2v4z\"/>\n",
              "    </g>\n",
              "</svg>\n",
              "      </button>\n",
              "\n",
              "<style>\n",
              "  .colab-df-quickchart {\n",
              "      --bg-color: #E8F0FE;\n",
              "      --fill-color: #1967D2;\n",
              "      --hover-bg-color: #E2EBFA;\n",
              "      --hover-fill-color: #174EA6;\n",
              "      --disabled-fill-color: #AAA;\n",
              "      --disabled-bg-color: #DDD;\n",
              "  }\n",
              "\n",
              "  [theme=dark] .colab-df-quickchart {\n",
              "      --bg-color: #3B4455;\n",
              "      --fill-color: #D2E3FC;\n",
              "      --hover-bg-color: #434B5C;\n",
              "      --hover-fill-color: #FFFFFF;\n",
              "      --disabled-bg-color: #3B4455;\n",
              "      --disabled-fill-color: #666;\n",
              "  }\n",
              "\n",
              "  .colab-df-quickchart {\n",
              "    background-color: var(--bg-color);\n",
              "    border: none;\n",
              "    border-radius: 50%;\n",
              "    cursor: pointer;\n",
              "    display: none;\n",
              "    fill: var(--fill-color);\n",
              "    height: 32px;\n",
              "    padding: 0;\n",
              "    width: 32px;\n",
              "  }\n",
              "\n",
              "  .colab-df-quickchart:hover {\n",
              "    background-color: var(--hover-bg-color);\n",
              "    box-shadow: 0 1px 2px rgba(60, 64, 67, 0.3), 0 1px 3px 1px rgba(60, 64, 67, 0.15);\n",
              "    fill: var(--button-hover-fill-color);\n",
              "  }\n",
              "\n",
              "  .colab-df-quickchart-complete:disabled,\n",
              "  .colab-df-quickchart-complete:disabled:hover {\n",
              "    background-color: var(--disabled-bg-color);\n",
              "    fill: var(--disabled-fill-color);\n",
              "    box-shadow: none;\n",
              "  }\n",
              "\n",
              "  .colab-df-spinner {\n",
              "    border: 2px solid var(--fill-color);\n",
              "    border-color: transparent;\n",
              "    border-bottom-color: var(--fill-color);\n",
              "    animation:\n",
              "      spin 1s steps(1) infinite;\n",
              "  }\n",
              "\n",
              "  @keyframes spin {\n",
              "    0% {\n",
              "      border-color: transparent;\n",
              "      border-bottom-color: var(--fill-color);\n",
              "      border-left-color: var(--fill-color);\n",
              "    }\n",
              "    20% {\n",
              "      border-color: transparent;\n",
              "      border-left-color: var(--fill-color);\n",
              "      border-top-color: var(--fill-color);\n",
              "    }\n",
              "    30% {\n",
              "      border-color: transparent;\n",
              "      border-left-color: var(--fill-color);\n",
              "      border-top-color: var(--fill-color);\n",
              "      border-right-color: var(--fill-color);\n",
              "    }\n",
              "    40% {\n",
              "      border-color: transparent;\n",
              "      border-right-color: var(--fill-color);\n",
              "      border-top-color: var(--fill-color);\n",
              "    }\n",
              "    60% {\n",
              "      border-color: transparent;\n",
              "      border-right-color: var(--fill-color);\n",
              "    }\n",
              "    80% {\n",
              "      border-color: transparent;\n",
              "      border-right-color: var(--fill-color);\n",
              "      border-bottom-color: var(--fill-color);\n",
              "    }\n",
              "    90% {\n",
              "      border-color: transparent;\n",
              "      border-bottom-color: var(--fill-color);\n",
              "    }\n",
              "  }\n",
              "</style>\n",
              "\n",
              "      <script>\n",
              "        async function quickchart(key) {\n",
              "          const quickchartButtonEl =\n",
              "            document.querySelector('#' + key + ' button');\n",
              "          quickchartButtonEl.disabled = true;  // To prevent multiple clicks.\n",
              "          quickchartButtonEl.classList.add('colab-df-spinner');\n",
              "          try {\n",
              "            const charts = await google.colab.kernel.invokeFunction(\n",
              "                'suggestCharts', [key], {});\n",
              "          } catch (error) {\n",
              "            console.error('Error during call to suggestCharts:', error);\n",
              "          }\n",
              "          quickchartButtonEl.classList.remove('colab-df-spinner');\n",
              "          quickchartButtonEl.classList.add('colab-df-quickchart-complete');\n",
              "        }\n",
              "        (() => {\n",
              "          let quickchartButtonEl =\n",
              "            document.querySelector('#df-25656f82-1803-4bfe-b95e-d0146de46a75 button');\n",
              "          quickchartButtonEl.style.display =\n",
              "            google.colab.kernel.accessAllowed ? 'block' : 'none';\n",
              "        })();\n",
              "      </script>\n",
              "    </div>\n",
              "\n",
              "  <div id=\"id_f4908705-0a78-4955-9215-34e4655753c3\">\n",
              "    <style>\n",
              "      .colab-df-generate {\n",
              "        background-color: #E8F0FE;\n",
              "        border: none;\n",
              "        border-radius: 50%;\n",
              "        cursor: pointer;\n",
              "        display: none;\n",
              "        fill: #1967D2;\n",
              "        height: 32px;\n",
              "        padding: 0 0 0 0;\n",
              "        width: 32px;\n",
              "      }\n",
              "\n",
              "      .colab-df-generate:hover {\n",
              "        background-color: #E2EBFA;\n",
              "        box-shadow: 0px 1px 2px rgba(60, 64, 67, 0.3), 0px 1px 3px 1px rgba(60, 64, 67, 0.15);\n",
              "        fill: #174EA6;\n",
              "      }\n",
              "\n",
              "      [theme=dark] .colab-df-generate {\n",
              "        background-color: #3B4455;\n",
              "        fill: #D2E3FC;\n",
              "      }\n",
              "\n",
              "      [theme=dark] .colab-df-generate:hover {\n",
              "        background-color: #434B5C;\n",
              "        box-shadow: 0px 1px 3px 1px rgba(0, 0, 0, 0.15);\n",
              "        filter: drop-shadow(0px 1px 2px rgba(0, 0, 0, 0.3));\n",
              "        fill: #FFFFFF;\n",
              "      }\n",
              "    </style>\n",
              "    <button class=\"colab-df-generate\" onclick=\"generateWithVariable('x_treino_constante')\"\n",
              "            title=\"Generate code using this dataframe.\"\n",
              "            style=\"display:none;\">\n",
              "\n",
              "  <svg xmlns=\"http://www.w3.org/2000/svg\" height=\"24px\"viewBox=\"0 0 24 24\"\n",
              "       width=\"24px\">\n",
              "    <path d=\"M7,19H8.4L18.45,9,17,7.55,7,17.6ZM5,21V16.75L18.45,3.32a2,2,0,0,1,2.83,0l1.4,1.43a1.91,1.91,0,0,1,.58,1.4,1.91,1.91,0,0,1-.58,1.4L9.25,21ZM18.45,9,17,7.55Zm-12,3A5.31,5.31,0,0,0,4.9,8.1,5.31,5.31,0,0,0,1,6.5,5.31,5.31,0,0,0,4.9,4.9,5.31,5.31,0,0,0,6.5,1,5.31,5.31,0,0,0,8.1,4.9,5.31,5.31,0,0,0,12,6.5,5.46,5.46,0,0,0,6.5,12Z\"/>\n",
              "  </svg>\n",
              "    </button>\n",
              "    <script>\n",
              "      (() => {\n",
              "      const buttonEl =\n",
              "        document.querySelector('#id_f4908705-0a78-4955-9215-34e4655753c3 button.colab-df-generate');\n",
              "      buttonEl.style.display =\n",
              "        google.colab.kernel.accessAllowed ? 'block' : 'none';\n",
              "\n",
              "      buttonEl.onclick = () => {\n",
              "        google.colab.notebook.generateWithVariable('x_treino_constante');\n",
              "      }\n",
              "      })();\n",
              "    </script>\n",
              "  </div>\n",
              "\n",
              "    </div>\n",
              "  </div>\n"
            ],
            "application/vnd.google.colaboratory.intrinsic+json": {
              "type": "dataframe",
              "variable_name": "x_treino_constante",
              "summary": "{\n  \"name\": \"x_treino_constante\",\n  \"rows\": 3500,\n  \"fields\": [\n    {\n      \"column\": \"const\",\n      \"properties\": {\n        \"dtype\": \"number\",\n        \"std\": 0.0,\n        \"min\": 1.0,\n        \"max\": 1.0,\n        \"num_unique_values\": 1,\n        \"samples\": [\n          1.0\n        ],\n        \"semantic_type\": \"\",\n        \"description\": \"\"\n      }\n    },\n    {\n      \"column\": \"log_Area\",\n      \"properties\": {\n        \"dtype\": \"number\",\n        \"std\": 0.5708504423721248,\n        \"min\": 2.772588722239781,\n        \"max\": 7.600902459542082,\n        \"num_unique_values\": 342,\n        \"samples\": [\n          5.730099782973574\n        ],\n        \"semantic_type\": \"\",\n        \"description\": \"\"\n      }\n    },\n    {\n      \"column\": \"log_Dist_Praia\",\n      \"properties\": {\n        \"dtype\": \"number\",\n        \"std\": 0.7844572216540753,\n        \"min\": 0.0,\n        \"max\": 2.942486634054077,\n        \"num_unique_values\": 2902,\n        \"samples\": [\n          1.2956700919425732\n        ],\n        \"semantic_type\": \"\",\n        \"description\": \"\"\n      }\n    }\n  ]\n}"
            }
          },
          "metadata": {},
          "execution_count": 30
        }
      ]
    },
    {
      "cell_type": "code",
      "source": [
        "modelo_regressao_sem_dist_farmacia = sm.OLS(y_treino, x_treino_constante).fit()\n",
        "modelo_regressao_sem_dist_farmacia.summary()"
      ],
      "metadata": {
        "colab": {
          "base_uri": "https://localhost:8080/",
          "height": 473
        },
        "id": "DWA4p_K1F1LD",
        "outputId": "7f8e86c1-86fc-4c63-b6bb-2d32b6532d45"
      },
      "execution_count": 31,
      "outputs": [
        {
          "output_type": "execute_result",
          "data": {
            "text/plain": [
              "<class 'statsmodels.iolib.summary.Summary'>\n",
              "\"\"\"\n",
              "                            OLS Regression Results                            \n",
              "==============================================================================\n",
              "Dep. Variable:              log_Valor   R-squared:                       0.803\n",
              "Model:                            OLS   Adj. R-squared:                  0.803\n",
              "Method:                 Least Squares   F-statistic:                     7125.\n",
              "Date:                Sun, 17 Aug 2025   Prob (F-statistic):               0.00\n",
              "Time:                        13:43:34   Log-Likelihood:                -1771.4\n",
              "No. Observations:                3500   AIC:                             3549.\n",
              "Df Residuals:                    3497   BIC:                             3567.\n",
              "Df Model:                           2                                         \n",
              "Covariance Type:            nonrobust                                         \n",
              "==================================================================================\n",
              "                     coef    std err          t      P>|t|      [0.025      0.975]\n",
              "----------------------------------------------------------------------------------\n",
              "const              9.3894      0.063    149.254      0.000       9.266       9.513\n",
              "log_Area           1.0455      0.013     82.850      0.000       1.021       1.070\n",
              "log_Dist_Praia    -0.4893      0.009    -53.286      0.000      -0.507      -0.471\n",
              "==============================================================================\n",
              "Omnibus:                       69.805   Durbin-Watson:                   2.029\n",
              "Prob(Omnibus):                  0.000   Jarque-Bera (JB):              122.881\n",
              "Skew:                           0.151   Prob(JB):                     2.07e-27\n",
              "Kurtosis:                       3.867   Cond. No.                         46.3\n",
              "==============================================================================\n",
              "\n",
              "Notes:\n",
              "[1] Standard Errors assume that the covariance matrix of the errors is correctly specified.\n",
              "\"\"\""
            ],
            "text/html": [
              "<table class=\"simpletable\">\n",
              "<caption>OLS Regression Results</caption>\n",
              "<tr>\n",
              "  <th>Dep. Variable:</th>        <td>log_Valor</td>    <th>  R-squared:         </th> <td>   0.803</td>\n",
              "</tr>\n",
              "<tr>\n",
              "  <th>Model:</th>                   <td>OLS</td>       <th>  Adj. R-squared:    </th> <td>   0.803</td>\n",
              "</tr>\n",
              "<tr>\n",
              "  <th>Method:</th>             <td>Least Squares</td>  <th>  F-statistic:       </th> <td>   7125.</td>\n",
              "</tr>\n",
              "<tr>\n",
              "  <th>Date:</th>             <td>Sun, 17 Aug 2025</td> <th>  Prob (F-statistic):</th>  <td>  0.00</td> \n",
              "</tr>\n",
              "<tr>\n",
              "  <th>Time:</th>                 <td>13:43:34</td>     <th>  Log-Likelihood:    </th> <td> -1771.4</td>\n",
              "</tr>\n",
              "<tr>\n",
              "  <th>No. Observations:</th>      <td>  3500</td>      <th>  AIC:               </th> <td>   3549.</td>\n",
              "</tr>\n",
              "<tr>\n",
              "  <th>Df Residuals:</th>          <td>  3497</td>      <th>  BIC:               </th> <td>   3567.</td>\n",
              "</tr>\n",
              "<tr>\n",
              "  <th>Df Model:</th>              <td>     2</td>      <th>                     </th>     <td> </td>   \n",
              "</tr>\n",
              "<tr>\n",
              "  <th>Covariance Type:</th>      <td>nonrobust</td>    <th>                     </th>     <td> </td>   \n",
              "</tr>\n",
              "</table>\n",
              "<table class=\"simpletable\">\n",
              "<tr>\n",
              "         <td></td>           <th>coef</th>     <th>std err</th>      <th>t</th>      <th>P>|t|</th>  <th>[0.025</th>    <th>0.975]</th>  \n",
              "</tr>\n",
              "<tr>\n",
              "  <th>const</th>          <td>    9.3894</td> <td>    0.063</td> <td>  149.254</td> <td> 0.000</td> <td>    9.266</td> <td>    9.513</td>\n",
              "</tr>\n",
              "<tr>\n",
              "  <th>log_Area</th>       <td>    1.0455</td> <td>    0.013</td> <td>   82.850</td> <td> 0.000</td> <td>    1.021</td> <td>    1.070</td>\n",
              "</tr>\n",
              "<tr>\n",
              "  <th>log_Dist_Praia</th> <td>   -0.4893</td> <td>    0.009</td> <td>  -53.286</td> <td> 0.000</td> <td>   -0.507</td> <td>   -0.471</td>\n",
              "</tr>\n",
              "</table>\n",
              "<table class=\"simpletable\">\n",
              "<tr>\n",
              "  <th>Omnibus:</th>       <td>69.805</td> <th>  Durbin-Watson:     </th> <td>   2.029</td>\n",
              "</tr>\n",
              "<tr>\n",
              "  <th>Prob(Omnibus):</th> <td> 0.000</td> <th>  Jarque-Bera (JB):  </th> <td> 122.881</td>\n",
              "</tr>\n",
              "<tr>\n",
              "  <th>Skew:</th>          <td> 0.151</td> <th>  Prob(JB):          </th> <td>2.07e-27</td>\n",
              "</tr>\n",
              "<tr>\n",
              "  <th>Kurtosis:</th>      <td> 3.867</td> <th>  Cond. No.          </th> <td>    46.3</td>\n",
              "</tr>\n",
              "</table><br/><br/>Notes:<br/>[1] Standard Errors assume that the covariance matrix of the errors is correctly specified."
            ],
            "text/latex": "\\begin{center}\n\\begin{tabular}{lclc}\n\\toprule\n\\textbf{Dep. Variable:}    &    log\\_Valor    & \\textbf{  R-squared:         } &     0.803   \\\\\n\\textbf{Model:}            &       OLS        & \\textbf{  Adj. R-squared:    } &     0.803   \\\\\n\\textbf{Method:}           &  Least Squares   & \\textbf{  F-statistic:       } &     7125.   \\\\\n\\textbf{Date:}             & Sun, 17 Aug 2025 & \\textbf{  Prob (F-statistic):} &     0.00    \\\\\n\\textbf{Time:}             &     13:43:34     & \\textbf{  Log-Likelihood:    } &   -1771.4   \\\\\n\\textbf{No. Observations:} &        3500      & \\textbf{  AIC:               } &     3549.   \\\\\n\\textbf{Df Residuals:}     &        3497      & \\textbf{  BIC:               } &     3567.   \\\\\n\\textbf{Df Model:}         &           2      & \\textbf{                     } &             \\\\\n\\textbf{Covariance Type:}  &    nonrobust     & \\textbf{                     } &             \\\\\n\\bottomrule\n\\end{tabular}\n\\begin{tabular}{lcccccc}\n                          & \\textbf{coef} & \\textbf{std err} & \\textbf{t} & \\textbf{P$> |$t$|$} & \\textbf{[0.025} & \\textbf{0.975]}  \\\\\n\\midrule\n\\textbf{const}            &       9.3894  &        0.063     &   149.254  &         0.000        &        9.266    &        9.513     \\\\\n\\textbf{log\\_Area}        &       1.0455  &        0.013     &    82.850  &         0.000        &        1.021    &        1.070     \\\\\n\\textbf{log\\_Dist\\_Praia} &      -0.4893  &        0.009     &   -53.286  &         0.000        &       -0.507    &       -0.471     \\\\\n\\bottomrule\n\\end{tabular}\n\\begin{tabular}{lclc}\n\\textbf{Omnibus:}       & 69.805 & \\textbf{  Durbin-Watson:     } &    2.029  \\\\\n\\textbf{Prob(Omnibus):} &  0.000 & \\textbf{  Jarque-Bera (JB):  } &  122.881  \\\\\n\\textbf{Skew:}          &  0.151 & \\textbf{  Prob(JB):          } & 2.07e-27  \\\\\n\\textbf{Kurtosis:}      &  3.867 & \\textbf{  Cond. No.          } &     46.3  \\\\\n\\bottomrule\n\\end{tabular}\n%\\caption{OLS Regression Results}\n\\end{center}\n\nNotes: \\newline\n [1] Standard Errors assume that the covariance matrix of the errors is correctly specified."
          },
          "metadata": {},
          "execution_count": 31
        }
      ]
    },
    {
      "cell_type": "markdown",
      "source": [
        "-  R2 diminuiu um pouco, mas nada significativo, representando o que a variavel descartada realmente não influenciava na regressão."
      ],
      "metadata": {
        "id": "etS_-QDcGpco"
      }
    },
    {
      "cell_type": "markdown",
      "source": [
        "-  Ambas variaveis que ficaram agora para no teste do p valor indicando influência na variável dependente."
      ],
      "metadata": {
        "id": "-JElmzkMG20x"
      }
    },
    {
      "cell_type": "markdown",
      "source": [
        "# 5. Regressão linear com Scikit Learn\n",
        "\n",
        "----"
      ],
      "metadata": {
        "id": "GQC0P5LhJAkJ"
      }
    },
    {
      "cell_type": "markdown",
      "source": [
        "## 5.1. Estimando o modelo com os dados de treino\n",
        "\n",
        "---"
      ],
      "metadata": {
        "id": "ZcobjcCpJF9g"
      }
    },
    {
      "cell_type": "markdown",
      "source": [
        "- fazendo a estimagem com o scikit learn"
      ],
      "metadata": {
        "id": "TRD5Od4uK6pT"
      }
    },
    {
      "cell_type": "code",
      "source": [
        "from sklearn.linear_model import LinearRegression\n",
        "from sklearn import metrics"
      ],
      "metadata": {
        "id": "-04RWerOJKQe"
      },
      "execution_count": 32,
      "outputs": []
    },
    {
      "cell_type": "code",
      "source": [
        "modelo_regressao_sem_dist_farmacia = LinearRegression()"
      ],
      "metadata": {
        "id": "10yeAchSJFvB"
      },
      "execution_count": 33,
      "outputs": []
    },
    {
      "cell_type": "markdown",
      "source": [
        "- treinamento"
      ],
      "metadata": {
        "id": "bs9SR5lNLO_c"
      }
    },
    {
      "cell_type": "code",
      "source": [
        "modelo_regressao_sem_dist_farmacia.fit(x_treino, y_treino)"
      ],
      "metadata": {
        "colab": {
          "base_uri": "https://localhost:8080/",
          "height": 80
        },
        "id": "B09uD20xLOZM",
        "outputId": "b2626b79-7dcf-4bd8-f652-5cf0ff892a68"
      },
      "execution_count": 34,
      "outputs": [
        {
          "output_type": "execute_result",
          "data": {
            "text/plain": [
              "LinearRegression()"
            ],
            "text/html": [
              "<style>#sk-container-id-1 {\n",
              "  /* Definition of color scheme common for light and dark mode */\n",
              "  --sklearn-color-text: #000;\n",
              "  --sklearn-color-text-muted: #666;\n",
              "  --sklearn-color-line: gray;\n",
              "  /* Definition of color scheme for unfitted estimators */\n",
              "  --sklearn-color-unfitted-level-0: #fff5e6;\n",
              "  --sklearn-color-unfitted-level-1: #f6e4d2;\n",
              "  --sklearn-color-unfitted-level-2: #ffe0b3;\n",
              "  --sklearn-color-unfitted-level-3: chocolate;\n",
              "  /* Definition of color scheme for fitted estimators */\n",
              "  --sklearn-color-fitted-level-0: #f0f8ff;\n",
              "  --sklearn-color-fitted-level-1: #d4ebff;\n",
              "  --sklearn-color-fitted-level-2: #b3dbfd;\n",
              "  --sklearn-color-fitted-level-3: cornflowerblue;\n",
              "\n",
              "  /* Specific color for light theme */\n",
              "  --sklearn-color-text-on-default-background: var(--sg-text-color, var(--theme-code-foreground, var(--jp-content-font-color1, black)));\n",
              "  --sklearn-color-background: var(--sg-background-color, var(--theme-background, var(--jp-layout-color0, white)));\n",
              "  --sklearn-color-border-box: var(--sg-text-color, var(--theme-code-foreground, var(--jp-content-font-color1, black)));\n",
              "  --sklearn-color-icon: #696969;\n",
              "\n",
              "  @media (prefers-color-scheme: dark) {\n",
              "    /* Redefinition of color scheme for dark theme */\n",
              "    --sklearn-color-text-on-default-background: var(--sg-text-color, var(--theme-code-foreground, var(--jp-content-font-color1, white)));\n",
              "    --sklearn-color-background: var(--sg-background-color, var(--theme-background, var(--jp-layout-color0, #111)));\n",
              "    --sklearn-color-border-box: var(--sg-text-color, var(--theme-code-foreground, var(--jp-content-font-color1, white)));\n",
              "    --sklearn-color-icon: #878787;\n",
              "  }\n",
              "}\n",
              "\n",
              "#sk-container-id-1 {\n",
              "  color: var(--sklearn-color-text);\n",
              "}\n",
              "\n",
              "#sk-container-id-1 pre {\n",
              "  padding: 0;\n",
              "}\n",
              "\n",
              "#sk-container-id-1 input.sk-hidden--visually {\n",
              "  border: 0;\n",
              "  clip: rect(1px 1px 1px 1px);\n",
              "  clip: rect(1px, 1px, 1px, 1px);\n",
              "  height: 1px;\n",
              "  margin: -1px;\n",
              "  overflow: hidden;\n",
              "  padding: 0;\n",
              "  position: absolute;\n",
              "  width: 1px;\n",
              "}\n",
              "\n",
              "#sk-container-id-1 div.sk-dashed-wrapped {\n",
              "  border: 1px dashed var(--sklearn-color-line);\n",
              "  margin: 0 0.4em 0.5em 0.4em;\n",
              "  box-sizing: border-box;\n",
              "  padding-bottom: 0.4em;\n",
              "  background-color: var(--sklearn-color-background);\n",
              "}\n",
              "\n",
              "#sk-container-id-1 div.sk-container {\n",
              "  /* jupyter's `normalize.less` sets `[hidden] { display: none; }`\n",
              "     but bootstrap.min.css set `[hidden] { display: none !important; }`\n",
              "     so we also need the `!important` here to be able to override the\n",
              "     default hidden behavior on the sphinx rendered scikit-learn.org.\n",
              "     See: https://github.com/scikit-learn/scikit-learn/issues/21755 */\n",
              "  display: inline-block !important;\n",
              "  position: relative;\n",
              "}\n",
              "\n",
              "#sk-container-id-1 div.sk-text-repr-fallback {\n",
              "  display: none;\n",
              "}\n",
              "\n",
              "div.sk-parallel-item,\n",
              "div.sk-serial,\n",
              "div.sk-item {\n",
              "  /* draw centered vertical line to link estimators */\n",
              "  background-image: linear-gradient(var(--sklearn-color-text-on-default-background), var(--sklearn-color-text-on-default-background));\n",
              "  background-size: 2px 100%;\n",
              "  background-repeat: no-repeat;\n",
              "  background-position: center center;\n",
              "}\n",
              "\n",
              "/* Parallel-specific style estimator block */\n",
              "\n",
              "#sk-container-id-1 div.sk-parallel-item::after {\n",
              "  content: \"\";\n",
              "  width: 100%;\n",
              "  border-bottom: 2px solid var(--sklearn-color-text-on-default-background);\n",
              "  flex-grow: 1;\n",
              "}\n",
              "\n",
              "#sk-container-id-1 div.sk-parallel {\n",
              "  display: flex;\n",
              "  align-items: stretch;\n",
              "  justify-content: center;\n",
              "  background-color: var(--sklearn-color-background);\n",
              "  position: relative;\n",
              "}\n",
              "\n",
              "#sk-container-id-1 div.sk-parallel-item {\n",
              "  display: flex;\n",
              "  flex-direction: column;\n",
              "}\n",
              "\n",
              "#sk-container-id-1 div.sk-parallel-item:first-child::after {\n",
              "  align-self: flex-end;\n",
              "  width: 50%;\n",
              "}\n",
              "\n",
              "#sk-container-id-1 div.sk-parallel-item:last-child::after {\n",
              "  align-self: flex-start;\n",
              "  width: 50%;\n",
              "}\n",
              "\n",
              "#sk-container-id-1 div.sk-parallel-item:only-child::after {\n",
              "  width: 0;\n",
              "}\n",
              "\n",
              "/* Serial-specific style estimator block */\n",
              "\n",
              "#sk-container-id-1 div.sk-serial {\n",
              "  display: flex;\n",
              "  flex-direction: column;\n",
              "  align-items: center;\n",
              "  background-color: var(--sklearn-color-background);\n",
              "  padding-right: 1em;\n",
              "  padding-left: 1em;\n",
              "}\n",
              "\n",
              "\n",
              "/* Toggleable style: style used for estimator/Pipeline/ColumnTransformer box that is\n",
              "clickable and can be expanded/collapsed.\n",
              "- Pipeline and ColumnTransformer use this feature and define the default style\n",
              "- Estimators will overwrite some part of the style using the `sk-estimator` class\n",
              "*/\n",
              "\n",
              "/* Pipeline and ColumnTransformer style (default) */\n",
              "\n",
              "#sk-container-id-1 div.sk-toggleable {\n",
              "  /* Default theme specific background. It is overwritten whether we have a\n",
              "  specific estimator or a Pipeline/ColumnTransformer */\n",
              "  background-color: var(--sklearn-color-background);\n",
              "}\n",
              "\n",
              "/* Toggleable label */\n",
              "#sk-container-id-1 label.sk-toggleable__label {\n",
              "  cursor: pointer;\n",
              "  display: flex;\n",
              "  width: 100%;\n",
              "  margin-bottom: 0;\n",
              "  padding: 0.5em;\n",
              "  box-sizing: border-box;\n",
              "  text-align: center;\n",
              "  align-items: start;\n",
              "  justify-content: space-between;\n",
              "  gap: 0.5em;\n",
              "}\n",
              "\n",
              "#sk-container-id-1 label.sk-toggleable__label .caption {\n",
              "  font-size: 0.6rem;\n",
              "  font-weight: lighter;\n",
              "  color: var(--sklearn-color-text-muted);\n",
              "}\n",
              "\n",
              "#sk-container-id-1 label.sk-toggleable__label-arrow:before {\n",
              "  /* Arrow on the left of the label */\n",
              "  content: \"▸\";\n",
              "  float: left;\n",
              "  margin-right: 0.25em;\n",
              "  color: var(--sklearn-color-icon);\n",
              "}\n",
              "\n",
              "#sk-container-id-1 label.sk-toggleable__label-arrow:hover:before {\n",
              "  color: var(--sklearn-color-text);\n",
              "}\n",
              "\n",
              "/* Toggleable content - dropdown */\n",
              "\n",
              "#sk-container-id-1 div.sk-toggleable__content {\n",
              "  max-height: 0;\n",
              "  max-width: 0;\n",
              "  overflow: hidden;\n",
              "  text-align: left;\n",
              "  /* unfitted */\n",
              "  background-color: var(--sklearn-color-unfitted-level-0);\n",
              "}\n",
              "\n",
              "#sk-container-id-1 div.sk-toggleable__content.fitted {\n",
              "  /* fitted */\n",
              "  background-color: var(--sklearn-color-fitted-level-0);\n",
              "}\n",
              "\n",
              "#sk-container-id-1 div.sk-toggleable__content pre {\n",
              "  margin: 0.2em;\n",
              "  border-radius: 0.25em;\n",
              "  color: var(--sklearn-color-text);\n",
              "  /* unfitted */\n",
              "  background-color: var(--sklearn-color-unfitted-level-0);\n",
              "}\n",
              "\n",
              "#sk-container-id-1 div.sk-toggleable__content.fitted pre {\n",
              "  /* unfitted */\n",
              "  background-color: var(--sklearn-color-fitted-level-0);\n",
              "}\n",
              "\n",
              "#sk-container-id-1 input.sk-toggleable__control:checked~div.sk-toggleable__content {\n",
              "  /* Expand drop-down */\n",
              "  max-height: 200px;\n",
              "  max-width: 100%;\n",
              "  overflow: auto;\n",
              "}\n",
              "\n",
              "#sk-container-id-1 input.sk-toggleable__control:checked~label.sk-toggleable__label-arrow:before {\n",
              "  content: \"▾\";\n",
              "}\n",
              "\n",
              "/* Pipeline/ColumnTransformer-specific style */\n",
              "\n",
              "#sk-container-id-1 div.sk-label input.sk-toggleable__control:checked~label.sk-toggleable__label {\n",
              "  color: var(--sklearn-color-text);\n",
              "  background-color: var(--sklearn-color-unfitted-level-2);\n",
              "}\n",
              "\n",
              "#sk-container-id-1 div.sk-label.fitted input.sk-toggleable__control:checked~label.sk-toggleable__label {\n",
              "  background-color: var(--sklearn-color-fitted-level-2);\n",
              "}\n",
              "\n",
              "/* Estimator-specific style */\n",
              "\n",
              "/* Colorize estimator box */\n",
              "#sk-container-id-1 div.sk-estimator input.sk-toggleable__control:checked~label.sk-toggleable__label {\n",
              "  /* unfitted */\n",
              "  background-color: var(--sklearn-color-unfitted-level-2);\n",
              "}\n",
              "\n",
              "#sk-container-id-1 div.sk-estimator.fitted input.sk-toggleable__control:checked~label.sk-toggleable__label {\n",
              "  /* fitted */\n",
              "  background-color: var(--sklearn-color-fitted-level-2);\n",
              "}\n",
              "\n",
              "#sk-container-id-1 div.sk-label label.sk-toggleable__label,\n",
              "#sk-container-id-1 div.sk-label label {\n",
              "  /* The background is the default theme color */\n",
              "  color: var(--sklearn-color-text-on-default-background);\n",
              "}\n",
              "\n",
              "/* On hover, darken the color of the background */\n",
              "#sk-container-id-1 div.sk-label:hover label.sk-toggleable__label {\n",
              "  color: var(--sklearn-color-text);\n",
              "  background-color: var(--sklearn-color-unfitted-level-2);\n",
              "}\n",
              "\n",
              "/* Label box, darken color on hover, fitted */\n",
              "#sk-container-id-1 div.sk-label.fitted:hover label.sk-toggleable__label.fitted {\n",
              "  color: var(--sklearn-color-text);\n",
              "  background-color: var(--sklearn-color-fitted-level-2);\n",
              "}\n",
              "\n",
              "/* Estimator label */\n",
              "\n",
              "#sk-container-id-1 div.sk-label label {\n",
              "  font-family: monospace;\n",
              "  font-weight: bold;\n",
              "  display: inline-block;\n",
              "  line-height: 1.2em;\n",
              "}\n",
              "\n",
              "#sk-container-id-1 div.sk-label-container {\n",
              "  text-align: center;\n",
              "}\n",
              "\n",
              "/* Estimator-specific */\n",
              "#sk-container-id-1 div.sk-estimator {\n",
              "  font-family: monospace;\n",
              "  border: 1px dotted var(--sklearn-color-border-box);\n",
              "  border-radius: 0.25em;\n",
              "  box-sizing: border-box;\n",
              "  margin-bottom: 0.5em;\n",
              "  /* unfitted */\n",
              "  background-color: var(--sklearn-color-unfitted-level-0);\n",
              "}\n",
              "\n",
              "#sk-container-id-1 div.sk-estimator.fitted {\n",
              "  /* fitted */\n",
              "  background-color: var(--sklearn-color-fitted-level-0);\n",
              "}\n",
              "\n",
              "/* on hover */\n",
              "#sk-container-id-1 div.sk-estimator:hover {\n",
              "  /* unfitted */\n",
              "  background-color: var(--sklearn-color-unfitted-level-2);\n",
              "}\n",
              "\n",
              "#sk-container-id-1 div.sk-estimator.fitted:hover {\n",
              "  /* fitted */\n",
              "  background-color: var(--sklearn-color-fitted-level-2);\n",
              "}\n",
              "\n",
              "/* Specification for estimator info (e.g. \"i\" and \"?\") */\n",
              "\n",
              "/* Common style for \"i\" and \"?\" */\n",
              "\n",
              ".sk-estimator-doc-link,\n",
              "a:link.sk-estimator-doc-link,\n",
              "a:visited.sk-estimator-doc-link {\n",
              "  float: right;\n",
              "  font-size: smaller;\n",
              "  line-height: 1em;\n",
              "  font-family: monospace;\n",
              "  background-color: var(--sklearn-color-background);\n",
              "  border-radius: 1em;\n",
              "  height: 1em;\n",
              "  width: 1em;\n",
              "  text-decoration: none !important;\n",
              "  margin-left: 0.5em;\n",
              "  text-align: center;\n",
              "  /* unfitted */\n",
              "  border: var(--sklearn-color-unfitted-level-1) 1pt solid;\n",
              "  color: var(--sklearn-color-unfitted-level-1);\n",
              "}\n",
              "\n",
              ".sk-estimator-doc-link.fitted,\n",
              "a:link.sk-estimator-doc-link.fitted,\n",
              "a:visited.sk-estimator-doc-link.fitted {\n",
              "  /* fitted */\n",
              "  border: var(--sklearn-color-fitted-level-1) 1pt solid;\n",
              "  color: var(--sklearn-color-fitted-level-1);\n",
              "}\n",
              "\n",
              "/* On hover */\n",
              "div.sk-estimator:hover .sk-estimator-doc-link:hover,\n",
              ".sk-estimator-doc-link:hover,\n",
              "div.sk-label-container:hover .sk-estimator-doc-link:hover,\n",
              ".sk-estimator-doc-link:hover {\n",
              "  /* unfitted */\n",
              "  background-color: var(--sklearn-color-unfitted-level-3);\n",
              "  color: var(--sklearn-color-background);\n",
              "  text-decoration: none;\n",
              "}\n",
              "\n",
              "div.sk-estimator.fitted:hover .sk-estimator-doc-link.fitted:hover,\n",
              ".sk-estimator-doc-link.fitted:hover,\n",
              "div.sk-label-container:hover .sk-estimator-doc-link.fitted:hover,\n",
              ".sk-estimator-doc-link.fitted:hover {\n",
              "  /* fitted */\n",
              "  background-color: var(--sklearn-color-fitted-level-3);\n",
              "  color: var(--sklearn-color-background);\n",
              "  text-decoration: none;\n",
              "}\n",
              "\n",
              "/* Span, style for the box shown on hovering the info icon */\n",
              ".sk-estimator-doc-link span {\n",
              "  display: none;\n",
              "  z-index: 9999;\n",
              "  position: relative;\n",
              "  font-weight: normal;\n",
              "  right: .2ex;\n",
              "  padding: .5ex;\n",
              "  margin: .5ex;\n",
              "  width: min-content;\n",
              "  min-width: 20ex;\n",
              "  max-width: 50ex;\n",
              "  color: var(--sklearn-color-text);\n",
              "  box-shadow: 2pt 2pt 4pt #999;\n",
              "  /* unfitted */\n",
              "  background: var(--sklearn-color-unfitted-level-0);\n",
              "  border: .5pt solid var(--sklearn-color-unfitted-level-3);\n",
              "}\n",
              "\n",
              ".sk-estimator-doc-link.fitted span {\n",
              "  /* fitted */\n",
              "  background: var(--sklearn-color-fitted-level-0);\n",
              "  border: var(--sklearn-color-fitted-level-3);\n",
              "}\n",
              "\n",
              ".sk-estimator-doc-link:hover span {\n",
              "  display: block;\n",
              "}\n",
              "\n",
              "/* \"?\"-specific style due to the `<a>` HTML tag */\n",
              "\n",
              "#sk-container-id-1 a.estimator_doc_link {\n",
              "  float: right;\n",
              "  font-size: 1rem;\n",
              "  line-height: 1em;\n",
              "  font-family: monospace;\n",
              "  background-color: var(--sklearn-color-background);\n",
              "  border-radius: 1rem;\n",
              "  height: 1rem;\n",
              "  width: 1rem;\n",
              "  text-decoration: none;\n",
              "  /* unfitted */\n",
              "  color: var(--sklearn-color-unfitted-level-1);\n",
              "  border: var(--sklearn-color-unfitted-level-1) 1pt solid;\n",
              "}\n",
              "\n",
              "#sk-container-id-1 a.estimator_doc_link.fitted {\n",
              "  /* fitted */\n",
              "  border: var(--sklearn-color-fitted-level-1) 1pt solid;\n",
              "  color: var(--sklearn-color-fitted-level-1);\n",
              "}\n",
              "\n",
              "/* On hover */\n",
              "#sk-container-id-1 a.estimator_doc_link:hover {\n",
              "  /* unfitted */\n",
              "  background-color: var(--sklearn-color-unfitted-level-3);\n",
              "  color: var(--sklearn-color-background);\n",
              "  text-decoration: none;\n",
              "}\n",
              "\n",
              "#sk-container-id-1 a.estimator_doc_link.fitted:hover {\n",
              "  /* fitted */\n",
              "  background-color: var(--sklearn-color-fitted-level-3);\n",
              "}\n",
              "</style><div id=\"sk-container-id-1\" class=\"sk-top-container\"><div class=\"sk-text-repr-fallback\"><pre>LinearRegression()</pre><b>In a Jupyter environment, please rerun this cell to show the HTML representation or trust the notebook. <br />On GitHub, the HTML representation is unable to render, please try loading this page with nbviewer.org.</b></div><div class=\"sk-container\" hidden><div class=\"sk-item\"><div class=\"sk-estimator fitted sk-toggleable\"><input class=\"sk-toggleable__control sk-hidden--visually\" id=\"sk-estimator-id-1\" type=\"checkbox\" checked><label for=\"sk-estimator-id-1\" class=\"sk-toggleable__label fitted sk-toggleable__label-arrow\"><div><div>LinearRegression</div></div><div><a class=\"sk-estimator-doc-link fitted\" rel=\"noreferrer\" target=\"_blank\" href=\"https://scikit-learn.org/1.6/modules/generated/sklearn.linear_model.LinearRegression.html\">?<span>Documentation for LinearRegression</span></a><span class=\"sk-estimator-doc-link fitted\">i<span>Fitted</span></span></div></label><div class=\"sk-toggleable__content fitted\"><pre>LinearRegression()</pre></div> </div></div></div></div>"
            ]
          },
          "metadata": {},
          "execution_count": 34
        }
      ]
    },
    {
      "cell_type": "markdown",
      "source": [
        "- Para ve o vallor do r2 do treinamento:"
      ],
      "metadata": {
        "id": "hoxw4hycLVWs"
      }
    },
    {
      "cell_type": "code",
      "source": [
        "modelo_regressao_sem_dist_farmacia.score(x_treino, y_treino)"
      ],
      "metadata": {
        "colab": {
          "base_uri": "https://localhost:8080/"
        },
        "id": "wUbJZdCULUbP",
        "outputId": "2bc278f4-92b9-4f2f-f985-cde03836f227"
      },
      "execution_count": 35,
      "outputs": [
        {
          "output_type": "execute_result",
          "data": {
            "text/plain": [
              "0.8029472475374315"
            ]
          },
          "metadata": {},
          "execution_count": 35
        }
      ]
    },
    {
      "cell_type": "markdown",
      "source": [
        "- mesmo valor do econtrado no stats models."
      ],
      "metadata": {
        "id": "zJH1E-T5LgB9"
      }
    },
    {
      "cell_type": "markdown",
      "source": [
        "- Para fazer a previsao:"
      ],
      "metadata": {
        "id": "JiU-WD8qLjxW"
      }
    },
    {
      "cell_type": "code",
      "source": [
        "y_previsto = modelo_regressao_sem_dist_farmacia.predict(x_teste) #dados de teste"
      ],
      "metadata": {
        "id": "tTq-m136LitM"
      },
      "execution_count": 36,
      "outputs": []
    },
    {
      "cell_type": "markdown",
      "source": [
        "- obtendo r2 para previsoes"
      ],
      "metadata": {
        "id": "LMdVbB3ALwGC"
      }
    },
    {
      "cell_type": "code",
      "source": [
        "r2_score(y_teste, y_previsto) # Compara o que foi previsto no modelo apartir dos dados de treino e teste\n",
        "# e compara com o gabarito (y_teste) apartir disso aplica o r2 score para obter um valor"
      ],
      "metadata": {
        "colab": {
          "base_uri": "https://localhost:8080/"
        },
        "id": "75d5pdFBL09L",
        "outputId": "ce204b74-8e9c-4eed-f6bb-964f5fb0dc5d"
      },
      "execution_count": 37,
      "outputs": [
        {
          "output_type": "execute_result",
          "data": {
            "text/plain": [
              "0.8007678585964251"
            ]
          },
          "metadata": {},
          "execution_count": 37
        }
      ]
    },
    {
      "cell_type": "markdown",
      "source": [
        "## 5.2. Obtendo previsões pontuais\n",
        "----------"
      ],
      "metadata": {
        "id": "flaSM2VSRmKZ"
      }
    },
    {
      "cell_type": "code",
      "source": [
        "entrada_dados = x_teste[0:1] # primeiro registro no dataset de teste\n",
        "entrada_dados"
      ],
      "metadata": {
        "colab": {
          "base_uri": "https://localhost:8080/",
          "height": 89
        },
        "id": "RURwUz4GRrbx",
        "outputId": "28d30ec1-959d-416d-8309-bae6cf712d90"
      },
      "execution_count": 38,
      "outputs": [
        {
          "output_type": "execute_result",
          "data": {
            "text/plain": [
              "      log_Area  log_Dist_Praia\n",
              "1501  3.951244        1.966942"
            ],
            "text/html": [
              "\n",
              "  <div id=\"df-5bd90b10-daf3-4ac9-9d72-71ce74e80e6b\" class=\"colab-df-container\">\n",
              "    <div>\n",
              "<style scoped>\n",
              "    .dataframe tbody tr th:only-of-type {\n",
              "        vertical-align: middle;\n",
              "    }\n",
              "\n",
              "    .dataframe tbody tr th {\n",
              "        vertical-align: top;\n",
              "    }\n",
              "\n",
              "    .dataframe thead th {\n",
              "        text-align: right;\n",
              "    }\n",
              "</style>\n",
              "<table border=\"1\" class=\"dataframe\">\n",
              "  <thead>\n",
              "    <tr style=\"text-align: right;\">\n",
              "      <th></th>\n",
              "      <th>log_Area</th>\n",
              "      <th>log_Dist_Praia</th>\n",
              "    </tr>\n",
              "  </thead>\n",
              "  <tbody>\n",
              "    <tr>\n",
              "      <th>1501</th>\n",
              "      <td>3.951244</td>\n",
              "      <td>1.966942</td>\n",
              "    </tr>\n",
              "  </tbody>\n",
              "</table>\n",
              "</div>\n",
              "    <div class=\"colab-df-buttons\">\n",
              "\n",
              "  <div class=\"colab-df-container\">\n",
              "    <button class=\"colab-df-convert\" onclick=\"convertToInteractive('df-5bd90b10-daf3-4ac9-9d72-71ce74e80e6b')\"\n",
              "            title=\"Convert this dataframe to an interactive table.\"\n",
              "            style=\"display:none;\">\n",
              "\n",
              "  <svg xmlns=\"http://www.w3.org/2000/svg\" height=\"24px\" viewBox=\"0 -960 960 960\">\n",
              "    <path d=\"M120-120v-720h720v720H120Zm60-500h600v-160H180v160Zm220 220h160v-160H400v160Zm0 220h160v-160H400v160ZM180-400h160v-160H180v160Zm440 0h160v-160H620v160ZM180-180h160v-160H180v160Zm440 0h160v-160H620v160Z\"/>\n",
              "  </svg>\n",
              "    </button>\n",
              "\n",
              "  <style>\n",
              "    .colab-df-container {\n",
              "      display:flex;\n",
              "      gap: 12px;\n",
              "    }\n",
              "\n",
              "    .colab-df-convert {\n",
              "      background-color: #E8F0FE;\n",
              "      border: none;\n",
              "      border-radius: 50%;\n",
              "      cursor: pointer;\n",
              "      display: none;\n",
              "      fill: #1967D2;\n",
              "      height: 32px;\n",
              "      padding: 0 0 0 0;\n",
              "      width: 32px;\n",
              "    }\n",
              "\n",
              "    .colab-df-convert:hover {\n",
              "      background-color: #E2EBFA;\n",
              "      box-shadow: 0px 1px 2px rgba(60, 64, 67, 0.3), 0px 1px 3px 1px rgba(60, 64, 67, 0.15);\n",
              "      fill: #174EA6;\n",
              "    }\n",
              "\n",
              "    .colab-df-buttons div {\n",
              "      margin-bottom: 4px;\n",
              "    }\n",
              "\n",
              "    [theme=dark] .colab-df-convert {\n",
              "      background-color: #3B4455;\n",
              "      fill: #D2E3FC;\n",
              "    }\n",
              "\n",
              "    [theme=dark] .colab-df-convert:hover {\n",
              "      background-color: #434B5C;\n",
              "      box-shadow: 0px 1px 3px 1px rgba(0, 0, 0, 0.15);\n",
              "      filter: drop-shadow(0px 1px 2px rgba(0, 0, 0, 0.3));\n",
              "      fill: #FFFFFF;\n",
              "    }\n",
              "  </style>\n",
              "\n",
              "    <script>\n",
              "      const buttonEl =\n",
              "        document.querySelector('#df-5bd90b10-daf3-4ac9-9d72-71ce74e80e6b button.colab-df-convert');\n",
              "      buttonEl.style.display =\n",
              "        google.colab.kernel.accessAllowed ? 'block' : 'none';\n",
              "\n",
              "      async function convertToInteractive(key) {\n",
              "        const element = document.querySelector('#df-5bd90b10-daf3-4ac9-9d72-71ce74e80e6b');\n",
              "        const dataTable =\n",
              "          await google.colab.kernel.invokeFunction('convertToInteractive',\n",
              "                                                    [key], {});\n",
              "        if (!dataTable) return;\n",
              "\n",
              "        const docLinkHtml = 'Like what you see? Visit the ' +\n",
              "          '<a target=\"_blank\" href=https://colab.research.google.com/notebooks/data_table.ipynb>data table notebook</a>'\n",
              "          + ' to learn more about interactive tables.';\n",
              "        element.innerHTML = '';\n",
              "        dataTable['output_type'] = 'display_data';\n",
              "        await google.colab.output.renderOutput(dataTable, element);\n",
              "        const docLink = document.createElement('div');\n",
              "        docLink.innerHTML = docLinkHtml;\n",
              "        element.appendChild(docLink);\n",
              "      }\n",
              "    </script>\n",
              "  </div>\n",
              "\n",
              "\n",
              "  <div id=\"id_b8a1ccf3-3351-49c1-8b47-e2de11f4fba1\">\n",
              "    <style>\n",
              "      .colab-df-generate {\n",
              "        background-color: #E8F0FE;\n",
              "        border: none;\n",
              "        border-radius: 50%;\n",
              "        cursor: pointer;\n",
              "        display: none;\n",
              "        fill: #1967D2;\n",
              "        height: 32px;\n",
              "        padding: 0 0 0 0;\n",
              "        width: 32px;\n",
              "      }\n",
              "\n",
              "      .colab-df-generate:hover {\n",
              "        background-color: #E2EBFA;\n",
              "        box-shadow: 0px 1px 2px rgba(60, 64, 67, 0.3), 0px 1px 3px 1px rgba(60, 64, 67, 0.15);\n",
              "        fill: #174EA6;\n",
              "      }\n",
              "\n",
              "      [theme=dark] .colab-df-generate {\n",
              "        background-color: #3B4455;\n",
              "        fill: #D2E3FC;\n",
              "      }\n",
              "\n",
              "      [theme=dark] .colab-df-generate:hover {\n",
              "        background-color: #434B5C;\n",
              "        box-shadow: 0px 1px 3px 1px rgba(0, 0, 0, 0.15);\n",
              "        filter: drop-shadow(0px 1px 2px rgba(0, 0, 0, 0.3));\n",
              "        fill: #FFFFFF;\n",
              "      }\n",
              "    </style>\n",
              "    <button class=\"colab-df-generate\" onclick=\"generateWithVariable('entrada_dados')\"\n",
              "            title=\"Generate code using this dataframe.\"\n",
              "            style=\"display:none;\">\n",
              "\n",
              "  <svg xmlns=\"http://www.w3.org/2000/svg\" height=\"24px\"viewBox=\"0 0 24 24\"\n",
              "       width=\"24px\">\n",
              "    <path d=\"M7,19H8.4L18.45,9,17,7.55,7,17.6ZM5,21V16.75L18.45,3.32a2,2,0,0,1,2.83,0l1.4,1.43a1.91,1.91,0,0,1,.58,1.4,1.91,1.91,0,0,1-.58,1.4L9.25,21ZM18.45,9,17,7.55Zm-12,3A5.31,5.31,0,0,0,4.9,8.1,5.31,5.31,0,0,0,1,6.5,5.31,5.31,0,0,0,4.9,4.9,5.31,5.31,0,0,0,6.5,1,5.31,5.31,0,0,0,8.1,4.9,5.31,5.31,0,0,0,12,6.5,5.46,5.46,0,0,0,6.5,12Z\"/>\n",
              "  </svg>\n",
              "    </button>\n",
              "    <script>\n",
              "      (() => {\n",
              "      const buttonEl =\n",
              "        document.querySelector('#id_b8a1ccf3-3351-49c1-8b47-e2de11f4fba1 button.colab-df-generate');\n",
              "      buttonEl.style.display =\n",
              "        google.colab.kernel.accessAllowed ? 'block' : 'none';\n",
              "\n",
              "      buttonEl.onclick = () => {\n",
              "        google.colab.notebook.generateWithVariable('entrada_dados');\n",
              "      }\n",
              "      })();\n",
              "    </script>\n",
              "  </div>\n",
              "\n",
              "    </div>\n",
              "  </div>\n"
            ],
            "application/vnd.google.colaboratory.intrinsic+json": {
              "type": "dataframe",
              "variable_name": "entrada_dados",
              "summary": "{\n  \"name\": \"entrada_dados\",\n  \"rows\": 1,\n  \"fields\": [\n    {\n      \"column\": \"log_Area\",\n      \"properties\": {\n        \"dtype\": \"number\",\n        \"std\": null,\n        \"min\": 3.9512437185814275,\n        \"max\": 3.9512437185814275,\n        \"num_unique_values\": 1,\n        \"samples\": [\n          3.9512437185814275\n        ],\n        \"semantic_type\": \"\",\n        \"description\": \"\"\n      }\n    },\n    {\n      \"column\": \"log_Dist_Praia\",\n      \"properties\": {\n        \"dtype\": \"number\",\n        \"std\": null,\n        \"min\": 1.9669417853762372,\n        \"max\": 1.9669417853762372,\n        \"num_unique_values\": 1,\n        \"samples\": [\n          1.9669417853762372\n        ],\n        \"semantic_type\": \"\",\n        \"description\": \"\"\n      }\n    }\n  ]\n}"
            }
          },
          "metadata": {},
          "execution_count": 38
        }
      ]
    },
    {
      "cell_type": "markdown",
      "source": [
        "- Para estimar o valor logaritmo do preço do imovel do primeiro registro do dataset:"
      ],
      "metadata": {
        "id": "YRbNGjjJSMz1"
      }
    },
    {
      "cell_type": "code",
      "source": [
        "modelo_regressao_sem_dist_farmacia.predict(entrada_dados)[0]"
      ],
      "metadata": {
        "colab": {
          "base_uri": "https://localhost:8080/"
        },
        "id": "az6W0pIHR8sd",
        "outputId": "428eaea7-12fb-409a-d5e8-8365757e0dd0"
      },
      "execution_count": 41,
      "outputs": [
        {
          "output_type": "execute_result",
          "data": {
            "text/plain": [
              "np.float64(12.557780911439496)"
            ]
          },
          "metadata": {},
          "execution_count": 41
        }
      ]
    },
    {
      "cell_type": "code",
      "source": [
        "np.exp(modelo_regressao_sem_dist_farmacia.predict(entrada_dados)[0]) #TRansforma em reais"
      ],
      "metadata": {
        "colab": {
          "base_uri": "https://localhost:8080/"
        },
        "id": "PiOeZlN7SSnt",
        "outputId": "244dffa3-a7e5-49ac-d8e5-a2ce3610177f"
      },
      "execution_count": 42,
      "outputs": [
        {
          "output_type": "execute_result",
          "data": {
            "text/plain": [
              "np.float64(284298.75300618977)"
            ]
          },
          "metadata": {},
          "execution_count": 42
        }
      ]
    },
    {
      "cell_type": "markdown",
      "source": [
        "- 284298 reais é o valor estimado do imóvel com as variaveis de teste na primeira linha."
      ],
      "metadata": {
        "id": "7eRZ7QZJSXvk"
      }
    },
    {
      "cell_type": "markdown",
      "source": [
        "- simulador simples:"
      ],
      "metadata": {
        "id": "9hLAqHWOStw_"
      }
    },
    {
      "cell_type": "code",
      "source": [
        "# declarar as variaveis explicativas\n",
        "Area = 250\n",
        "Dist_praia = 1\n",
        "entrada_dados = [[np.log(Area), np.log(Dist_praia +1)]] #a distancia da praia soma mais 1 no log pq pode assumir valor de 0\n",
        "# assumindo o valor de 0, o log de 0 vai para infinito. Não podendo ser aceito assim."
      ],
      "metadata": {
        "id": "ew1wQQX0SsTl"
      },
      "execution_count": 44,
      "outputs": []
    },
    {
      "cell_type": "code",
      "source": [
        "np.log(1) #Se der 0 ele assume log 1 que irá dar 0"
      ],
      "metadata": {
        "colab": {
          "base_uri": "https://localhost:8080/"
        },
        "id": "RFqo1e-PTNTu",
        "outputId": "40718c35-c136-4123-9700-f72d84f3f59e"
      },
      "execution_count": 45,
      "outputs": [
        {
          "output_type": "execute_result",
          "data": {
            "text/plain": [
              "np.float64(0.0)"
            ]
          },
          "metadata": {},
          "execution_count": 45
        }
      ]
    },
    {
      "cell_type": "code",
      "source": [
        "np.exp(modelo_regressao_sem_dist_farmacia.predict(entrada_dados)[0])\n",
        "# o np.exp é usado para converter de logaritmo para reais"
      ],
      "metadata": {
        "colab": {
          "base_uri": "https://localhost:8080/"
        },
        "id": "ruit9OPmTVwg",
        "outputId": "ea90fb16-93c9-4cf7-8281-810f84366028"
      },
      "execution_count": 47,
      "outputs": [
        {
          "output_type": "stream",
          "name": "stderr",
          "text": [
            "/usr/local/lib/python3.11/dist-packages/sklearn/utils/validation.py:2739: UserWarning: X does not have valid feature names, but LinearRegression was fitted with feature names\n",
            "  warnings.warn(\n"
          ]
        },
        {
          "output_type": "execute_result",
          "data": {
            "text/plain": [
              "np.float64(2737756.398571738)"
            ]
          },
          "metadata": {},
          "execution_count": 47
        }
      ]
    },
    {
      "cell_type": "markdown",
      "source": [
        "- Com uma area de 250 m^2 e a distancia para praia sendo de 1 km (Muito perto), o modelo prever um valor de 2.7 milhões de reais nesse imóvel."
      ],
      "metadata": {
        "id": "6CjeiuzpT___"
      }
    },
    {
      "cell_type": "markdown",
      "source": [
        "- **Se abaixarmos a area:**"
      ],
      "metadata": {
        "id": "xag36FcmUMHK"
      }
    },
    {
      "cell_type": "code",
      "source": [
        "Area = 150\n",
        "Dist_praia = 1\n",
        "entrada_dados = [[np.log(Area), np.log(Dist_praia +1)]] #a distancia da praia soma mais 1 no log pq pode assumir valor de 0\n",
        "np.exp(modelo_regressao_sem_dist_farmacia.predict(entrada_dados)[0])"
      ],
      "metadata": {
        "colab": {
          "base_uri": "https://localhost:8080/"
        },
        "id": "Jj28xU33UQYs",
        "outputId": "abdf18ad-3cf6-4f27-f0ee-fc08c2d8ffe4"
      },
      "execution_count": 48,
      "outputs": [
        {
          "output_type": "stream",
          "name": "stderr",
          "text": [
            "/usr/local/lib/python3.11/dist-packages/sklearn/utils/validation.py:2739: UserWarning: X does not have valid feature names, but LinearRegression was fitted with feature names\n",
            "  warnings.warn(\n"
          ]
        },
        {
          "output_type": "execute_result",
          "data": {
            "text/plain": [
              "np.float64(1604948.795210358)"
            ]
          },
          "metadata": {},
          "execution_count": 48
        }
      ]
    },
    {
      "cell_type": "markdown",
      "source": [
        "- Abaixando a área para 150 m^2temos que o valor estimado é de 1.6 milhões de reais"
      ],
      "metadata": {
        "id": "ppfU2VeFUWvL"
      }
    },
    {
      "cell_type": "markdown",
      "source": [
        "## 5.3. Interpretação dos coeficientes estimado.\n",
        "---"
      ],
      "metadata": {
        "id": "9hsDLKxuWhmQ"
      }
    },
    {
      "cell_type": "markdown",
      "source": [
        " ### **Intercepto:**"
      ],
      "metadata": {
        "id": "3-QAV3-dXOyu"
      }
    },
    {
      "cell_type": "markdown",
      "source": [
        "-  O intercepto será o preço estimado excluindo todas as variáveis do modelo, ou seja zerando elas"
      ],
      "metadata": {
        "id": "cEbpnTbBWpSp"
      }
    },
    {
      "cell_type": "markdown",
      "source": [
        "- O resultado dessas análises sempre será em log, sendo necessário transformar em uma função exponencial para ver o valor real."
      ],
      "metadata": {
        "id": "iloRZ4L8W08I"
      }
    },
    {
      "cell_type": "code",
      "source": [
        "modelo_regressao_sem_dist_farmacia.intercept_ #valor em log do intercepto"
      ],
      "metadata": {
        "colab": {
          "base_uri": "https://localhost:8080/"
        },
        "id": "N-duYAk3WoVg",
        "outputId": "24d19c74-730f-4ad9-acf3-866adf039af3"
      },
      "execution_count": 49,
      "outputs": [
        {
          "output_type": "execute_result",
          "data": {
            "text/plain": [
              "np.float64(9.389351167807472)"
            ]
          },
          "metadata": {},
          "execution_count": 49
        }
      ]
    },
    {
      "cell_type": "code",
      "source": [
        "np.exp(modelo_regressao_sem_dist_farmacia.intercept_) #valor em reais do intercepto"
      ],
      "metadata": {
        "colab": {
          "base_uri": "https://localhost:8080/"
        },
        "id": "5hg1jPiCXA5x",
        "outputId": "5ae084f9-43c8-499c-cf9e-54c06872829e"
      },
      "execution_count": 50,
      "outputs": [
        {
          "output_type": "execute_result",
          "data": {
            "text/plain": [
              "np.float64(11960.336562757548)"
            ]
          },
          "metadata": {},
          "execution_count": 50
        }
      ]
    },
    {
      "cell_type": "markdown",
      "source": [
        "- 11960 é o vaoor do intercepto sem levar em conta nenhuma variável."
      ],
      "metadata": {
        "id": "nKgHoBx0XHDv"
      }
    },
    {
      "cell_type": "markdown",
      "source": [
        "### **Coeficientes de regressao b2 e b3**"
      ],
      "metadata": {
        "id": "hN8J3brRXX-r"
      }
    },
    {
      "cell_type": "markdown",
      "source": [
        "- São apenas dois coeficientes visto que o da distancia da farmacia foi excluido, entao so levaremos a area e a distancia da praia em consideração"
      ],
      "metadata": {
        "id": "7FmCkgbpXu4T"
      }
    },
    {
      "cell_type": "code",
      "source": [
        "print(x_treino.columns) #Verificando a ordem das coluna, log area vem primeiro e log distancia praia vem depois\n",
        "modelo_regressao_sem_dist_farmacia.coef_ #valores dos coeficientes em log"
      ],
      "metadata": {
        "colab": {
          "base_uri": "https://localhost:8080/"
        },
        "id": "Qpx2ZBehXooQ",
        "outputId": "86c34cd0-b0fe-4665-8280-24a19012432a"
      },
      "execution_count": 54,
      "outputs": [
        {
          "output_type": "stream",
          "name": "stdout",
          "text": [
            "Index(['log_Area', 'log_Dist_Praia'], dtype='object')\n"
          ]
        },
        {
          "output_type": "execute_result",
          "data": {
            "text/plain": [
              "array([ 1.04545832, -0.48930319])"
            ]
          },
          "metadata": {},
          "execution_count": 54
        }
      ]
    },
    {
      "cell_type": "markdown",
      "source": [
        "-  Temos o valor de 1.04 para b2 sendo o log_area e -0.4893 para b3 sendo log_dist_praia"
      ],
      "metadata": {
        "id": "WVrSo8DCYSFj"
      }
    },
    {
      "cell_type": "markdown",
      "source": [
        "- criando um dataframe para colocar os valores:"
      ],
      "metadata": {
        "id": "GhZYYrNmYiyV"
      }
    },
    {
      "cell_type": "code",
      "source": [
        "dataframe_modelo= pd.DataFrame(data = np.append(modelo_regressao_sem_dist_farmacia.intercept_,  #usa o np.append para acrescentar a um data frame os dados\n",
        "                                                 modelo_regressao_sem_dist_farmacia.coef_), # Acrescenta os coeficiente b2 e b3 do\n",
        "                              index = ['Intercepto'] + list(x_treino.columns), #nome do intex de cada linha sendo intercepto + os nomes das variaveis relevante\n",
        "                              columns = ['Coeficientes']) # nome da coluna sendo coeficientes\n",
        "dataframe_modelo"
      ],
      "metadata": {
        "colab": {
          "base_uri": "https://localhost:8080/",
          "height": 143
        },
        "id": "pXEopTRTYRZy",
        "outputId": "daedb0d1-982f-4ecd-c94a-886d7e0850f5"
      },
      "execution_count": 58,
      "outputs": [
        {
          "output_type": "execute_result",
          "data": {
            "text/plain": [
              "                Coeficientes\n",
              "Intercepto          9.389351\n",
              "log_Area            1.045458\n",
              "log_Dist_Praia     -0.489303"
            ],
            "text/html": [
              "\n",
              "  <div id=\"df-4ca684aa-e756-45ea-92e7-f6eb6a59c8fc\" class=\"colab-df-container\">\n",
              "    <div>\n",
              "<style scoped>\n",
              "    .dataframe tbody tr th:only-of-type {\n",
              "        vertical-align: middle;\n",
              "    }\n",
              "\n",
              "    .dataframe tbody tr th {\n",
              "        vertical-align: top;\n",
              "    }\n",
              "\n",
              "    .dataframe thead th {\n",
              "        text-align: right;\n",
              "    }\n",
              "</style>\n",
              "<table border=\"1\" class=\"dataframe\">\n",
              "  <thead>\n",
              "    <tr style=\"text-align: right;\">\n",
              "      <th></th>\n",
              "      <th>Coeficientes</th>\n",
              "    </tr>\n",
              "  </thead>\n",
              "  <tbody>\n",
              "    <tr>\n",
              "      <th>Intercepto</th>\n",
              "      <td>9.389351</td>\n",
              "    </tr>\n",
              "    <tr>\n",
              "      <th>log_Area</th>\n",
              "      <td>1.045458</td>\n",
              "    </tr>\n",
              "    <tr>\n",
              "      <th>log_Dist_Praia</th>\n",
              "      <td>-0.489303</td>\n",
              "    </tr>\n",
              "  </tbody>\n",
              "</table>\n",
              "</div>\n",
              "    <div class=\"colab-df-buttons\">\n",
              "\n",
              "  <div class=\"colab-df-container\">\n",
              "    <button class=\"colab-df-convert\" onclick=\"convertToInteractive('df-4ca684aa-e756-45ea-92e7-f6eb6a59c8fc')\"\n",
              "            title=\"Convert this dataframe to an interactive table.\"\n",
              "            style=\"display:none;\">\n",
              "\n",
              "  <svg xmlns=\"http://www.w3.org/2000/svg\" height=\"24px\" viewBox=\"0 -960 960 960\">\n",
              "    <path d=\"M120-120v-720h720v720H120Zm60-500h600v-160H180v160Zm220 220h160v-160H400v160Zm0 220h160v-160H400v160ZM180-400h160v-160H180v160Zm440 0h160v-160H620v160ZM180-180h160v-160H180v160Zm440 0h160v-160H620v160Z\"/>\n",
              "  </svg>\n",
              "    </button>\n",
              "\n",
              "  <style>\n",
              "    .colab-df-container {\n",
              "      display:flex;\n",
              "      gap: 12px;\n",
              "    }\n",
              "\n",
              "    .colab-df-convert {\n",
              "      background-color: #E8F0FE;\n",
              "      border: none;\n",
              "      border-radius: 50%;\n",
              "      cursor: pointer;\n",
              "      display: none;\n",
              "      fill: #1967D2;\n",
              "      height: 32px;\n",
              "      padding: 0 0 0 0;\n",
              "      width: 32px;\n",
              "    }\n",
              "\n",
              "    .colab-df-convert:hover {\n",
              "      background-color: #E2EBFA;\n",
              "      box-shadow: 0px 1px 2px rgba(60, 64, 67, 0.3), 0px 1px 3px 1px rgba(60, 64, 67, 0.15);\n",
              "      fill: #174EA6;\n",
              "    }\n",
              "\n",
              "    .colab-df-buttons div {\n",
              "      margin-bottom: 4px;\n",
              "    }\n",
              "\n",
              "    [theme=dark] .colab-df-convert {\n",
              "      background-color: #3B4455;\n",
              "      fill: #D2E3FC;\n",
              "    }\n",
              "\n",
              "    [theme=dark] .colab-df-convert:hover {\n",
              "      background-color: #434B5C;\n",
              "      box-shadow: 0px 1px 3px 1px rgba(0, 0, 0, 0.15);\n",
              "      filter: drop-shadow(0px 1px 2px rgba(0, 0, 0, 0.3));\n",
              "      fill: #FFFFFF;\n",
              "    }\n",
              "  </style>\n",
              "\n",
              "    <script>\n",
              "      const buttonEl =\n",
              "        document.querySelector('#df-4ca684aa-e756-45ea-92e7-f6eb6a59c8fc button.colab-df-convert');\n",
              "      buttonEl.style.display =\n",
              "        google.colab.kernel.accessAllowed ? 'block' : 'none';\n",
              "\n",
              "      async function convertToInteractive(key) {\n",
              "        const element = document.querySelector('#df-4ca684aa-e756-45ea-92e7-f6eb6a59c8fc');\n",
              "        const dataTable =\n",
              "          await google.colab.kernel.invokeFunction('convertToInteractive',\n",
              "                                                    [key], {});\n",
              "        if (!dataTable) return;\n",
              "\n",
              "        const docLinkHtml = 'Like what you see? Visit the ' +\n",
              "          '<a target=\"_blank\" href=https://colab.research.google.com/notebooks/data_table.ipynb>data table notebook</a>'\n",
              "          + ' to learn more about interactive tables.';\n",
              "        element.innerHTML = '';\n",
              "        dataTable['output_type'] = 'display_data';\n",
              "        await google.colab.output.renderOutput(dataTable, element);\n",
              "        const docLink = document.createElement('div');\n",
              "        docLink.innerHTML = docLinkHtml;\n",
              "        element.appendChild(docLink);\n",
              "      }\n",
              "    </script>\n",
              "  </div>\n",
              "\n",
              "\n",
              "    <div id=\"df-ec966527-ed8d-4f06-862e-cd0170652a0b\">\n",
              "      <button class=\"colab-df-quickchart\" onclick=\"quickchart('df-ec966527-ed8d-4f06-862e-cd0170652a0b')\"\n",
              "                title=\"Suggest charts\"\n",
              "                style=\"display:none;\">\n",
              "\n",
              "<svg xmlns=\"http://www.w3.org/2000/svg\" height=\"24px\"viewBox=\"0 0 24 24\"\n",
              "     width=\"24px\">\n",
              "    <g>\n",
              "        <path d=\"M19 3H5c-1.1 0-2 .9-2 2v14c0 1.1.9 2 2 2h14c1.1 0 2-.9 2-2V5c0-1.1-.9-2-2-2zM9 17H7v-7h2v7zm4 0h-2V7h2v10zm4 0h-2v-4h2v4z\"/>\n",
              "    </g>\n",
              "</svg>\n",
              "      </button>\n",
              "\n",
              "<style>\n",
              "  .colab-df-quickchart {\n",
              "      --bg-color: #E8F0FE;\n",
              "      --fill-color: #1967D2;\n",
              "      --hover-bg-color: #E2EBFA;\n",
              "      --hover-fill-color: #174EA6;\n",
              "      --disabled-fill-color: #AAA;\n",
              "      --disabled-bg-color: #DDD;\n",
              "  }\n",
              "\n",
              "  [theme=dark] .colab-df-quickchart {\n",
              "      --bg-color: #3B4455;\n",
              "      --fill-color: #D2E3FC;\n",
              "      --hover-bg-color: #434B5C;\n",
              "      --hover-fill-color: #FFFFFF;\n",
              "      --disabled-bg-color: #3B4455;\n",
              "      --disabled-fill-color: #666;\n",
              "  }\n",
              "\n",
              "  .colab-df-quickchart {\n",
              "    background-color: var(--bg-color);\n",
              "    border: none;\n",
              "    border-radius: 50%;\n",
              "    cursor: pointer;\n",
              "    display: none;\n",
              "    fill: var(--fill-color);\n",
              "    height: 32px;\n",
              "    padding: 0;\n",
              "    width: 32px;\n",
              "  }\n",
              "\n",
              "  .colab-df-quickchart:hover {\n",
              "    background-color: var(--hover-bg-color);\n",
              "    box-shadow: 0 1px 2px rgba(60, 64, 67, 0.3), 0 1px 3px 1px rgba(60, 64, 67, 0.15);\n",
              "    fill: var(--button-hover-fill-color);\n",
              "  }\n",
              "\n",
              "  .colab-df-quickchart-complete:disabled,\n",
              "  .colab-df-quickchart-complete:disabled:hover {\n",
              "    background-color: var(--disabled-bg-color);\n",
              "    fill: var(--disabled-fill-color);\n",
              "    box-shadow: none;\n",
              "  }\n",
              "\n",
              "  .colab-df-spinner {\n",
              "    border: 2px solid var(--fill-color);\n",
              "    border-color: transparent;\n",
              "    border-bottom-color: var(--fill-color);\n",
              "    animation:\n",
              "      spin 1s steps(1) infinite;\n",
              "  }\n",
              "\n",
              "  @keyframes spin {\n",
              "    0% {\n",
              "      border-color: transparent;\n",
              "      border-bottom-color: var(--fill-color);\n",
              "      border-left-color: var(--fill-color);\n",
              "    }\n",
              "    20% {\n",
              "      border-color: transparent;\n",
              "      border-left-color: var(--fill-color);\n",
              "      border-top-color: var(--fill-color);\n",
              "    }\n",
              "    30% {\n",
              "      border-color: transparent;\n",
              "      border-left-color: var(--fill-color);\n",
              "      border-top-color: var(--fill-color);\n",
              "      border-right-color: var(--fill-color);\n",
              "    }\n",
              "    40% {\n",
              "      border-color: transparent;\n",
              "      border-right-color: var(--fill-color);\n",
              "      border-top-color: var(--fill-color);\n",
              "    }\n",
              "    60% {\n",
              "      border-color: transparent;\n",
              "      border-right-color: var(--fill-color);\n",
              "    }\n",
              "    80% {\n",
              "      border-color: transparent;\n",
              "      border-right-color: var(--fill-color);\n",
              "      border-bottom-color: var(--fill-color);\n",
              "    }\n",
              "    90% {\n",
              "      border-color: transparent;\n",
              "      border-bottom-color: var(--fill-color);\n",
              "    }\n",
              "  }\n",
              "</style>\n",
              "\n",
              "      <script>\n",
              "        async function quickchart(key) {\n",
              "          const quickchartButtonEl =\n",
              "            document.querySelector('#' + key + ' button');\n",
              "          quickchartButtonEl.disabled = true;  // To prevent multiple clicks.\n",
              "          quickchartButtonEl.classList.add('colab-df-spinner');\n",
              "          try {\n",
              "            const charts = await google.colab.kernel.invokeFunction(\n",
              "                'suggestCharts', [key], {});\n",
              "          } catch (error) {\n",
              "            console.error('Error during call to suggestCharts:', error);\n",
              "          }\n",
              "          quickchartButtonEl.classList.remove('colab-df-spinner');\n",
              "          quickchartButtonEl.classList.add('colab-df-quickchart-complete');\n",
              "        }\n",
              "        (() => {\n",
              "          let quickchartButtonEl =\n",
              "            document.querySelector('#df-ec966527-ed8d-4f06-862e-cd0170652a0b button');\n",
              "          quickchartButtonEl.style.display =\n",
              "            google.colab.kernel.accessAllowed ? 'block' : 'none';\n",
              "        })();\n",
              "      </script>\n",
              "    </div>\n",
              "\n",
              "  <div id=\"id_09e68aa4-f231-489a-b328-91e7b3c3dbb5\">\n",
              "    <style>\n",
              "      .colab-df-generate {\n",
              "        background-color: #E8F0FE;\n",
              "        border: none;\n",
              "        border-radius: 50%;\n",
              "        cursor: pointer;\n",
              "        display: none;\n",
              "        fill: #1967D2;\n",
              "        height: 32px;\n",
              "        padding: 0 0 0 0;\n",
              "        width: 32px;\n",
              "      }\n",
              "\n",
              "      .colab-df-generate:hover {\n",
              "        background-color: #E2EBFA;\n",
              "        box-shadow: 0px 1px 2px rgba(60, 64, 67, 0.3), 0px 1px 3px 1px rgba(60, 64, 67, 0.15);\n",
              "        fill: #174EA6;\n",
              "      }\n",
              "\n",
              "      [theme=dark] .colab-df-generate {\n",
              "        background-color: #3B4455;\n",
              "        fill: #D2E3FC;\n",
              "      }\n",
              "\n",
              "      [theme=dark] .colab-df-generate:hover {\n",
              "        background-color: #434B5C;\n",
              "        box-shadow: 0px 1px 3px 1px rgba(0, 0, 0, 0.15);\n",
              "        filter: drop-shadow(0px 1px 2px rgba(0, 0, 0, 0.3));\n",
              "        fill: #FFFFFF;\n",
              "      }\n",
              "    </style>\n",
              "    <button class=\"colab-df-generate\" onclick=\"generateWithVariable('dataframe_modelo')\"\n",
              "            title=\"Generate code using this dataframe.\"\n",
              "            style=\"display:none;\">\n",
              "\n",
              "  <svg xmlns=\"http://www.w3.org/2000/svg\" height=\"24px\"viewBox=\"0 0 24 24\"\n",
              "       width=\"24px\">\n",
              "    <path d=\"M7,19H8.4L18.45,9,17,7.55,7,17.6ZM5,21V16.75L18.45,3.32a2,2,0,0,1,2.83,0l1.4,1.43a1.91,1.91,0,0,1,.58,1.4,1.91,1.91,0,0,1-.58,1.4L9.25,21ZM18.45,9,17,7.55Zm-12,3A5.31,5.31,0,0,0,4.9,8.1,5.31,5.31,0,0,0,1,6.5,5.31,5.31,0,0,0,4.9,4.9,5.31,5.31,0,0,0,6.5,1,5.31,5.31,0,0,0,8.1,4.9,5.31,5.31,0,0,0,12,6.5,5.46,5.46,0,0,0,6.5,12Z\"/>\n",
              "  </svg>\n",
              "    </button>\n",
              "    <script>\n",
              "      (() => {\n",
              "      const buttonEl =\n",
              "        document.querySelector('#id_09e68aa4-f231-489a-b328-91e7b3c3dbb5 button.colab-df-generate');\n",
              "      buttonEl.style.display =\n",
              "        google.colab.kernel.accessAllowed ? 'block' : 'none';\n",
              "\n",
              "      buttonEl.onclick = () => {\n",
              "        google.colab.notebook.generateWithVariable('dataframe_modelo');\n",
              "      }\n",
              "      })();\n",
              "    </script>\n",
              "  </div>\n",
              "\n",
              "    </div>\n",
              "  </div>\n"
            ],
            "application/vnd.google.colaboratory.intrinsic+json": {
              "type": "dataframe",
              "variable_name": "dataframe_modelo",
              "summary": "{\n  \"name\": \"dataframe_modelo\",\n  \"rows\": 3,\n  \"fields\": [\n    {\n      \"column\": \"Coeficientes\",\n      \"properties\": {\n        \"dtype\": \"number\",\n        \"std\": 5.316073936339026,\n        \"min\": -0.4893031873877243,\n        \"max\": 9.389351167807472,\n        \"num_unique_values\": 3,\n        \"samples\": [\n          9.389351167807472,\n          1.0454583221977953,\n          -0.4893031873877243\n        ],\n        \"semantic_type\": \"\",\n        \"description\": \"\"\n      }\n    }\n  ]\n}"
            }
          },
          "metadata": {},
          "execution_count": 58
        }
      ]
    },
    {
      "cell_type": "markdown",
      "source": [
        "Os coeficientes estimados foram:\n",
        "\n",
        "| Variável         | Coeficiente | Interpretação |\n",
        "|------------------|-------------|---------------|\n",
        "| **Intercepto**   | 9.389       | Valor base do log do preço dos imóveis quando as variáveis independentes são zero (referência matemática, sem interpretação direta prática). |\n",
        "| **log_Area**     | 1.045       | Relação positiva: imóveis com maior área têm maior valor. Um aumento de 1% na área do imóvel está associado a um aumento aproximado de **1,045% no preço**. |\n",
        "| **log_Dist_Praia** | -0.489     | Relação negativa: imóveis mais distantes da praia tendem a valer menos. Um aumento de 1% na distância da praia reduz o valor do imóvel em cerca de **0,489%**. |\n"
      ],
      "metadata": {
        "id": "ocCnZQ0FZdGp"
      }
    },
    {
      "cell_type": "markdown",
      "source": [
        "## 5.4. Análises Gráficas dos resultados do modelo.\n",
        "\n",
        "---------------"
      ],
      "metadata": {
        "id": "Sub552Y2bRIP"
      }
    },
    {
      "cell_type": "code",
      "source": [
        "y_previsto_treino = modelo_regressao_sem_dist_farmacia.predict(x_treino) # previsao do y treino apartir dos dados do x de treino\n",
        "ax = sns.scatterplot(x=y_previsto_treino, y = y_treino)\n",
        "ax.set_xlabel('Previsto') # o  que foi previsto pelo modelo de treino\n",
        "ax.set_ylabel('Real') # o que é real nos dados do y de treino\n",
        "ax.set_title('Previsto x Real')"
      ],
      "metadata": {
        "colab": {
          "base_uri": "https://localhost:8080/",
          "height": 489
        },
        "id": "VxxOf7SVfmVn",
        "outputId": "42e85a00-f136-4c07-f13e-355787188432"
      },
      "execution_count": 61,
      "outputs": [
        {
          "output_type": "execute_result",
          "data": {
            "text/plain": [
              "Text(0.5, 1.0, 'Previsto x Real')"
            ]
          },
          "metadata": {},
          "execution_count": 61
        },
        {
          "output_type": "display_data",
          "data": {
            "text/plain": [
              "<Figure size 640x480 with 1 Axes>"
            ],
            "image/png": "[encoded data removed]"
          },
          "metadata": {}
        }
      ]
    },
    {
      "cell_type": "code",
      "source": [
        "residuo = y_previsto_treino - y_treino\n",
        "ax = sns.scatterplot(x=y_previsto_treino, y = residuo)"
      ],
      "metadata": {
        "colab": {
          "base_uri": "https://localhost:8080/",
          "height": 430
        },
        "id": "BbmyT5CngoAT",
        "outputId": "fe3c4d17-5a20-4b32-a0d2-5a8e7ff31fc8"
      },
      "execution_count": 62,
      "outputs": [
        {
          "output_type": "display_data",
          "data": {
            "text/plain": [
              "<Figure size 640x480 with 1 Axes>"
            ],
            "image/png": "[encoded data removed]"
          },
          "metadata": {}
        }
      ]
    },
    {
      "cell_type": "markdown",
      "source": [
        "- Vemos um comportamento normal e aleatorio do residuo, sem muitas anomalias ou vieses"
      ],
      "metadata": {
        "id": "pkncgtjZgzrE"
      }
    },
    {
      "cell_type": "markdown",
      "source": [
        "- potando a distribuição:"
      ],
      "metadata": {
        "id": "rvgZbJ7xg6C9"
      }
    },
    {
      "cell_type": "code",
      "source": [
        "ax = sns.distplot(residuo)"
      ],
      "metadata": {
        "colab": {
          "base_uri": "https://localhost:8080/",
          "height": 641
        },
        "id": "eVKKEagIgFSo",
        "outputId": "1aeb3e95-8b3f-45c6-b260-4688282754a9"
      },
      "execution_count": 65,
      "outputs": [
        {
          "output_type": "stream",
          "name": "stderr",
          "text": [
            "/tmp/ipython-input-208189129.py:1: UserWarning: \n",
            "\n",
            "`distplot` is a deprecated function and will be removed in seaborn v0.14.0.\n",
            "\n",
            "Please adapt your code to use either `displot` (a figure-level function with\n",
            "similar flexibility) or `histplot` (an axes-level function for histograms).\n",
            "\n",
            "For a guide to updating your code to use the new functions, please see\n",
            "https://gist.github.com/mwaskom/de44147ed2974457ad6372750bbe5751\n",
            "\n",
            "  ax = sns.distplot(residuo)\n"
          ]
        },
        {
          "output_type": "display_data",
          "data": {
            "text/plain": [
              "<Figure size 640x480 with 1 Axes>"
            ],
            "image/png": "[encoded data removed]"
          },
          "metadata": {}
        }
      ]
    },
    {
      "cell_type": "markdown",
      "source": [
        "- residuo parecendo realmente se comportando como uma normal."
      ],
      "metadata": {
        "id": "xdtujyRHhHIU"
      }
    }
  ]
}